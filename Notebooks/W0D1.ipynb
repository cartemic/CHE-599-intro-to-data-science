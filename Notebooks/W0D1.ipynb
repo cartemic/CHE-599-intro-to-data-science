{
 "cells": [
  {
   "cell_type": "markdown",
   "metadata": {},
   "source": [
    "## continued from last time\n",
    "* dimensionality reduction: extract the most salient features from the data, compression\n",
    "    * e.g. on x1, x2 plot: really only one dimension that matters: distance along best fit line; you don't need both features to describe the data, you only need one feature that's a combination of them both\n",
    "* anomaly detection: we learn the \"structure\" of our data, assumed to consist of normal data. When new data point is collected, we can determine if it falls outside the structure of the normal data (i.e. if it is anomalous)"
   ]
  },
  {
   "cell_type": "markdown",
   "metadata": {
    "ExecuteTime": {
     "end_time": "2019-09-27T10:26:58.216000-07:00",
     "start_time": "2019-09-27T17:26:56.258Z"
    }
   },
   "source": [
    "# Types"
   ]
  },
  {
   "cell_type": "code",
   "execution_count": 4,
   "metadata": {
    "ExecuteTime": {
     "end_time": "2019-09-27T10:27:51.668000-07:00",
     "start_time": "2019-09-27T17:27:51.663Z"
    }
   },
   "outputs": [
    {
     "data": {
      "text/plain": [
       "Symbol"
      ]
     },
     "execution_count": 4,
     "metadata": {},
     "output_type": "execute_result"
    }
   ],
   "source": [
    "# symbols: fancy strings\n",
    "my_name = :Cory\n",
    "typeof(my_name)"
   ]
  },
  {
   "cell_type": "markdown",
   "metadata": {},
   "source": [
    "# Big Takeaway\n",
    "Julia has mostly the same shit as python\n",
    "\n",
    "including a `!` before a function performs it in place, with the output variable as the first arg\n",
    "\n",
    "`push` appends\n",
    "\n",
    "`pushfirst` appends to first element"
   ]
  },
  {
   "cell_type": "code",
   "execution_count": null,
   "metadata": {},
   "outputs": [],
   "source": []
  }
 ],
 "metadata": {
  "kernelspec": {
   "display_name": "Julia 1.0.4",
   "language": "julia",
   "name": "julia-1.0"
  },
  "language_info": {
   "file_extension": ".jl",
   "mimetype": "application/julia",
   "name": "julia",
   "version": "1.0.4"
  }
 },
 "nbformat": 4,
 "nbformat_minor": 2
}
