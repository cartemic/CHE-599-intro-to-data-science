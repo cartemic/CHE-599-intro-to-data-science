{
 "cells": [
  {
   "cell_type": "code",
   "execution_count": 1,
   "metadata": {
    "ExecuteTime": {
     "end_time": "2019-12-06T01:05:09.698000-08:00",
     "start_time": "2019-12-06T09:04:56.002Z"
    }
   },
   "outputs": [
    {
     "name": "stderr",
     "output_type": "stream",
     "text": [
      "┌ Warning: Module model_selection has been ported to Julia - try `import ScikitLearn: CrossValidation` instead\n",
      "└ @ ScikitLearn.Skcore C:\\Users\\cartemic\\.julia\\packages\\ScikitLearn\\bo2Pt\\src\\Skcore.jl:140\n"
     ]
    }
   ],
   "source": [
    "using CSV, DataFrames, PyPlot, PyCall, StatsBase, ScikitLearn, Statistics\n",
    "\n",
    "sns = pyimport(\"seaborn\")\n",
    "sns.set_context(\"notebook\")\n",
    "sns.set_palette(\"muted\")\n",
    "\n",
    "# @sk_import svm : LinearSVR\n",
    "@sk_import feature_selection : RFE\n",
    "@sk_import model_selection : train_test_split\n",
    "\n",
    "ENV[\"COLUMNS\"] = 300;"
   ]
  },
  {
   "cell_type": "markdown",
   "metadata": {},
   "source": [
    "Method (Using https://scikit-learn.org/stable/tutorial/machine_learning_map/index.html)\n",
    "* Regression\n",
    "* Total samples 6497 < 100k\n",
    "* 12 features... doesn't feel like \"few\"\n",
    "* Linear SVR, and SVR with \"rbf\" kernel if LSVR \"doesn't work\"\n",
    "\n",
    "Steps:\n",
    "* Read in data\n",
    "* Visualize data\n",
    "* Shape data for sklearn\n",
    "* Figure out which input variables are least important\n",
    "  * Regression with all data\n",
    "  * https://blog.minitab.com/blog/adventures-in-statistics-2/how-to-identify-the-most-important-predictor-variables-in-regression-models\n",
    "  * Repeat regression with all but the ith input variable\n",
    "      * track $\\Delta R^{2}$\n",
    "* Reduce data\n",
    "* Investigate best train/test split\n",
    "* \n",
    "\n",
    "**try LinearSVR and Linear regression**"
   ]
  },
  {
   "cell_type": "markdown",
   "metadata": {},
   "source": [
    "## Load Data\n",
    "Load in red and white wine dataframes, check for the correct number of entries, and combine into a single dataframe"
   ]
  },
  {
   "cell_type": "code",
   "execution_count": 2,
   "metadata": {
    "ExecuteTime": {
     "end_time": "2019-12-06T01:05:20.818000-08:00",
     "start_time": "2019-12-06T09:04:57.442Z"
    }
   },
   "outputs": [
    {
     "data": {
      "text/html": [
       "<table class=\"data-frame\"><thead><tr><th></th><th>fixed acidity</th><th>volatile acidity</th><th>citric acid</th><th>residual sugar</th><th>chlorides</th><th>free sulfur dioxide</th><th>total sulfur dioxide</th><th>density</th><th>pH</th><th>sulphates</th><th>alcohol</th><th>quality</th><th>color</th></tr><tr><th></th><th>Float64</th><th>Float64</th><th>Float64</th><th>Float64</th><th>Float64</th><th>Float64</th><th>Float64</th><th>Float64</th><th>Float64</th><th>Float64</th><th>Float64</th><th>Int64</th><th>Int64</th></tr></thead><tbody><p>5 rows × 13 columns</p><tr><th>1</th><td>7.4</td><td>0.7</td><td>0.0</td><td>1.9</td><td>0.076</td><td>11.0</td><td>34.0</td><td>0.9978</td><td>3.51</td><td>0.56</td><td>9.4</td><td>5</td><td>1</td></tr><tr><th>2</th><td>7.8</td><td>0.88</td><td>0.0</td><td>2.6</td><td>0.098</td><td>25.0</td><td>67.0</td><td>0.9968</td><td>3.2</td><td>0.68</td><td>9.8</td><td>5</td><td>1</td></tr><tr><th>3</th><td>7.8</td><td>0.76</td><td>0.04</td><td>2.3</td><td>0.092</td><td>15.0</td><td>54.0</td><td>0.997</td><td>3.26</td><td>0.65</td><td>9.8</td><td>5</td><td>1</td></tr><tr><th>4</th><td>11.2</td><td>0.28</td><td>0.56</td><td>1.9</td><td>0.075</td><td>17.0</td><td>60.0</td><td>0.998</td><td>3.16</td><td>0.58</td><td>9.8</td><td>6</td><td>1</td></tr><tr><th>5</th><td>7.4</td><td>0.7</td><td>0.0</td><td>1.9</td><td>0.076</td><td>11.0</td><td>34.0</td><td>0.9978</td><td>3.51</td><td>0.56</td><td>9.4</td><td>5</td><td>1</td></tr></tbody></table>"
      ],
      "text/latex": [
       "\\begin{tabular}{r|ccccccccccccc}\n",
       "\t& fixed acidity & volatile acidity & citric acid & residual sugar & chlorides & free sulfur dioxide & total sulfur dioxide & density & pH & sulphates & alcohol & quality & color\\\\\n",
       "\t\\hline\n",
       "\t& Float64 & Float64 & Float64 & Float64 & Float64 & Float64 & Float64 & Float64 & Float64 & Float64 & Float64 & Int64 & Int64\\\\\n",
       "\t\\hline\n",
       "\t1 & 7.4 & 0.7 & 0.0 & 1.9 & 0.076 & 11.0 & 34.0 & 0.9978 & 3.51 & 0.56 & 9.4 & 5 & 1 \\\\\n",
       "\t2 & 7.8 & 0.88 & 0.0 & 2.6 & 0.098 & 25.0 & 67.0 & 0.9968 & 3.2 & 0.68 & 9.8 & 5 & 1 \\\\\n",
       "\t3 & 7.8 & 0.76 & 0.04 & 2.3 & 0.092 & 15.0 & 54.0 & 0.997 & 3.26 & 0.65 & 9.8 & 5 & 1 \\\\\n",
       "\t4 & 11.2 & 0.28 & 0.56 & 1.9 & 0.075 & 17.0 & 60.0 & 0.998 & 3.16 & 0.58 & 9.8 & 6 & 1 \\\\\n",
       "\t5 & 7.4 & 0.7 & 0.0 & 1.9 & 0.076 & 11.0 & 34.0 & 0.9978 & 3.51 & 0.56 & 9.4 & 5 & 1 \\\\\n",
       "\\end{tabular}\n"
      ],
      "text/plain": [
       "5×13 DataFrame\n",
       "│ Row │ fixed acidity │ volatile acidity │ citric acid │ residual sugar │ chlorides │ free sulfur dioxide │ total sulfur dioxide │ density │ pH      │ sulphates │ alcohol │ quality │ color │\n",
       "│     │ \u001b[90mFloat64\u001b[39m       │ \u001b[90mFloat64\u001b[39m          │ \u001b[90mFloat64\u001b[39m     │ \u001b[90mFloat64\u001b[39m        │ \u001b[90mFloat64\u001b[39m   │ \u001b[90mFloat64\u001b[39m             │ \u001b[90mFloat64\u001b[39m              │ \u001b[90mFloat64\u001b[39m │ \u001b[90mFloat64\u001b[39m │ \u001b[90mFloat64\u001b[39m   │ \u001b[90mFloat64\u001b[39m │ \u001b[90mInt64\u001b[39m   │ \u001b[90mInt64\u001b[39m │\n",
       "├─────┼───────────────┼──────────────────┼─────────────┼────────────────┼───────────┼─────────────────────┼──────────────────────┼─────────┼─────────┼───────────┼─────────┼─────────┼───────┤\n",
       "│ 1   │ 7.4           │ 0.7              │ 0.0         │ 1.9            │ 0.076     │ 11.0                │ 34.0                 │ 0.9978  │ 3.51    │ 0.56      │ 9.4     │ 5       │ 1     │\n",
       "│ 2   │ 7.8           │ 0.88             │ 0.0         │ 2.6            │ 0.098     │ 25.0                │ 67.0                 │ 0.9968  │ 3.2     │ 0.68      │ 9.8     │ 5       │ 1     │\n",
       "│ 3   │ 7.8           │ 0.76             │ 0.04        │ 2.3            │ 0.092     │ 15.0                │ 54.0                 │ 0.997   │ 3.26    │ 0.65      │ 9.8     │ 5       │ 1     │\n",
       "│ 4   │ 11.2          │ 0.28             │ 0.56        │ 1.9            │ 0.075     │ 17.0                │ 60.0                 │ 0.998   │ 3.16    │ 0.58      │ 9.8     │ 6       │ 1     │\n",
       "│ 5   │ 7.4           │ 0.7              │ 0.0         │ 1.9            │ 0.076     │ 11.0                │ 34.0                 │ 0.9978  │ 3.51    │ 0.56      │ 9.4     │ 5       │ 1     │"
      ]
     },
     "execution_count": 2,
     "metadata": {},
     "output_type": "execute_result"
    }
   ],
   "source": [
    "df_red = CSV.read(\"winequality-red.csv\")\n",
    "n_red = nrow(df_red)\n",
    "@assert n_red == 1599\n",
    "\n",
    "df_white = CSV.read(\"winequality-white.csv\")\n",
    "n_white = nrow(df_white)\n",
    "@assert n_white == 4898\n",
    "@assert names(df_red) == names(df_white)\n",
    "\n",
    "# code red as 1 and white as -1, since 0 would make any beta useless\n",
    "df_red.color = ones(Int, n_red)\n",
    "df_white.color = -1 * ones(Int, n_white)\n",
    "\n",
    "df = [df_red; df_white]\n",
    "n_wines = n_red + n_white\n",
    "(df_red, df_white) = (nothing, nothing)\n",
    "first(df, 5)"
   ]
  },
  {
   "cell_type": "markdown",
   "metadata": {
    "ExecuteTime": {
     "end_time": "2019-12-05T01:57:07.270000-08:00",
     "start_time": "2019-12-05T09:57:07.269Z"
    }
   },
   "source": [
    "### Reshape data for sklearn"
   ]
  },
  {
   "cell_type": "code",
   "execution_count": 3,
   "metadata": {
    "ExecuteTime": {
     "end_time": "2019-12-06T01:05:21.182000-08:00",
     "start_time": "2019-12-06T09:04:59.265Z"
    }
   },
   "outputs": [],
   "source": [
    "features = [n for n in names(df) if n != :quality]\n",
    "n_features = length(features)\n",
    "X = ones(n_wines, n_features) * NaN\n",
    "y = df[!, :quality]\n",
    "for (i, f) in enumerate(features)\n",
    "    X[:, i] = df[!, f] # ./ maximum(df[!, f])  # scale to eliminate convergence problems due to bad conditioning\n",
    "    # see https://stackoverflow.com/questions/52670012/convergencewarning-liblinear-failed-to-converge-increase-the-number-of-iterati\n",
    "end"
   ]
  },
  {
   "cell_type": "code",
   "execution_count": 4,
   "metadata": {
    "ExecuteTime": {
     "end_time": "2019-12-06T01:05:21.676000-08:00",
     "start_time": "2019-12-06T09:05:00.384Z"
    }
   },
   "outputs": [
    {
     "data": {
      "text/plain": [
       "PyObject MinMaxScaler(copy=True, feature_range=(0, 1))"
      ]
     },
     "execution_count": 4,
     "metadata": {},
     "output_type": "execute_result"
    }
   ],
   "source": [
    "@sk_import preprocessing : StandardScaler\n",
    "@sk_import preprocessing : MinMaxScaler\n",
    "@sk_import preprocessing : RobustScaler\n",
    "scaler = MinMaxScaler()\n",
    "scaler.fit(X)\n",
    "# X = scaler.transform(X)"
   ]
  },
  {
   "cell_type": "code",
   "execution_count": 336,
   "metadata": {
    "ExecuteTime": {
     "end_time": "2019-12-05T02:19:50.232000-08:00",
     "start_time": "2019-12-05T10:19:50.005Z"
    }
   },
   "outputs": [
    {
     "data": {
      "image/png": "[encoded data removed]",
      "text/plain": [
       "Figure(PyObject <Figure size 1000x400 with 1 Axes>)"
      ]
     },
     "metadata": {},
     "output_type": "display_data"
    }
   ],
   "source": [
    "# n_target_features = 6\n",
    "# fig, ax = subplots(figsize=(10, 4))\n",
    "# df_features = DataFrame(\n",
    "#     :features => features,\n",
    "#     :targets => abs.(pearson_correlation[n_features+1, 1:n_features])\n",
    "# )\n",
    "# sort!(df_features, cols=:targets, rev=true)\n",
    "# facecolor=\"oldlace\"\n",
    "# palette = [i > n_target_features ? \"#95a5a6\" : \"#e74c3c\" for i in 1:n_features]\n",
    "# sns.barplot(df_features.features, df_features.targets, ax=ax, palette=palette, alpha=0.7)\n",
    "# ax.set_xticklabels(df_features.features, rotation=90)\n",
    "# ax.set_ylabel(\"Correlation Magnitude\")\n",
    "# ax.set_title(\"Magnitude of Feature Correlation With Output\", weight=\"bold\")\n",
    "# ax.set_facecolor(facecolor)\n",
    "# sns.despine()"
   ]
  },
  {
   "cell_type": "markdown",
   "metadata": {},
   "source": [
    "## Define Colors\n",
    "You can't have good data viz without a decent palette"
   ]
  },
  {
   "cell_type": "code",
   "execution_count": 148,
   "metadata": {
    "ExecuteTime": {
     "end_time": "2019-12-05T23:43:26.626000-08:00",
     "start_time": "2019-12-06T07:43:26.472Z"
    }
   },
   "outputs": [
    {
     "data": {
      "image/png": "[encoded data removed]",
      "text/plain": [
       "Figure(PyObject <Figure size 700x100 with 1 Axes>)"
      ]
     },
     "metadata": {},
     "output_type": "display_data"
    },
    {
     "data": {
      "image/png": "[encoded data removed]",
      "text/plain": [
       "Figure(PyObject <Figure size 500x100 with 1 Axes>)"
      ]
     },
     "metadata": {},
     "output_type": "display_data"
    }
   ],
   "source": [
    "# from colorbrewer, with face and dark colors added by me. They don't appear\n",
    "# to be black-and-white safe\n",
    "brewed_colors = Dict(\n",
    "    :green => \"#66c2a5\",\n",
    "    :red =>\"#fc8d62\",\n",
    "    :blue => \"#8da0cb\",\n",
    "    :face => \"#fdf5e7\",\n",
    "    :dark => \"#2c2c2c\"\n",
    ")\n",
    "\n",
    "# colors that I think look nice together, which are black-and-white safe\n",
    "# (different gray levels when desaturated) as well as colorblind safe per\n",
    "# investigation via gimp's colorblind simulation filters\n",
    "my_colors = Dict(\n",
    "    :face => \"#fdf5e7\",\n",
    "    :dark => \"#2c2c2c\",\n",
    "    :red => \"#e78d7e\",\n",
    "    :lt_blue => \"#4db5de\",\n",
    "    :dk_blue => \"#23487d\",\n",
    "    :purple => \"#7d5aab\",\n",
    "    :gray => \"#c3cac6\"\n",
    ")\n",
    "figure()\n",
    "sns.palplot([my_colors[c] for c in keys(my_colors)])\n",
    "title(\"My Palette\", weight=\"bold\")\n",
    "axis(\"off\")\n",
    "figure()\n",
    "sns.palplot([brewed_colors[c] for c in keys(brewed_colors)])\n",
    "title(\"Brewed Palette\", weight=\"bold\")\n",
    "axis(\"off\");"
   ]
  },
  {
   "cell_type": "code",
   "execution_count": 36,
   "metadata": {
    "ExecuteTime": {
     "end_time": "2019-12-05T19:22:08.628000-08:00",
     "start_time": "2019-12-06T03:22:08.087Z"
    }
   },
   "outputs": [
    {
     "data": {
      "text/plain": [
       "6497-element Array{Int64,1}:\n",
       " 5\n",
       " 5\n",
       " 5\n",
       " 6\n",
       " 5\n",
       " 5\n",
       " 5\n",
       " 7\n",
       " 7\n",
       " 5\n",
       " 5\n",
       " 5\n",
       " 5\n",
       " ⋮\n",
       " 7\n",
       " 7\n",
       " 5\n",
       " 6\n",
       " 6\n",
       " 6\n",
       " 5\n",
       " 6\n",
       " 5\n",
       " 6\n",
       " 7\n",
       " 6"
      ]
     },
     "execution_count": 36,
     "metadata": {},
     "output_type": "execute_result"
    }
   ],
   "source": [
    "# trim down the feature matrix\n",
    "# features = features[selector.ranking_ .== 1]\n",
    "# X = X[:, selector.ranking_ .== 1]\n",
    "y\n"
   ]
  },
  {
   "cell_type": "code",
   "execution_count": 35,
   "metadata": {
    "ExecuteTime": {
     "end_time": "2019-12-05T19:20:47.942000-08:00",
     "start_time": "2019-12-06T03:20:47.692Z"
    }
   },
   "outputs": [
    {
     "data": {
      "text/plain": [
       "2-element Array{Array,1}:\n",
       " [0.14247326517042827 2.188832919994 … 0.1930967712748237 -0.9154641642010458; 0.4510357232102707 3.2822349449551016 … 0.9995786202955752 -0.5800681329544298; … ; -1.3231984105188255 -0.30169391463961837 … -1.0166260022563038 1.9354021013951879; -0.937495337969022 -0.7876503701778853 … -1.4198669267666797 1.0969120232786487]\n",
       " Symbol[Symbol(\"fixed acidity\"), Symbol(\"volatile acidity\"), Symbol(\"residual sugar\"), :density, :sulphates, :alcohol]                                                                                                                                                                                                                "
      ]
     },
     "execution_count": 35,
     "metadata": {},
     "output_type": "execute_result"
    }
   ],
   "source": [
    "[X[:, selector.ranking_ .== 1], features[selector.ranking_ .== 1]]"
   ]
  },
  {
   "cell_type": "code",
   "execution_count": 6,
   "metadata": {
    "ExecuteTime": {
     "end_time": "2019-12-05T04:04:53.961000-08:00",
     "start_time": "2019-12-05T12:04:53.314Z"
    }
   },
   "outputs": [
    {
     "data": {
      "text/plain": [
       "6-element Array{Symbol,1}:\n",
       " Symbol(\"volatile acidity\")    \n",
       " Symbol(\"residual sugar\")      \n",
       " Symbol(\"free sulfur dioxide\") \n",
       " Symbol(\"total sulfur dioxide\")\n",
       " :sulphates                    \n",
       " :alcohol                      "
      ]
     },
     "execution_count": 6,
     "metadata": {},
     "output_type": "execute_result"
    }
   ],
   "source": [
    "features[selector.ranking_ .== 1]"
   ]
  },
  {
   "cell_type": "code",
   "execution_count": 22,
   "metadata": {
    "ExecuteTime": {
     "end_time": "2019-12-05T03:48:36.639000-08:00",
     "start_time": "2019-12-05T11:48:36.592Z"
    },
    "scrolled": true
   },
   "outputs": [
    {
     "data": {
      "text/plain": [
       "5×6 Array{Float64,2}:\n",
       " 0.443038  0.0288754  0.0380623  0.875312  0.28   0.630872\n",
       " 0.556962  0.0395137  0.0865052  0.798005  0.34   0.657718\n",
       " 0.481013  0.0349544  0.0519031  0.812968  0.325  0.657718\n",
       " 0.177215  0.0288754  0.0588235  0.78803   0.29   0.657718\n",
       " 0.443038  0.0288754  0.0380623  0.875312  0.28   0.630872"
      ]
     },
     "execution_count": 22,
     "metadata": {},
     "output_type": "execute_result"
    }
   ],
   "source": [
    "X[1:5, selector.ranking_ .== 1]"
   ]
  },
  {
   "cell_type": "code",
   "execution_count": null,
   "metadata": {},
   "outputs": [],
   "source": []
  },
  {
   "cell_type": "code",
   "execution_count": null,
   "metadata": {},
   "outputs": [],
   "source": []
  },
  {
   "cell_type": "markdown",
   "metadata": {},
   "source": [
    "## Split Data"
   ]
  },
  {
   "cell_type": "code",
   "execution_count": 7,
   "metadata": {
    "ExecuteTime": {
     "end_time": "2019-12-06T01:05:49.734000-08:00",
     "start_time": "2019-12-06T09:05:48.937Z"
    }
   },
   "outputs": [
    {
     "name": "stdout",
     "output_type": "stream",
     "text": [
      "Data Separated\n",
      "\n",
      "test points\t\t15600\n",
      "train points\t\t49884\n",
      "validation points\t12480\n"
     ]
    }
   ],
   "source": [
    "X_tv, X_test, y_tv, y_test = train_test_split(\n",
    "    X,\n",
    "    y,\n",
    "    train_size=0.8,\n",
    "    shuffle=true\n",
    ")\n",
    "X_train, X_validate, y_train, y_validate = train_test_split(\n",
    "    X_tv,\n",
    "    y_tv,\n",
    "    train_size=0.8,\n",
    "    shuffle=true\n",
    ")\n",
    "println(\"Data Separated\")\n",
    "println()\n",
    "println(\"test points\\t\\t\", length(X_test))\n",
    "println(\"train points\\t\\t\", length(X_train))\n",
    "println(\"validation points\\t\", length(X_validate))"
   ]
  },
  {
   "cell_type": "markdown",
   "metadata": {
    "ExecuteTime": {
     "end_time": "2019-12-04T23:49:03.603000-08:00",
     "start_time": "2019-12-05T07:49:03.513Z"
    }
   },
   "source": [
    "## Feature Selection\n",
    "feature selection using recursive feature elimination to find out which are the most important features"
   ]
  },
  {
   "cell_type": "code",
   "execution_count": 159,
   "metadata": {
    "ExecuteTime": {
     "end_time": "2019-12-05T21:09:05.907000-08:00",
     "start_time": "2019-12-06T05:09:05.903Z"
    },
    "scrolled": false
   },
   "outputs": [
    {
     "data": {
      "text/plain": [
       "find_important_features"
      ]
     },
     "execution_count": 159,
     "metadata": {},
     "output_type": "execute_result"
    }
   ],
   "source": [
    "\"\"\"\n",
    "Trims features using recursive feature elimination\n",
    "https://scikit-learn.org/stable/modules/generated/sklearn.feature_selection.RFE.html\n",
    "\n",
    "# Parameters\n",
    "X : Feature vector array\n",
    "y : Target vector\n",
    "feature_names : Array of feature names corresponding to columns of X\n",
    "reg : instance of a sklearn estimator, which must output either `coef_` or `feature_importances_`\n",
    "\n",
    "# Returns\n",
    "Array of indices of important features (those with a ranking of 1)\n",
    "\"\"\"\n",
    "function find_important_features(\n",
    "        X::Array{Float64},\n",
    "        y::Array{Int64},\n",
    "        feature_names::Array{Symbol},\n",
    "        reg::PyObject\n",
    "    )\n",
    "    selector = RFE(reg)\n",
    "    selector.fit(X, y)\n",
    "    ranking = selector.ranking_\n",
    "    return [i for i in 1:length(ranking) if ranking[i]==1]\n",
    "#     return [\n",
    "#         X[:, selector.ranking_ .== 1],\n",
    "#         features[selector.ranking_ .== 1]\n",
    "#     ]\n",
    "end"
   ]
  },
  {
   "cell_type": "code",
   "execution_count": 110,
   "metadata": {
    "ExecuteTime": {
     "end_time": "2019-12-05T20:23:12.852000-08:00",
     "start_time": "2019-12-06T04:23:12.497Z"
    }
   },
   "outputs": [
    {
     "data": {
      "text/plain": [
       "6-element Array{Int64,1}:\n",
       "  2\n",
       "  4\n",
       "  6\n",
       "  7\n",
       "  9\n",
       " 11"
      ]
     },
     "execution_count": 110,
     "metadata": {},
     "output_type": "execute_result"
    }
   ],
   "source": [
    "reg = LinearSVR()\n",
    "find_important_features(\n",
    "    X_train,\n",
    "    y_train,\n",
    "    features,\n",
    "    reg\n",
    ")"
   ]
  },
  {
   "cell_type": "markdown",
   "metadata": {},
   "source": [
    "## Tune Parameters"
   ]
  },
  {
   "cell_type": "code",
   "execution_count": 129,
   "metadata": {
    "ExecuteTime": {
     "end_time": "2019-12-05T20:28:48.303000-08:00",
     "start_time": "2019-12-06T04:28:48.297Z"
    }
   },
   "outputs": [
    {
     "data": {
      "text/plain": [
       "PyObject <class 'sklearn.linear_model._base.LinearRegression'>"
      ]
     },
     "execution_count": 129,
     "metadata": {},
     "output_type": "execute_result"
    }
   ],
   "source": [
    "@sk_import linear_model : LinearRegression"
   ]
  },
  {
   "cell_type": "code",
   "execution_count": 167,
   "metadata": {
    "ExecuteTime": {
     "end_time": "2019-12-05T21:14:23.779000-08:00",
     "start_time": "2019-12-06T05:14:11.137Z"
    }
   },
   "outputs": [
    {
     "name": "stderr",
     "output_type": "stream",
     "text": [
      "C:\\Users\\cartemic\\AppData\\Local\\Continuum\\anaconda3\\envs\\DataScience\\lib\\site-packages\\sklearn\\svm\\_base.py:947: ConvergenceWarning: Liblinear failed to converge, increase the number of iterations.\r\n",
      "  \"the number of iterations.\", ConvergenceWarning)\r\n",
      "C:\\Users\\cartemic\\AppData\\Local\\Continuum\\anaconda3\\envs\\DataScience\\lib\\site-packages\\sklearn\\svm\\_base.py:947: ConvergenceWarning: Liblinear failed to converge, increase the number of iterations.\r\n",
      "  \"the number of iterations.\", ConvergenceWarning)\r\n",
      "C:\\Users\\cartemic\\AppData\\Local\\Continuum\\anaconda3\\envs\\DataScience\\lib\\site-packages\\sklearn\\svm\\_base.py:947: ConvergenceWarning: Liblinear failed to converge, increase the number of iterations.\r\n",
      "  \"the number of iterations.\", ConvergenceWarning)\r\n",
      "C:\\Users\\cartemic\\AppData\\Local\\Continuum\\anaconda3\\envs\\DataScience\\lib\\site-packages\\sklearn\\svm\\_base.py:947: ConvergenceWarning: Liblinear failed to converge, increase the number of iterations.\r\n",
      "  \"the number of iterations.\", ConvergenceWarning)\r\n",
      "C:\\Users\\cartemic\\AppData\\Local\\Continuum\\anaconda3\\envs\\DataScience\\lib\\site-packages\\sklearn\\svm\\_base.py:947: ConvergenceWarning: Liblinear failed to converge, increase the number of iterations.\r\n",
      "  \"the number of iterations.\", ConvergenceWarning)\r\n",
      "C:\\Users\\cartemic\\AppData\\Local\\Continuum\\anaconda3\\envs\\DataScience\\lib\\site-packages\\sklearn\\svm\\_base.py:947: ConvergenceWarning: Liblinear failed to converge, increase the number of iterations.\r\n",
      "  \"the number of iterations.\", ConvergenceWarning)\r\n",
      "C:\\Users\\cartemic\\AppData\\Local\\Continuum\\anaconda3\\envs\\DataScience\\lib\\site-packages\\sklearn\\svm\\_base.py:947: ConvergenceWarning: Liblinear failed to converge, increase the number of iterations.\r\n",
      "  \"the number of iterations.\", ConvergenceWarning)\r\n",
      "C:\\Users\\cartemic\\AppData\\Local\\Continuum\\anaconda3\\envs\\DataScience\\lib\\site-packages\\sklearn\\svm\\_base.py:947: ConvergenceWarning: Liblinear failed to converge, increase the number of iterations.\r\n",
      "  \"the number of iterations.\", ConvergenceWarning)\r\n",
      "C:\\Users\\cartemic\\AppData\\Local\\Continuum\\anaconda3\\envs\\DataScience\\lib\\site-packages\\sklearn\\svm\\_base.py:947: ConvergenceWarning: Liblinear failed to converge, increase the number of iterations.\r\n",
      "  \"the number of iterations.\", ConvergenceWarning)\r\n",
      "C:\\Users\\cartemic\\AppData\\Local\\Continuum\\anaconda3\\envs\\DataScience\\lib\\site-packages\\sklearn\\svm\\_base.py:947: ConvergenceWarning: Liblinear failed to converge, increase the number of iterations.\r\n",
      "  \"the number of iterations.\", ConvergenceWarning)\r\n",
      "C:\\Users\\cartemic\\AppData\\Local\\Continuum\\anaconda3\\envs\\DataScience\\lib\\site-packages\\sklearn\\svm\\_base.py:947: ConvergenceWarning: Liblinear failed to converge, increase the number of iterations.\r\n",
      "  \"the number of iterations.\", ConvergenceWarning)\r\n",
      "C:\\Users\\cartemic\\AppData\\Local\\Continuum\\anaconda3\\envs\\DataScience\\lib\\site-packages\\sklearn\\svm\\_base.py:947: ConvergenceWarning: Liblinear failed to converge, increase the number of iterations.\r\n",
      "  \"the number of iterations.\", ConvergenceWarning)\r\n",
      "C:\\Users\\cartemic\\AppData\\Local\\Continuum\\anaconda3\\envs\\DataScience\\lib\\site-packages\\sklearn\\svm\\_base.py:947: ConvergenceWarning: Liblinear failed to converge, increase the number of iterations.\r\n",
      "  \"the number of iterations.\", ConvergenceWarning)\r\n",
      "C:\\Users\\cartemic\\AppData\\Local\\Continuum\\anaconda3\\envs\\DataScience\\lib\\site-packages\\sklearn\\svm\\_base.py:947: ConvergenceWarning: Liblinear failed to converge, increase the number of iterations.\r\n",
      "  \"the number of iterations.\", ConvergenceWarning)\r\n",
      "C:\\Users\\cartemic\\AppData\\Local\\Continuum\\anaconda3\\envs\\DataScience\\lib\\site-packages\\sklearn\\svm\\_base.py:947: ConvergenceWarning: Liblinear failed to converge, increase the number of iterations.\r\n",
      "  \"the number of iterations.\", ConvergenceWarning)\r\n",
      "C:\\Users\\cartemic\\AppData\\Local\\Continuum\\anaconda3\\envs\\DataScience\\lib\\site-packages\\sklearn\\svm\\_base.py:947: ConvergenceWarning: Liblinear failed to converge, increase the number of iterations.\r\n",
      "  \"the number of iterations.\", ConvergenceWarning)\r\n",
      "C:\\Users\\cartemic\\AppData\\Local\\Continuum\\anaconda3\\envs\\DataScience\\lib\\site-packages\\sklearn\\svm\\_base.py:947: ConvergenceWarning: Liblinear failed to converge, increase the number of iterations.\r\n",
      "  \"the number of iterations.\", ConvergenceWarning)\r\n",
      "C:\\Users\\cartemic\\AppData\\Local\\Continuum\\anaconda3\\envs\\DataScience\\lib\\site-packages\\sklearn\\svm\\_base.py:947: ConvergenceWarning: Liblinear failed to converge, increase the number of iterations.\r\n",
      "  \"the number of iterations.\", ConvergenceWarning)\r\n",
      "C:\\Users\\cartemic\\AppData\\Local\\Continuum\\anaconda3\\envs\\DataScience\\lib\\site-packages\\sklearn\\svm\\_base.py:947: ConvergenceWarning: Liblinear failed to converge, increase the number of iterations.\r\n",
      "  \"the number of iterations.\", ConvergenceWarning)\r\n",
      "C:\\Users\\cartemic\\AppData\\Local\\Continuum\\anaconda3\\envs\\DataScience\\lib\\site-packages\\sklearn\\svm\\_base.py:947: ConvergenceWarning: Liblinear failed to converge, increase the number of iterations.\r\n",
      "  \"the number of iterations.\", ConvergenceWarning)\r\n",
      "C:\\Users\\cartemic\\AppData\\Local\\Continuum\\anaconda3\\envs\\DataScience\\lib\\site-packages\\sklearn\\svm\\_base.py:947: ConvergenceWarning: Liblinear failed to converge, increase the number of iterations.\r\n",
      "  \"the number of iterations.\", ConvergenceWarning)\r\n",
      "C:\\Users\\cartemic\\AppData\\Local\\Continuum\\anaconda3\\envs\\DataScience\\lib\\site-packages\\sklearn\\svm\\_base.py:947: ConvergenceWarning: Liblinear failed to converge, increase the number of iterations.\r\n",
      "  \"the number of iterations.\", ConvergenceWarning)\r\n",
      "C:\\Users\\cartemic\\AppData\\Local\\Continuum\\anaconda3\\envs\\DataScience\\lib\\site-packages\\sklearn\\svm\\_base.py:947: ConvergenceWarning: Liblinear failed to converge, increase the number of iterations.\r\n",
      "  \"the number of iterations.\", ConvergenceWarning)\r\n",
      "C:\\Users\\cartemic\\AppData\\Local\\Continuum\\anaconda3\\envs\\DataScience\\lib\\site-packages\\sklearn\\svm\\_base.py:947: ConvergenceWarning: Liblinear failed to converge, increase the number of iterations.\r\n",
      "  \"the number of iterations.\", ConvergenceWarning)\r\n",
      "C:\\Users\\cartemic\\AppData\\Local\\Continuum\\anaconda3\\envs\\DataScience\\lib\\site-packages\\sklearn\\svm\\_base.py:947: ConvergenceWarning: Liblinear failed to converge, increase the number of iterations.\r\n",
      "  \"the number of iterations.\", ConvergenceWarning)\r\n",
      "C:\\Users\\cartemic\\AppData\\Local\\Continuum\\anaconda3\\envs\\DataScience\\lib\\site-packages\\sklearn\\svm\\_base.py:947: ConvergenceWarning: Liblinear failed to converge, increase the number of iterations.\r\n",
      "  \"the number of iterations.\", ConvergenceWarning)\r\n",
      "C:\\Users\\cartemic\\AppData\\Local\\Continuum\\anaconda3\\envs\\DataScience\\lib\\site-packages\\sklearn\\svm\\_base.py:947: ConvergenceWarning: Liblinear failed to converge, increase the number of iterations.\r\n",
      "  \"the number of iterations.\", ConvergenceWarning)\r\n",
      "C:\\Users\\cartemic\\AppData\\Local\\Continuum\\anaconda3\\envs\\DataScience\\lib\\site-packages\\sklearn\\svm\\_base.py:947: ConvergenceWarning: Liblinear failed to converge, increase the number of iterations.\r\n",
      "  \"the number of iterations.\", ConvergenceWarning)\r\n",
      "C:\\Users\\cartemic\\AppData\\Local\\Continuum\\anaconda3\\envs\\DataScience\\lib\\site-packages\\sklearn\\svm\\_base.py:947: ConvergenceWarning: Liblinear failed to converge, increase the number of iterations.\r\n",
      "  \"the number of iterations.\", ConvergenceWarning)\r\n",
      "C:\\Users\\cartemic\\AppData\\Local\\Continuum\\anaconda3\\envs\\DataScience\\lib\\site-packages\\sklearn\\svm\\_base.py:947: ConvergenceWarning: Liblinear failed to converge, increase the number of iterations.\r\n",
      "  \"the number of iterations.\", ConvergenceWarning)\r\n",
      "C:\\Users\\cartemic\\AppData\\Local\\Continuum\\anaconda3\\envs\\DataScience\\lib\\site-packages\\sklearn\\svm\\_base.py:947: ConvergenceWarning: Liblinear failed to converge, increase the number of iterations.\r\n",
      "  \"the number of iterations.\", ConvergenceWarning)\r\n",
      "C:\\Users\\cartemic\\AppData\\Local\\Continuum\\anaconda3\\envs\\DataScience\\lib\\site-packages\\sklearn\\svm\\_base.py:947: ConvergenceWarning: Liblinear failed to converge, increase the number of iterations.\r\n",
      "  \"the number of iterations.\", ConvergenceWarning)\r\n",
      "C:\\Users\\cartemic\\AppData\\Local\\Continuum\\anaconda3\\envs\\DataScience\\lib\\site-packages\\sklearn\\svm\\_base.py:947: ConvergenceWarning: Liblinear failed to converge, increase the number of iterations.\r\n",
      "  \"the number of iterations.\", ConvergenceWarning)\r\n",
      "C:\\Users\\cartemic\\AppData\\Local\\Continuum\\anaconda3\\envs\\DataScience\\lib\\site-packages\\sklearn\\svm\\_base.py:947: ConvergenceWarning: Liblinear failed to converge, increase the number of iterations.\r\n",
      "  \"the number of iterations.\", ConvergenceWarning)\r\n",
      "C:\\Users\\cartemic\\AppData\\Local\\Continuum\\anaconda3\\envs\\DataScience\\lib\\site-packages\\sklearn\\svm\\_base.py:947: ConvergenceWarning: Liblinear failed to converge, increase the number of iterations.\r\n",
      "  \"the number of iterations.\", ConvergenceWarning)\r\n",
      "C:\\Users\\cartemic\\AppData\\Local\\Continuum\\anaconda3\\envs\\DataScience\\lib\\site-packages\\sklearn\\svm\\_base.py:947: ConvergenceWarning: Liblinear failed to converge, increase the number of iterations.\r\n",
      "  \"the number of iterations.\", ConvergenceWarning)\r\n",
      "C:\\Users\\cartemic\\AppData\\Local\\Continuum\\anaconda3\\envs\\DataScience\\lib\\site-packages\\sklearn\\svm\\_base.py:947: ConvergenceWarning: Liblinear failed to converge, increase the number of iterations.\r\n",
      "  \"the number of iterations.\", ConvergenceWarning)\r\n",
      "C:\\Users\\cartemic\\AppData\\Local\\Continuum\\anaconda3\\envs\\DataScience\\lib\\site-packages\\sklearn\\svm\\_base.py:947: ConvergenceWarning: Liblinear failed to converge, increase the number of iterations.\r\n",
      "  \"the number of iterations.\", ConvergenceWarning)\r\n",
      "C:\\Users\\cartemic\\AppData\\Local\\Continuum\\anaconda3\\envs\\DataScience\\lib\\site-packages\\sklearn\\svm\\_base.py:947: ConvergenceWarning: Liblinear failed to converge, increase the number of iterations.\r\n",
      "  \"the number of iterations.\", ConvergenceWarning)\r\n",
      "C:\\Users\\cartemic\\AppData\\Local\\Continuum\\anaconda3\\envs\\DataScience\\lib\\site-packages\\sklearn\\svm\\_base.py:947: ConvergenceWarning: Liblinear failed to converge, increase the number of iterations.\r\n",
      "  \"the number of iterations.\", ConvergenceWarning)\r\n",
      "C:\\Users\\cartemic\\AppData\\Local\\Continuum\\anaconda3\\envs\\DataScience\\lib\\site-packages\\sklearn\\svm\\_base.py:947: ConvergenceWarning: Liblinear failed to converge, increase the number of iterations.\r\n",
      "  \"the number of iterations.\", ConvergenceWarning)\r\n",
      "C:\\Users\\cartemic\\AppData\\Local\\Continuum\\anaconda3\\envs\\DataScience\\lib\\site-packages\\sklearn\\svm\\_base.py:947: ConvergenceWarning: Liblinear failed to converge, increase the number of iterations.\r\n",
      "  \"the number of iterations.\", ConvergenceWarning)\r\n",
      "C:\\Users\\cartemic\\AppData\\Local\\Continuum\\anaconda3\\envs\\DataScience\\lib\\site-packages\\sklearn\\svm\\_base.py:947: ConvergenceWarning: Liblinear failed to converge, increase the number of iterations.\r\n",
      "  \"the number of iterations.\", ConvergenceWarning)\r\n",
      "C:\\Users\\cartemic\\AppData\\Local\\Continuum\\anaconda3\\envs\\DataScience\\lib\\site-packages\\sklearn\\svm\\_base.py:947: ConvergenceWarning: Liblinear failed to converge, increase the number of iterations.\r\n",
      "  \"the number of iterations.\", ConvergenceWarning)\r\n",
      "C:\\Users\\cartemic\\AppData\\Local\\Continuum\\anaconda3\\envs\\DataScience\\lib\\site-packages\\sklearn\\svm\\_base.py:947: ConvergenceWarning: Liblinear failed to converge, increase the number of iterations.\r\n",
      "  \"the number of iterations.\", ConvergenceWarning)\r\n",
      "C:\\Users\\cartemic\\AppData\\Local\\Continuum\\anaconda3\\envs\\DataScience\\lib\\site-packages\\sklearn\\svm\\_base.py:947: ConvergenceWarning: Liblinear failed to converge, increase the number of iterations.\r\n",
      "  \"the number of iterations.\", ConvergenceWarning)\r\n",
      "C:\\Users\\cartemic\\AppData\\Local\\Continuum\\anaconda3\\envs\\DataScience\\lib\\site-packages\\sklearn\\svm\\_base.py:947: ConvergenceWarning: Liblinear failed to converge, increase the number of iterations.\r\n",
      "  \"the number of iterations.\", ConvergenceWarning)\r\n",
      "C:\\Users\\cartemic\\AppData\\Local\\Continuum\\anaconda3\\envs\\DataScience\\lib\\site-packages\\sklearn\\svm\\_base.py:947: ConvergenceWarning: Liblinear failed to converge, increase the number of iterations.\r\n",
      "  \"the number of iterations.\", ConvergenceWarning)\r\n",
      "C:\\Users\\cartemic\\AppData\\Local\\Continuum\\anaconda3\\envs\\DataScience\\lib\\site-packages\\sklearn\\svm\\_base.py:947: ConvergenceWarning: Liblinear failed to converge, increase the number of iterations.\r\n",
      "  \"the number of iterations.\", ConvergenceWarning)\r\n",
      "C:\\Users\\cartemic\\AppData\\Local\\Continuum\\anaconda3\\envs\\DataScience\\lib\\site-packages\\sklearn\\svm\\_base.py:947: ConvergenceWarning: Liblinear failed to converge, increase the number of iterations.\r\n",
      "  \"the number of iterations.\", ConvergenceWarning)\r\n",
      "C:\\Users\\cartemic\\AppData\\Local\\Continuum\\anaconda3\\envs\\DataScience\\lib\\site-packages\\sklearn\\svm\\_base.py:947: ConvergenceWarning: Liblinear failed to converge, increase the number of iterations.\r\n",
      "  \"the number of iterations.\", ConvergenceWarning)\r\n",
      "C:\\Users\\cartemic\\AppData\\Local\\Continuum\\anaconda3\\envs\\DataScience\\lib\\site-packages\\sklearn\\svm\\_base.py:947: ConvergenceWarning: Liblinear failed to converge, increase the number of iterations.\r\n",
      "  \"the number of iterations.\", ConvergenceWarning)\r\n",
      "C:\\Users\\cartemic\\AppData\\Local\\Continuum\\anaconda3\\envs\\DataScience\\lib\\site-packages\\sklearn\\svm\\_base.py:947: ConvergenceWarning: Liblinear failed to converge, increase the number of iterations.\r\n",
      "  \"the number of iterations.\", ConvergenceWarning)\r\n",
      "C:\\Users\\cartemic\\AppData\\Local\\Continuum\\anaconda3\\envs\\DataScience\\lib\\site-packages\\sklearn\\svm\\_base.py:947: ConvergenceWarning: Liblinear failed to converge, increase the number of iterations.\r\n",
      "  \"the number of iterations.\", ConvergenceWarning)\r\n",
      "C:\\Users\\cartemic\\AppData\\Local\\Continuum\\anaconda3\\envs\\DataScience\\lib\\site-packages\\sklearn\\svm\\_base.py:947: ConvergenceWarning: Liblinear failed to converge, increase the number of iterations.\r\n",
      "  \"the number of iterations.\", ConvergenceWarning)\r\n",
      "C:\\Users\\cartemic\\AppData\\Local\\Continuum\\anaconda3\\envs\\DataScience\\lib\\site-packages\\sklearn\\svm\\_base.py:947: ConvergenceWarning: Liblinear failed to converge, increase the number of iterations.\r\n",
      "  \"the number of iterations.\", ConvergenceWarning)\r\n",
      "C:\\Users\\cartemic\\AppData\\Local\\Continuum\\anaconda3\\envs\\DataScience\\lib\\site-packages\\sklearn\\svm\\_base.py:947: ConvergenceWarning: Liblinear failed to converge, increase the number of iterations.\r\n",
      "  \"the number of iterations.\", ConvergenceWarning)\r\n",
      "C:\\Users\\cartemic\\AppData\\Local\\Continuum\\anaconda3\\envs\\DataScience\\lib\\site-packages\\sklearn\\svm\\_base.py:947: ConvergenceWarning: Liblinear failed to converge, increase the number of iterations.\r\n",
      "  \"the number of iterations.\", ConvergenceWarning)\r\n",
      "C:\\Users\\cartemic\\AppData\\Local\\Continuum\\anaconda3\\envs\\DataScience\\lib\\site-packages\\sklearn\\svm\\_base.py:947: ConvergenceWarning: Liblinear failed to converge, increase the number of iterations.\r\n",
      "  \"the number of iterations.\", ConvergenceWarning)\r\n",
      "C:\\Users\\cartemic\\AppData\\Local\\Continuum\\anaconda3\\envs\\DataScience\\lib\\site-packages\\sklearn\\svm\\_base.py:947: ConvergenceWarning: Liblinear failed to converge, increase the number of iterations.\r\n",
      "  \"the number of iterations.\", ConvergenceWarning)\r\n",
      "C:\\Users\\cartemic\\AppData\\Local\\Continuum\\anaconda3\\envs\\DataScience\\lib\\site-packages\\sklearn\\svm\\_base.py:947: ConvergenceWarning: Liblinear failed to converge, increase the number of iterations.\r\n",
      "  \"the number of iterations.\", ConvergenceWarning)\r\n",
      "C:\\Users\\cartemic\\AppData\\Local\\Continuum\\anaconda3\\envs\\DataScience\\lib\\site-packages\\sklearn\\svm\\_base.py:947: ConvergenceWarning: Liblinear failed to converge, increase the number of iterations.\r\n",
      "  \"the number of iterations.\", ConvergenceWarning)\r\n",
      "C:\\Users\\cartemic\\AppData\\Local\\Continuum\\anaconda3\\envs\\DataScience\\lib\\site-packages\\sklearn\\svm\\_base.py:947: ConvergenceWarning: Liblinear failed to converge, increase the number of iterations.\r\n",
      "  \"the number of iterations.\", ConvergenceWarning)\r\n",
      "C:\\Users\\cartemic\\AppData\\Local\\Continuum\\anaconda3\\envs\\DataScience\\lib\\site-packages\\sklearn\\svm\\_base.py:947: ConvergenceWarning: Liblinear failed to converge, increase the number of iterations.\r\n",
      "  \"the number of iterations.\", ConvergenceWarning)\r\n",
      "C:\\Users\\cartemic\\AppData\\Local\\Continuum\\anaconda3\\envs\\DataScience\\lib\\site-packages\\sklearn\\svm\\_base.py:947: ConvergenceWarning: Liblinear failed to converge, increase the number of iterations.\r\n",
      "  \"the number of iterations.\", ConvergenceWarning)\r\n",
      "C:\\Users\\cartemic\\AppData\\Local\\Continuum\\anaconda3\\envs\\DataScience\\lib\\site-packages\\sklearn\\svm\\_base.py:947: ConvergenceWarning: Liblinear failed to converge, increase the number of iterations.\r\n",
      "  \"the number of iterations.\", ConvergenceWarning)\r\n"
     ]
    },
    {
     "data": {
      "text/plain": [
       "3-element Array{Any,1}:\n",
       " 0.28657800898617203                                                                                                                                                                                                                                                                                                                                                                                                                 \n",
       " 0.1842069969326716                                                                                                                                                                                                                                                                                                                                                                                                                  \n",
       "  [0.21860504409127668, 0.22455161841172366, 0.22836518565340905, 0.21883531098282427, 0.23291437044532148, 0.22631477789516896, 0.2309152774338502, 0.2307858503783441, 0.2241007715990737, 0.2333457082310767  …  0.03886982399029859, -0.2586408086188128, -2.8492055716979867, -0.15071320170677716, -0.6192557287349542, -0.10667581034969165, 0.2791136796947472, 0.1876182173602734, 0.11612803677076733, -1.6354448367640104]"
      ]
     },
     "execution_count": 167,
     "metadata": {},
     "output_type": "execute_result"
    }
   ],
   "source": [
    "function tune_c_parameter(\n",
    "        estimator,\n",
    "        X_train,\n",
    "        y_train,\n",
    "        X_validate,\n",
    "        y_validate;\n",
    "        c_params=10.0 .^ range(-3, stop=0, length=50)\n",
    "    )\n",
    "    scores = [NaN for _ in c_params]\n",
    "    for (i, C) in enumerate(c_params)\n",
    "        reg = estimator(C=C)\n",
    "        reg.fit(X_train, y_train)\n",
    "        scores[i] = reg.score(X_validate, y_validate)\n",
    "    end\n",
    "    return [maximum(scores), c_params[argmax(scores)], scores]\n",
    "end\n",
    "tune_c_parameter(\n",
    "    LinearSVR,\n",
    "    X_train,\n",
    "    y_train,\n",
    "    X_validate,\n",
    "    y_validate\n",
    ")"
   ]
  },
  {
   "cell_type": "code",
   "execution_count": 161,
   "metadata": {
    "ExecuteTime": {
     "end_time": "2019-12-05T21:09:20.443000-08:00",
     "start_time": "2019-12-06T05:09:20.191Z"
    }
   },
   "outputs": [
    {
     "data": {
      "text/plain": [
       "3-element Array{Any,1}:\n",
       " 0.23486164773800347                                                                                                                                                                                                                                                                                                                                                                                                                     \n",
       " 0.372759372031494                                                                                                                                                                                                                                                                                                                                                                                                                       \n",
       "  [-1.2256156217044514, -0.8285171402772984, -0.6355480839163477, -0.486674657422425, -0.3669856977987298, -0.2708972780486594, -0.18502461689752803, -0.09966609047899055, -0.03230582434313445, 0.010351307384456554  …  0.2340257812010046, 0.23398430334873443, 0.23486164773800347, 0.2345625961053297, 0.23452439429709585, 0.23480315641790261, 0.23474838719650593, 0.23432665485655688, 0.23432891040997483, 0.2341592191531583]"
      ]
     },
     "execution_count": 161,
     "metadata": {},
     "output_type": "execute_result"
    }
   ],
   "source": [
    "reg = LinearSVR()\n",
    "important_indices = find_important_features(\n",
    "    X_train,\n",
    "    y_train,\n",
    "    features,\n",
    "    reg\n",
    ")\n",
    "tune_c_parameter(\n",
    "    LinearSVR,\n",
    "    X_train[:, important_indices],\n",
    "    y_train,\n",
    "    X_validate[:, important_indices],\n",
    "    y_validate\n",
    ")"
   ]
  },
  {
   "cell_type": "code",
   "execution_count": 169,
   "metadata": {
    "ExecuteTime": {
     "end_time": "2019-12-05T21:14:37.270000-08:00",
     "start_time": "2019-12-06T05:14:37.266Z"
    }
   },
   "outputs": [
    {
     "data": {
      "text/plain": [
       "0.305219490055992"
      ]
     },
     "execution_count": 169,
     "metadata": {},
     "output_type": "execute_result"
    }
   ],
   "source": [
    "reg = LinearRegression()\n",
    "reg.fit(X_train, y_train)\n",
    "reg.score(X_validate, y_validate)"
   ]
  },
  {
   "cell_type": "code",
   "execution_count": 143,
   "metadata": {
    "ExecuteTime": {
     "end_time": "2019-12-05T20:32:49.147000-08:00",
     "start_time": "2019-12-06T04:32:49.145Z"
    }
   },
   "outputs": [
    {
     "data": {
      "text/plain": [
       "PyObject <class 'sklearn.svm._classes.SVR'>"
      ]
     },
     "execution_count": 143,
     "metadata": {},
     "output_type": "execute_result"
    }
   ],
   "source": [
    "@sk_import svm : SVR"
   ]
  },
  {
   "cell_type": "code",
   "execution_count": 170,
   "metadata": {
    "ExecuteTime": {
     "end_time": "2019-12-05T21:15:06.995000-08:00",
     "start_time": "2019-12-06T05:14:39.050Z"
    }
   },
   "outputs": [
    {
     "data": {
      "text/plain": [
       "3-element Array{Any,1}:\n",
       " 0.15842956609849757                                                                                                                                                                                                                                                                                                                                                                                                                                            \n",
       " 1.0                                                                                                                                                                                                                                                                                                                                                                                                                                                            \n",
       "  [-0.00017600703130127293, -1.954932973280421e-7, 0.00022749090611318135, 0.00047604730562322844, 0.0006662724100668926, 0.0009932439166780993, 0.0013506865220085373, 0.0018281827896979852, 0.0023271450951946045, 0.002916491504642904  …  0.09079492816674395, 0.09602869206606612, 0.10167710471465097, 0.10863826083793338, 0.11543099989662696, 0.12272529287957179, 0.13056415622831585, 0.13881658135187935, 0.14793035412348454, 0.15842956609849757]"
      ]
     },
     "execution_count": 170,
     "metadata": {},
     "output_type": "execute_result"
    }
   ],
   "source": [
    "tune_c_parameter(\n",
    "    SVR,\n",
    "    X_train,\n",
    "    y_train,\n",
    "    X_validate,\n",
    "    y_validate\n",
    ")"
   ]
  },
  {
   "cell_type": "code",
   "execution_count": 154,
   "metadata": {
    "ExecuteTime": {
     "end_time": "2019-12-05T20:44:55.471000-08:00",
     "start_time": "2019-12-06T04:44:29.534Z"
    }
   },
   "outputs": [
    {
     "data": {
      "text/plain": [
       "3-element Array{Any,1}:\n",
       " 0.35304752102097764                                                                                                                                                                                                                                                                                                                                                                                                            \n",
       " 1.0                                                                                                                                                                                                                                                                                                                                                                                                                            \n",
       "  [0.10978298867554004, 0.11865569773292717, 0.12859802389577857, 0.13957277519798572, 0.1515203585462236, 0.16353185629151656, 0.177000551192209, 0.19090298460722044, 0.20450303850669269, 0.21712768806571425  …  0.34579633800988624, 0.3466875121892653, 0.3475876641796619, 0.3480417984238272, 0.34908150002681354, 0.3505496330987474, 0.3514271828283452, 0.35190547782050613, 0.3526999512408123, 0.35304752102097764]"
      ]
     },
     "execution_count": 154,
     "metadata": {},
     "output_type": "execute_result"
    }
   ],
   "source": [
    "tune_c_parameter(\n",
    "    SVR,\n",
    "    X_train[:, important_indices],\n",
    "    y_train,\n",
    "    X_validate[:, important_indices],\n",
    "    y_validate\n",
    ")"
   ]
  },
  {
   "cell_type": "code",
   "execution_count": 171,
   "metadata": {
    "ExecuteTime": {
     "end_time": "2019-12-05T21:17:15.837000-08:00",
     "start_time": "2019-12-06T05:17:15.690Z"
    }
   },
   "outputs": [
    {
     "data": {
      "text/plain": [
       "0.04240067471445663"
      ]
     },
     "execution_count": 171,
     "metadata": {},
     "output_type": "execute_result"
    }
   ],
   "source": [
    "@sk_import tree : DecisionTreeRegressor\n",
    "reg = DecisionTreeRegressor()\n",
    "reg.fit(X_train, y_train)\n",
    "reg.score(X_validate, y_validate)"
   ]
  },
  {
   "cell_type": "code",
   "execution_count": 172,
   "metadata": {
    "ExecuteTime": {
     "end_time": "2019-12-05T21:17:42.604000-08:00",
     "start_time": "2019-12-06T05:17:42.591Z"
    }
   },
   "outputs": [
    {
     "data": {
      "text/plain": [
       "0.13206783842666836"
      ]
     },
     "execution_count": 172,
     "metadata": {},
     "output_type": "execute_result"
    }
   ],
   "source": [
    "@sk_import tree : ExtraTreeRegressor\n",
    "reg = ExtraTreeRegressor()\n",
    "reg.fit(X_train, y_train)\n",
    "reg.score(X_validate, y_validate)"
   ]
  },
  {
   "cell_type": "code",
   "execution_count": 173,
   "metadata": {
    "ExecuteTime": {
     "end_time": "2019-12-05T21:18:48.318000-08:00",
     "start_time": "2019-12-06T05:18:48.289Z"
    }
   },
   "outputs": [
    {
     "data": {
      "text/plain": [
       "0.1330794679659857"
      ]
     },
     "execution_count": 173,
     "metadata": {},
     "output_type": "execute_result"
    }
   ],
   "source": [
    "@sk_import neighbors : KNeighborsRegressor\n",
    "reg = KNeighborsRegressor()\n",
    "reg.fit(X_train, y_train)\n",
    "reg.score(X_validate, y_validate)"
   ]
  },
  {
   "cell_type": "code",
   "execution_count": 174,
   "metadata": {
    "ExecuteTime": {
     "end_time": "2019-12-05T21:19:46.441000-08:00",
     "start_time": "2019-12-06T05:19:44.806Z"
    }
   },
   "outputs": [
    {
     "data": {
      "text/plain": [
       "0.3288940397643757"
      ]
     },
     "execution_count": 174,
     "metadata": {},
     "output_type": "execute_result"
    }
   ],
   "source": [
    "@sk_import neural_network : MLPRegressor\n",
    "reg = MLPRegressor()\n",
    "reg.fit(X_train, y_train)\n",
    "reg.score(X_validate, y_validate)"
   ]
  },
  {
   "cell_type": "code",
   "execution_count": 107,
   "metadata": {
    "ExecuteTime": {
     "end_time": "2019-12-05T23:34:36.040000-08:00",
     "start_time": "2019-12-06T07:33:05.161Z"
    },
    "scrolled": false
   },
   "outputs": [
    {
     "data": {
      "text/html": [
       "<table class=\"data-frame\"><thead><tr><th></th><th>name</th><th>regressor</th><th>score</th></tr><tr><th></th><th>String</th><th>PyObject</th><th>Float64</th></tr></thead><tbody><p>23 rows × 3 columns</p><tr><th>1</th><td>LinearRegression</td><td>PyObject &lt;class 'sklearn.linear_model._base.LinearRegression'&gt;</td><td>0.262576</td></tr><tr><th>2</th><td>Ridge</td><td>PyObject &lt;class 'sklearn.linear_model._ridge.Ridge'&gt;</td><td>0.255499</td></tr><tr><th>3</th><td>ElasticNet</td><td>PyObject &lt;class 'sklearn.linear_model._coordinate_descent.ElasticNet'&gt;</td><td>0.00592456</td></tr><tr><th>4</th><td>Lars</td><td>PyObject &lt;class 'sklearn.linear_model._least_angle.Lars'&gt;</td><td>0.262576</td></tr><tr><th>5</th><td>Lasso</td><td>PyObject &lt;class 'sklearn.linear_model._coordinate_descent.Lasso'&gt;</td><td>0.00411392</td></tr><tr><th>6</th><td>OrthogonalMatchingPursuit</td><td>PyObject &lt;class 'sklearn.linear_model._omp.OrthogonalMatchingPursuit'&gt;</td><td>0.178464</td></tr><tr><th>7</th><td>ARDRegression</td><td>PyObject &lt;class 'sklearn.linear_model._bayes.ARDRegression'&gt;</td><td>0.265729</td></tr><tr><th>8</th><td>BayesianRidge</td><td>PyObject &lt;class 'sklearn.linear_model._bayes.BayesianRidge'&gt;</td><td>0.255538</td></tr><tr><th>9</th><td>HuberRegressor</td><td>PyObject &lt;class 'sklearn.linear_model._huber.HuberRegressor'&gt;</td><td>0.224407</td></tr><tr><th>10</th><td>KernelRidge</td><td>PyObject &lt;class 'sklearn.kernel_ridge.KernelRidge'&gt;</td><td>0.255368</td></tr><tr><th>11</th><td>SVR</td><td>PyObject &lt;class 'sklearn.svm._classes.SVR'&gt;</td><td>0.137516</td></tr><tr><th>12</th><td>NuSVR</td><td>PyObject &lt;class 'sklearn.svm._classes.NuSVR'&gt;</td><td>0.136976</td></tr><tr><th>13</th><td>DecisionTreeRegressor</td><td>PyObject &lt;class 'sklearn.tree._classes.DecisionTreeRegressor'&gt;</td><td>0.0587119</td></tr><tr><th>14</th><td>ExtraTreeRegressor</td><td>PyObject &lt;class 'sklearn.tree._classes.ExtraTreeRegressor'&gt;</td><td>0.0377068</td></tr><tr><th>15</th><td>AdaBoostRegressor</td><td>PyObject &lt;class 'sklearn.ensemble._weight_boosting.AdaBoostRegressor'&gt;</td><td>0.264054</td></tr><tr><th>16</th><td>BaggingRegressor</td><td>PyObject &lt;class 'sklearn.ensemble._bagging.BaggingRegressor'&gt;</td><td>0.423333</td></tr><tr><th>17</th><td>ExtraTreesRegressor</td><td>PyObject &lt;class 'sklearn.ensemble._forest.ExtraTreesRegressor'&gt;</td><td>0.501599</td></tr><tr><th>18</th><td>GradientBoostingRegressor</td><td>PyObject &lt;class 'sklearn.ensemble._gb.GradientBoostingRegressor'&gt;</td><td>0.36763</td></tr><tr><th>19</th><td>RandomForestRegressor</td><td>PyObject &lt;class 'sklearn.ensemble._forest.RandomForestRegressor'&gt;</td><td>0.478816</td></tr><tr><th>20</th><td>KNeighborsRegressor</td><td>PyObject &lt;class 'sklearn.neighbors._regression.KNeighborsRegressor'&gt;</td><td>0.134382</td></tr><tr><th>21</th><td>MLPRegressor</td><td>PyObject &lt;class 'sklearn.neural_network._multilayer_perceptron.MLPRegressor'&gt;</td><td>0.245747</td></tr><tr><th>22</th><td>DecisionTreeRegressor</td><td>PyObject &lt;class 'sklearn.tree._classes.DecisionTreeRegressor'&gt;</td><td>0.0967835</td></tr><tr><th>23</th><td>ExtraTreeRegressor</td><td>PyObject &lt;class 'sklearn.tree._classes.ExtraTreeRegressor'&gt;</td><td>0.0416453</td></tr></tbody></table>"
      ],
      "text/latex": [
       "\\begin{tabular}{r|ccc}\n",
       "\t& name & regressor & score\\\\\n",
       "\t\\hline\n",
       "\t& String & PyObject & Float64\\\\\n",
       "\t\\hline\n",
       "\t1 & LinearRegression & PyObject <class 'sklearn.linear\\_model.\\_base.LinearRegression'> & 0.262576 \\\\\n",
       "\t2 & Ridge & PyObject <class 'sklearn.linear\\_model.\\_ridge.Ridge'> & 0.255499 \\\\\n",
       "\t3 & ElasticNet & PyObject <class 'sklearn.linear\\_model.\\_coordinate\\_descent.ElasticNet'> & 0.00592456 \\\\\n",
       "\t4 & Lars & PyObject <class 'sklearn.linear\\_model.\\_least\\_angle.Lars'> & 0.262576 \\\\\n",
       "\t5 & Lasso & PyObject <class 'sklearn.linear\\_model.\\_coordinate\\_descent.Lasso'> & 0.00411392 \\\\\n",
       "\t6 & OrthogonalMatchingPursuit & PyObject <class 'sklearn.linear\\_model.\\_omp.OrthogonalMatchingPursuit'> & 0.178464 \\\\\n",
       "\t7 & ARDRegression & PyObject <class 'sklearn.linear\\_model.\\_bayes.ARDRegression'> & 0.265729 \\\\\n",
       "\t8 & BayesianRidge & PyObject <class 'sklearn.linear\\_model.\\_bayes.BayesianRidge'> & 0.255538 \\\\\n",
       "\t9 & HuberRegressor & PyObject <class 'sklearn.linear\\_model.\\_huber.HuberRegressor'> & 0.224407 \\\\\n",
       "\t10 & KernelRidge & PyObject <class 'sklearn.kernel\\_ridge.KernelRidge'> & 0.255368 \\\\\n",
       "\t11 & SVR & PyObject <class 'sklearn.svm.\\_classes.SVR'> & 0.137516 \\\\\n",
       "\t12 & NuSVR & PyObject <class 'sklearn.svm.\\_classes.NuSVR'> & 0.136976 \\\\\n",
       "\t13 & DecisionTreeRegressor & PyObject <class 'sklearn.tree.\\_classes.DecisionTreeRegressor'> & 0.0587119 \\\\\n",
       "\t14 & ExtraTreeRegressor & PyObject <class 'sklearn.tree.\\_classes.ExtraTreeRegressor'> & 0.0377068 \\\\\n",
       "\t15 & AdaBoostRegressor & PyObject <class 'sklearn.ensemble.\\_weight\\_boosting.AdaBoostRegressor'> & 0.264054 \\\\\n",
       "\t16 & BaggingRegressor & PyObject <class 'sklearn.ensemble.\\_bagging.BaggingRegressor'> & 0.423333 \\\\\n",
       "\t17 & ExtraTreesRegressor & PyObject <class 'sklearn.ensemble.\\_forest.ExtraTreesRegressor'> & 0.501599 \\\\\n",
       "\t18 & GradientBoostingRegressor & PyObject <class 'sklearn.ensemble.\\_gb.GradientBoostingRegressor'> & 0.36763 \\\\\n",
       "\t19 & RandomForestRegressor & PyObject <class 'sklearn.ensemble.\\_forest.RandomForestRegressor'> & 0.478816 \\\\\n",
       "\t20 & KNeighborsRegressor & PyObject <class 'sklearn.neighbors.\\_regression.KNeighborsRegressor'> & 0.134382 \\\\\n",
       "\t21 & MLPRegressor & PyObject <class 'sklearn.neural\\_network.\\_multilayer\\_perceptron.MLPRegressor'> & 0.245747 \\\\\n",
       "\t22 & DecisionTreeRegressor & PyObject <class 'sklearn.tree.\\_classes.DecisionTreeRegressor'> & 0.0967835 \\\\\n",
       "\t23 & ExtraTreeRegressor & PyObject <class 'sklearn.tree.\\_classes.ExtraTreeRegressor'> & 0.0416453 \\\\\n",
       "\\end{tabular}\n"
      ],
      "text/plain": [
       "23×3 DataFrame\n",
       "│ Row │ name                      │ regressor                                                                     │ score      │\n",
       "│     │ \u001b[90mString\u001b[39m                    │ \u001b[90mPyObject\u001b[39m                                                                      │ \u001b[90mFloat64\u001b[39m    │\n",
       "├─────┼───────────────────────────┼───────────────────────────────────────────────────────────────────────────────┼────────────┤\n",
       "│ 1   │ LinearRegression          │ PyObject <class 'sklearn.linear_model._base.LinearRegression'>                │ 0.262576   │\n",
       "│ 2   │ Ridge                     │ PyObject <class 'sklearn.linear_model._ridge.Ridge'>                          │ 0.255499   │\n",
       "│ 3   │ ElasticNet                │ PyObject <class 'sklearn.linear_model._coordinate_descent.ElasticNet'>        │ 0.00592456 │\n",
       "│ 4   │ Lars                      │ PyObject <class 'sklearn.linear_model._least_angle.Lars'>                     │ 0.262576   │\n",
       "│ 5   │ Lasso                     │ PyObject <class 'sklearn.linear_model._coordinate_descent.Lasso'>             │ 0.00411392 │\n",
       "│ 6   │ OrthogonalMatchingPursuit │ PyObject <class 'sklearn.linear_model._omp.OrthogonalMatchingPursuit'>        │ 0.178464   │\n",
       "│ 7   │ ARDRegression             │ PyObject <class 'sklearn.linear_model._bayes.ARDRegression'>                  │ 0.265729   │\n",
       "│ 8   │ BayesianRidge             │ PyObject <class 'sklearn.linear_model._bayes.BayesianRidge'>                  │ 0.255538   │\n",
       "│ 9   │ HuberRegressor            │ PyObject <class 'sklearn.linear_model._huber.HuberRegressor'>                 │ 0.224407   │\n",
       "│ 10  │ KernelRidge               │ PyObject <class 'sklearn.kernel_ridge.KernelRidge'>                           │ 0.255368   │\n",
       "│ 11  │ SVR                       │ PyObject <class 'sklearn.svm._classes.SVR'>                                   │ 0.137516   │\n",
       "│ 12  │ NuSVR                     │ PyObject <class 'sklearn.svm._classes.NuSVR'>                                 │ 0.136976   │\n",
       "│ 13  │ DecisionTreeRegressor     │ PyObject <class 'sklearn.tree._classes.DecisionTreeRegressor'>                │ 0.0587119  │\n",
       "│ 14  │ ExtraTreeRegressor        │ PyObject <class 'sklearn.tree._classes.ExtraTreeRegressor'>                   │ 0.0377068  │\n",
       "│ 15  │ AdaBoostRegressor         │ PyObject <class 'sklearn.ensemble._weight_boosting.AdaBoostRegressor'>        │ 0.264054   │\n",
       "│ 16  │ BaggingRegressor          │ PyObject <class 'sklearn.ensemble._bagging.BaggingRegressor'>                 │ 0.423333   │\n",
       "│ 17  │ ExtraTreesRegressor       │ PyObject <class 'sklearn.ensemble._forest.ExtraTreesRegressor'>               │ 0.501599   │\n",
       "│ 18  │ GradientBoostingRegressor │ PyObject <class 'sklearn.ensemble._gb.GradientBoostingRegressor'>             │ 0.36763    │\n",
       "│ 19  │ RandomForestRegressor     │ PyObject <class 'sklearn.ensemble._forest.RandomForestRegressor'>             │ 0.478816   │\n",
       "│ 20  │ KNeighborsRegressor       │ PyObject <class 'sklearn.neighbors._regression.KNeighborsRegressor'>          │ 0.134382   │\n",
       "│ 21  │ MLPRegressor              │ PyObject <class 'sklearn.neural_network._multilayer_perceptron.MLPRegressor'> │ 0.245747   │\n",
       "│ 22  │ DecisionTreeRegressor     │ PyObject <class 'sklearn.tree._classes.DecisionTreeRegressor'>                │ 0.0967835  │\n",
       "│ 23  │ ExtraTreeRegressor        │ PyObject <class 'sklearn.tree._classes.ExtraTreeRegressor'>                   │ 0.0416453  │"
      ]
     },
     "execution_count": 107,
     "metadata": {},
     "output_type": "execute_result"
    }
   ],
   "source": [
    "# @sk_import linear_model : LinearRegression\n",
    "# @sk_import linear_model : Ridge\n",
    "# @sk_import linear_model : ElasticNet\n",
    "# @sk_import linear_model : Lars\n",
    "# @sk_import linear_model : Lasso\n",
    "# @sk_import linear_model : LassoLars\n",
    "# @sk_import linear_model : OrthogonalMatchingPursuit\n",
    "# @sk_import linear_model : ARDRegression\n",
    "# @sk_import linear_model : BayesianRidge\n",
    "# @sk_import linear_model : HuberRegressor\n",
    "# @sk_import linear_model : RANSACRegressor\n",
    "# @sk_import linear_model : TheilSenRegressor\n",
    "# @sk_import linear_model : PassiveAggressiveRegressor\n",
    "# @sk_import kernel_ridge : KernelRidge\n",
    "# @sk_import svm : SVR\n",
    "# @sk_import svm : LinearSVR\n",
    "# @sk_import svm : NuSVR\n",
    "# @sk_import ensemble : AdaBoostRegressor\n",
    "# @sk_import ensemble : BaggingRegressor\n",
    "# @sk_import ensemble : ExtraTreesRegressor\n",
    "# @sk_import ensemble : GradientBoostingRegressor\n",
    "# @sk_import ensemble : RandomForestRegressor\n",
    "# # @sk_import ensemble : StackingRegressor need input\n",
    "# # @sk_import ensemble : VotingRegressor need input\n",
    "# @sk_import gaussian_process : GaussianProcessRegressor\n",
    "# @sk_import neighbors : KNeighborsRegressor\n",
    "# @sk_import neighbors : RadiusNeighborsRegressor\n",
    "# @sk_import neural_network : MLPRegressor\n",
    "# @sk_import tree : DecisionTreeRegressor\n",
    "# @sk_import tree : ExtraTreeRegressor\n",
    "\n",
    "regressors = DataFrame(\n",
    "    name=[\"LinearRegression\",\"Ridge\",\"ElasticNet\",\"Lars\",\"Lasso\",\"LassoLars\",\n",
    "            \"OrthogonalMatchingPursuit\",\n",
    "            \"ARDRegression\",\n",
    "            \"BayesianRidge\",\n",
    "            \"HuberRegressor\",\n",
    "            \"RANSACRegressor\",\n",
    "            \"TheilSenRegressor\",\n",
    "            \"PassiveAggressiveRegressor\",\n",
    "            \"KernelRidge\",\n",
    "            \"SVR\",\n",
    "            \"LinearSVR\",\n",
    "            \"NuSVR\",\n",
    "            \"DecisionTreeRegressor\",\n",
    "            \"ExtraTreeRegressor\",\n",
    "            \"AdaBoostRegressor\",\n",
    "            \"BaggingRegressor\",\n",
    "            \"ExtraTreesRegressor\",\n",
    "            \"GradientBoostingRegressor\",\n",
    "            \"RandomForestRegressor\",\n",
    "            \"GaussianProcessRegressor\",\n",
    "            \"KNeighborsRegressor\",\n",
    "            \"RadiusNeighborsRegressor\",\n",
    "            \"MLPRegressor\",\n",
    "            \"DecisionTreeRegressor\",\n",
    "            \"ExtraTreeRegressor\"],\n",
    "        regressor=[LinearRegression,\n",
    "        Ridge,\n",
    "        ElasticNet,\n",
    "        Lars,\n",
    "        Lasso,\n",
    "        LassoLars,\n",
    "        OrthogonalMatchingPursuit,\n",
    "        ARDRegression,\n",
    "        BayesianRidge,\n",
    "        HuberRegressor,\n",
    "        RANSACRegressor,\n",
    "        TheilSenRegressor,\n",
    "        PassiveAggressiveRegressor,\n",
    "        KernelRidge,\n",
    "        SVR,\n",
    "        LinearSVR,\n",
    "        NuSVR,\n",
    "        DecisionTreeRegressor,\n",
    "        ExtraTreeRegressor,\n",
    "        AdaBoostRegressor,\n",
    "        BaggingRegressor,\n",
    "        ExtraTreesRegressor,\n",
    "        GradientBoostingRegressor,\n",
    "        RandomForestRegressor,\n",
    "        GaussianProcessRegressor,\n",
    "        KNeighborsRegressor,\n",
    "        RadiusNeighborsRegressor,\n",
    "        MLPRegressor,\n",
    "        DecisionTreeRegressor,\n",
    "        ExtraTreeRegressor]\n",
    ")\n",
    "regressors[!, :score] = [NaN for _ in 1:nrow(regressors)]\n",
    "for i in 1:nrow(regressors)\n",
    "    reg = regressors[i, :regressor]()\n",
    "    reg.fit(X_train, y_train)\n",
    "    score = reg.score(X_validate, y_validate)\n",
    "    regressors[i, :score] = score >= 0.0 ? score : NaN\n",
    "end\n",
    "filter!(row->!isnan(row[:score]), regressors)"
   ]
  },
  {
   "cell_type": "code",
   "execution_count": 176,
   "metadata": {
    "ExecuteTime": {
     "end_time": "2019-12-05T23:53:19.655000-08:00",
     "start_time": "2019-12-06T07:53:19.412Z"
    }
   },
   "outputs": [
    {
     "data": {
      "image/png": "[encoded data removed]",
      "text/plain": [
       "Figure(PyObject <Figure size 1000x600 with 1 Axes>)"
      ]
     },
     "metadata": {},
     "output_type": "display_data"
    }
   ],
   "source": [
    "sort!(regressors, :score, rev=true)\n",
    "fig, ax = subplots(figsize=(10, 6))\n",
    "ax.bar(regressors[!, :name], regressors[!, :score], color=my_colors[:red])\n",
    "xticks(rotation=90)\n",
    "# ax.set_facecolor(my_colors[:gray])\n",
    "sns.despine()"
   ]
  },
  {
   "cell_type": "code",
   "execution_count": 180,
   "metadata": {
    "ExecuteTime": {
     "end_time": "2019-12-05T23:58:35.965000-08:00",
     "start_time": "2019-12-06T07:58:28.208Z"
    }
   },
   "outputs": [
    {
     "name": "stdout",
     "output_type": "stream",
     "text": [
      "1 0.49402178010101094\n",
      "2 0.5050222484224134\n",
      "3 0.5050288124959763\n",
      "4 0.5112670454473731\n",
      "5 0.5041639301633065\n",
      "6 0.5069402707175414\n",
      "7 0.5144665061834836\n",
      "8 0.5066803334044441\n",
      "9 0.5092668409512353\n",
      "10 0.506531591497505\n",
      "11 0.50685060547267\n",
      "12 0.499710074969294\n"
     ]
    }
   ],
   "source": [
    "# max_features = [\"auto\", \"sqrt\", \"log2\"]\n",
    "max_features = 1:length(features)\n",
    "for mf in max_features\n",
    "    reg = ExtraTreesRegressor(max_features=mf)\n",
    "    reg.fit(X_train, y_train)\n",
    "    println(mf, \" \", reg.score(X_validate, y_validate))\n",
    "end"
   ]
  },
  {
   "cell_type": "code",
   "execution_count": 186,
   "metadata": {
    "ExecuteTime": {
     "end_time": "2019-12-06T00:02:13.508000-08:00",
     "start_time": "2019-12-06T08:01:26.032Z"
    }
   },
   "outputs": [
    {
     "name": "stdout",
     "output_type": "stream",
     "text": [
      "mse 0.5037652283350857\n",
      "mae 0.4973429387609806\n"
     ]
    }
   ],
   "source": [
    "for mf in [\"mse\", \"mae\"]\n",
    "    reg = ExtraTreesRegressor(criterion=mf)\n",
    "    reg.fit(X_train, y_train)\n",
    "    println(mf, \" \", reg.score(X_validate, y_validate))\n",
    "end"
   ]
  },
  {
   "cell_type": "code",
   "execution_count": 12,
   "metadata": {
    "ExecuteTime": {
     "end_time": "2019-12-06T01:09:00.504000-08:00",
     "start_time": "2019-12-06T09:08:34.856Z"
    }
   },
   "outputs": [],
   "source": [
    "n_est = 10 .^ range(0, stop=3)\n",
    "n_est = vcat(n_est, 5 * n_est)\n",
    "est_scores = [NaN for _ in n_est]\n",
    "for (i, est) in enumerate(n_est)\n",
    "    reg = ExtraTreesRegressor(n_estimators=est, n_jobs=-1)\n",
    "    reg.fit(X_tv, y_tv)\n",
    "    est_scores[i] = reg.score(X_test, y_test)\n",
    "end"
   ]
  },
  {
   "cell_type": "code",
   "execution_count": 13,
   "metadata": {
    "ExecuteTime": {
     "end_time": "2019-12-06T01:09:00.867000-08:00",
     "start_time": "2019-12-06T09:08:36.841Z"
    }
   },
   "outputs": [
    {
     "data": {
      "image/png": "[encoded data removed]",
      "text/plain": [
       "Figure(PyObject <Figure size 640x480 with 1 Axes>)"
      ]
     },
     "metadata": {},
     "output_type": "display_data"
    },
    {
     "data": {
      "text/plain": [
       "1-element Array{PyObject,1}:\n",
       " PyObject <matplotlib.lines.Line2D object at 0x000000004674AC18>"
      ]
     },
     "execution_count": 13,
     "metadata": {},
     "output_type": "execute_result"
    }
   ],
   "source": [
    "semilogx(n_est, est_scores, \".\")"
   ]
  },
  {
   "cell_type": "code",
   "execution_count": 45,
   "metadata": {
    "ExecuteTime": {
     "end_time": "2019-12-06T01:47:52.781000-08:00",
     "start_time": "2019-12-06T09:47:27.568Z"
    },
    "scrolled": false
   },
   "outputs": [
    {
     "name": "stdout",
     "output_type": "stream",
     "text": [
      "Fitting 5 folds for each of 10 candidates, totalling 50 fits"
     ]
    },
    {
     "name": "stderr",
     "output_type": "stream",
     "text": [
      "WARNING: redefining constant ExtraTreesRegressor\n"
     ]
    },
    {
     "name": "stdout",
     "output_type": "stream",
     "text": [
      "\n"
     ]
    },
    {
     "data": {
      "text/plain": [
       "RandomizedSearchCV\n",
       "  estimator: PyObject\n",
       "  param_distributions: Dict{Symbol,Array{Int64,1}}\n",
       "  n_iter: Int64 10\n",
       "  scoring: Nothing nothing\n",
       "  fit_params: Dict{Any,Any}\n",
       "  n_jobs: Int64 1\n",
       "  iid: Bool true\n",
       "  refit: Bool true\n",
       "  cv: Int64 5\n",
       "  verbose: Int64 1\n",
       "  random_state: Random.MersenneTwister\n",
       "  error_score: String \"raise\"\n",
       "  scorer_: score (function of type typeof(ScikitLearnBase.score))\n",
       "  grid_scores_: Array{ScikitLearn.Skcore.CVScoreTuple}((10,))\n",
       "  best_estimator_: PyObject\n",
       "  best_score_: Float64 0.512712307691972\n",
       "  best_params_: Dict{Symbol,Any}\n"
      ]
     },
     "execution_count": 45,
     "metadata": {},
     "output_type": "execute_result"
    }
   ],
   "source": [
    "using ScikitLearn.GridSearch: RandomizedSearchCV\n",
    "using ScikitLearn: fit!\n",
    "@sk_import ensemble : ExtraTreesRegressor\n",
    "n_est = 10 .^ range(0, stop=3)\n",
    "n_est = vcat(n_est, 5 * n_est)\n",
    "reg = ExtraTreesRegressor(n_jobs=-1)\n",
    "gsc = RandomizedSearchCV(\n",
    "    estimator=reg,\n",
    "    param_distributions=Dict(\n",
    "        :n_estimators => n_est,\n",
    "        :max_features => [length(features)],\n",
    "    ),\n",
    "    cv=5,\n",
    "    verbose=1\n",
    ")\n",
    "fit!(gsc, X_tv, y_tv)"
   ]
  },
  {
   "cell_type": "code",
   "execution_count": 46,
   "metadata": {
    "ExecuteTime": {
     "end_time": "2019-12-06T01:47:58.913000-08:00",
     "start_time": "2019-12-06T09:47:58.912Z"
    }
   },
   "outputs": [
    {
     "data": {
      "text/plain": [
       "Dict{Symbol,Any} with 2 entries:\n",
       "  :max_features => 12\n",
       "  :n_estimators => 1000"
      ]
     },
     "execution_count": 46,
     "metadata": {},
     "output_type": "execute_result"
    }
   ],
   "source": [
    "bp = gsc.best_params_"
   ]
  },
  {
   "cell_type": "code",
   "execution_count": 47,
   "metadata": {
    "ExecuteTime": {
     "end_time": "2019-12-06T01:48:04.773000-08:00",
     "start_time": "2019-12-06T09:48:01.632Z"
    }
   },
   "outputs": [
    {
     "data": {
      "text/plain": [
       "0.5586806184422052"
      ]
     },
     "execution_count": 47,
     "metadata": {},
     "output_type": "execute_result"
    }
   ],
   "source": [
    "reg = ExtraTreesRegressor(\n",
    "    n_jobs=-1,\n",
    "    max_features=bp[:max_features],\n",
    "    n_estimators=bp[:n_estimators]\n",
    ")\n",
    "reg.fit(X_tv, y_tv)\n",
    "reg.score(X_test, y_test)"
   ]
  },
  {
   "cell_type": "code",
   "execution_count": null,
   "metadata": {},
   "outputs": [],
   "source": [
    "ExtraTreesRegressor()"
   ]
  },
  {
   "cell_type": "markdown",
   "metadata": {},
   "source": [
    "## Fit model"
   ]
  },
  {
   "cell_type": "markdown",
   "metadata": {},
   "source": [
    "## Validate model"
   ]
  },
  {
   "cell_type": "code",
   "execution_count": null,
   "metadata": {},
   "outputs": [],
   "source": [
    "reg = LinearSVR()"
   ]
  },
  {
   "cell_type": "code",
   "execution_count": 51,
   "metadata": {
    "ExecuteTime": {
     "end_time": "2019-12-05T19:37:05.216000-08:00",
     "start_time": "2019-12-06T03:37:04.687Z"
    }
   },
   "outputs": [
    {
     "data": {
      "text/plain": [
       "6-element Array{Symbol,1}:\n",
       " Symbol(\"volatile acidity\")    \n",
       " Symbol(\"residual sugar\")      \n",
       " Symbol(\"free sulfur dioxide\") \n",
       " Symbol(\"total sulfur dioxide\")\n",
       " :sulphates                    \n",
       " :alcohol                      "
      ]
     },
     "execution_count": 51,
     "metadata": {},
     "output_type": "execute_result"
    }
   ],
   "source": [
    "[Symbol(\"volatile acidity\"), Symbol(\"residual sugar\"), Symbol(\"free sulfur dioxide\"), Symbol(\"total sulfur dioxide\"), :sulphates, :alcohol]"
   ]
  },
  {
   "cell_type": "code",
   "execution_count": 53,
   "metadata": {
    "ExecuteTime": {
     "end_time": "2019-12-05T19:37:25.429000-08:00",
     "start_time": "2019-12-06T03:37:25.422Z"
    }
   },
   "outputs": [
    {
     "data": {
      "text/plain": [
       "6-element Array{Symbol,1}:\n",
       " Symbol(\"volatile acidity\")    \n",
       " Symbol(\"residual sugar\")      \n",
       " Symbol(\"free sulfur dioxide\") \n",
       " Symbol(\"total sulfur dioxide\")\n",
       " :pH                           \n",
       " :alcohol                      "
      ]
     },
     "execution_count": 53,
     "metadata": {},
     "output_type": "execute_result"
    }
   ],
   "source": [
    "Symbol[Symbol(\"volatile acidity\"), Symbol(\"residual sugar\"), Symbol(\"free sulfur dioxide\"), Symbol(\"total sulfur dioxide\"), :pH, :alcohol] "
   ]
  }
 ],
 "metadata": {
  "kernelspec": {
   "display_name": "Julia 1.2.0",
   "language": "julia",
   "name": "julia-1.2"
  },
  "language_info": {
   "file_extension": ".jl",
   "mimetype": "application/julia",
   "name": "julia",
   "version": "1.2.0"
  }
 },
 "nbformat": 4,
 "nbformat_minor": 2
}
