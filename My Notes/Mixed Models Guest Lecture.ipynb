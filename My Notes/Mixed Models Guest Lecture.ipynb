{
 "cells": [
  {
   "cell_type": "markdown",
   "metadata": {},
   "source": [
    "McElreath (2015) - statistical rethinking\n",
    "Wood - Generalized Additive Models (good for wiggly data)\n",
    "\n",
    "mixed models with random slope and intercepts will skew fits towards the global (pooled) mean trend\n"
   ]
  }
 ],
 "metadata": {
  "kernelspec": {
   "display_name": "Julia 1.2.0",
   "language": "julia",
   "name": "julia-1.2"
  },
  "language_info": {
   "file_extension": ".jl",
   "mimetype": "application/julia",
   "name": "julia",
   "version": "1.2.0"
  }
 },
 "nbformat": 4,
 "nbformat_minor": 2
}
