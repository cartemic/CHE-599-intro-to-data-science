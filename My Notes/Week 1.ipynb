{
 "cells": [
  {
   "cell_type": "markdown",
   "metadata": {},
   "source": [
    "Use `import` to keep shit where it belongs, or `using` to pollute your namespace. There is no `import as`.\n",
    "\n",
    "`joinpath` is the os agnostic path builder (`os.path.join`)"
   ]
  },
  {
   "cell_type": "code",
   "execution_count": 4,
   "metadata": {
    "ExecuteTime": {
     "end_time": "2019-10-02T10:42:33.511000-07:00",
     "start_time": "2019-10-02T17:41:28.234Z"
    }
   },
   "outputs": [],
   "source": [
    "import DataFrames\n",
    "import CSV"
   ]
  },
  {
   "cell_type": "code",
   "execution_count": 5,
   "metadata": {
    "ExecuteTime": {
     "end_time": "2019-10-02T10:42:43.715000-07:00",
     "start_time": "2019-10-02T17:41:38.571Z"
    }
   },
   "outputs": [
    {
     "data": {
      "text/html": [
       "<table class=\"data-frame\"><thead><tr><th></th><th>col1</th><th>col2</th></tr><tr><th></th><th>Int32</th><th>String</th></tr></thead><tbody><p>4 rows × 2 columns</p><tr><th>1</th><td>0</td><td>a</td></tr><tr><th>2</th><td>1</td><td>b</td></tr><tr><th>3</th><td>2</td><td>c</td></tr><tr><th>4</th><td>3</td><td>d</td></tr></tbody></table>"
      ],
      "text/latex": [
       "\\begin{tabular}{r|cc}\n",
       "\t& col1 & col2\\\\\n",
       "\t\\hline\n",
       "\t& Int32 & String\\\\\n",
       "\t\\hline\n",
       "\t1 & 0 & a \\\\\n",
       "\t2 & 1 & b \\\\\n",
       "\t3 & 2 & c \\\\\n",
       "\t4 & 3 & d \\\\\n",
       "\\end{tabular}\n"
      ],
      "text/plain": [
       "4×2 DataFrames.DataFrame\n",
       "│ Row │ col1  │ col2   │\n",
       "│     │ \u001b[90mInt32\u001b[39m │ \u001b[90mString\u001b[39m │\n",
       "├─────┼───────┼────────┤\n",
       "│ 1   │ 0     │ a      │\n",
       "│ 2   │ 1     │ b      │\n",
       "│ 3   │ 2     │ c      │\n",
       "│ 4   │ 3     │ d      │"
      ]
     },
     "execution_count": 5,
     "metadata": {},
     "output_type": "execute_result"
    }
   ],
   "source": [
    "df = DataFrames.DataFrame(col1=[0, 1, 2, 3], col2 = [\"a\", \"b\", \"c\", \"d\"])"
   ]
  },
  {
   "cell_type": "code",
   "execution_count": 9,
   "metadata": {
    "ExecuteTime": {
     "end_time": "2019-10-02T10:48:23.472000-07:00",
     "start_time": "2019-10-02T17:48:20.770Z"
    }
   },
   "outputs": [
    {
     "data": {
      "text/html": [
       "<table class=\"data-frame\"><thead><tr><th></th><th>col1</th><th>col2</th></tr><tr><th></th><th>Int32</th><th>String</th></tr></thead><tbody><p>2 rows × 2 columns</p><tr><th>1</th><td>0</td><td>a</td></tr><tr><th>2</th><td>1</td><td>b</td></tr></tbody></table>"
      ],
      "text/latex": [
       "\\begin{tabular}{r|cc}\n",
       "\t& col1 & col2\\\\\n",
       "\t\\hline\n",
       "\t& Int32 & String\\\\\n",
       "\t\\hline\n",
       "\t1 & 0 & a \\\\\n",
       "\t2 & 1 & b \\\\\n",
       "\\end{tabular}\n"
      ],
      "text/plain": [
       "2×2 DataFrames.DataFrame\n",
       "│ Row │ col1  │ col2   │\n",
       "│     │ \u001b[90mInt32\u001b[39m │ \u001b[90mString\u001b[39m │\n",
       "├─────┼───────┼────────┤\n",
       "│ 1   │ 0     │ a      │\n",
       "│ 2   │ 1     │ b      │"
      ]
     },
     "execution_count": 9,
     "metadata": {},
     "output_type": "execute_result"
    }
   ],
   "source": [
    "DataFrames.first(df, 2)"
   ]
  },
  {
   "cell_type": "markdown",
   "metadata": {},
   "source": [
    "`filter()` applies to an entire row. the row is the argument."
   ]
  },
  {
   "cell_type": "code",
   "execution_count": 19,
   "metadata": {},
   "outputs": [
    {
     "data": {
      "text/plain": [
       "keep2 (generic function with 1 method)"
      ]
     },
     "execution_count": 19,
     "metadata": {},
     "output_type": "execute_result"
    }
   ],
   "source": [
    "keep_this_row = row -> 0 < row[:col1] < 3\n",
    "\n",
    "function keep2(row)\n",
    "    # neat\n",
    "    println(row)\n",
    "    return 0 < row[:col1] < 3\n",
    "end"
   ]
  },
  {
   "cell_type": "code",
   "execution_count": 18,
   "metadata": {},
   "outputs": [
    {
     "name": "stdout",
     "output_type": "stream",
     "text": [
      "DataFrameRow\n",
      "│ Row │ col1  │ col2   │\n",
      "│     │ \u001b[90mInt32\u001b[39m │ \u001b[90mString\u001b[39m │\n",
      "├─────┼───────┼────────┤\n",
      "│ 1   │ 0     │ a      │DataFrameRow\n",
      "│ Row │ col1  │ col2   │\n",
      "│     │ \u001b[90mInt32\u001b[39m │ \u001b[90mString\u001b[39m │\n",
      "├─────┼───────┼────────┤\n",
      "│ 2   │ 1     │ b      │DataFrameRow\n",
      "│ Row │ col1  │ col2   │\n",
      "│     │ \u001b[90mInt32\u001b[39m │ \u001b[90mString\u001b[39m │\n",
      "├─────┼───────┼────────┤\n",
      "│ 3   │ 2     │ c      │DataFrameRow\n",
      "│ Row │ col1  │ col2   │\n",
      "│     │ \u001b[90mInt32\u001b[39m │ \u001b[90mString\u001b[39m │\n",
      "├─────┼───────┼────────┤\n",
      "│ 4   │ 3     │ d      │"
     ]
    },
    {
     "data": {
      "text/html": [
       "<table class=\"data-frame\"><thead><tr><th></th><th>col1</th><th>col2</th></tr><tr><th></th><th>Int32</th><th>String</th></tr></thead><tbody><p>2 rows × 2 columns</p><tr><th>1</th><td>1</td><td>b</td></tr><tr><th>2</th><td>2</td><td>c</td></tr></tbody></table>"
      ],
      "text/latex": [
       "\\begin{tabular}{r|cc}\n",
       "\t& col1 & col2\\\\\n",
       "\t\\hline\n",
       "\t& Int32 & String\\\\\n",
       "\t\\hline\n",
       "\t1 & 1 & b \\\\\n",
       "\t2 & 2 & c \\\\\n",
       "\\end{tabular}\n"
      ],
      "text/plain": [
       "2×2 DataFrames.DataFrame\n",
       "│ Row │ col1  │ col2   │\n",
       "│     │ \u001b[90mInt32\u001b[39m │ \u001b[90mString\u001b[39m │\n",
       "├─────┼───────┼────────┤\n",
       "│ 1   │ 1     │ b      │\n",
       "│ 2   │ 2     │ c      │"
      ]
     },
     "execution_count": 18,
     "metadata": {},
     "output_type": "execute_result"
    }
   ],
   "source": [
    "filter(keep2, df)"
   ]
  }
 ],
 "metadata": {
  "kernelspec": {
   "display_name": "Julia 1.0.4",
   "language": "julia",
   "name": "julia-1.0"
  },
  "language_info": {
   "file_extension": ".jl",
   "mimetype": "application/julia",
   "name": "julia",
   "version": "1.0.4"
  }
 },
 "nbformat": 4,
 "nbformat_minor": 2
}
