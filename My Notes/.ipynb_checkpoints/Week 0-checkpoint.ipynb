{
 "cells": [
  {
   "cell_type": "markdown",
   "metadata": {},
   "source": [
    "## continued from last time\n",
    "* dimensionality reduction: extract the most salient features from the data, compression\n",
    "    * e.g. on x1, x2 plot: really only one dimension that matters: distance along best fit line; you don't need both features to describe the data, you only need one feature that's a combination of them both\n",
    "* anomaly detection: we learn the \"structure\" of our data, assumed to consist of normal data. When new data point is collected, we can determine if it falls outside the structure of the normal data (i.e. if it is anomalous)"
   ]
  }
 ],
 "metadata": {
  "kernelspec": {
   "display_name": "Julia 1.0.4",
   "language": "julia",
   "name": "julia-1.0"
  },
  "language_info": {
   "file_extension": ".jl",
   "mimetype": "application/julia",
   "name": "julia",
   "version": "1.0.4"
  }
 },
 "nbformat": 4,
 "nbformat_minor": 2
}
