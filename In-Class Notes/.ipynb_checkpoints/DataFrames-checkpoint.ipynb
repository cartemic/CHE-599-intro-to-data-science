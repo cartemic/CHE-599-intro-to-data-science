{
 "cells": [
  {
   "cell_type": "code",
   "execution_count": 2,
   "metadata": {},
   "outputs": [],
   "source": [
    "using CSV\n",
    "using DataFrames\n",
    "using Statistics"
   ]
  },
  {
   "cell_type": "code",
   "execution_count": null,
   "metadata": {},
   "outputs": [],
   "source": [
    "df_income = DataFrame(CSV.read(\"incomes.csv\"))"
   ]
  },
  {
   "cell_type": "code",
   "execution_count": null,
   "metadata": {},
   "outputs": [],
   "source": [
    "sort!(df, :per_capita_income, rev=true)"
   ]
  },
  {
   "cell_type": "code",
   "execution_count": null,
   "metadata": {},
   "outputs": [],
   "source": [
    "df_cities = DataFrame(city=[\"Corvallis\", \"Portland\", \"Eugene\"], population=[57961, 647805, 168916])\n",
    "push!(df_cities, [\"Bend\", 94520])\n",
    "push!(df_cities, Dict(:population => 122324, :city => \"Berkeley\"))\n",
    "df_cities[!, :state] = vcat([\"OR\" for i = 1:4], [\"CA\"])"
   ]
  },
  {
   "cell_type": "markdown",
   "metadata": {},
   "source": [
    "## Joins"
   ]
  },
  {
   "cell_type": "code",
   "execution_count": null,
   "metadata": {},
   "outputs": [],
   "source": [
    "df_sm = join(df_cities, df_income, on=:city, kind=:inner)"
   ]
  },
  {
   "cell_type": "code",
   "execution_count": null,
   "metadata": {},
   "outputs": [],
   "source": [
    "df_big = join(df_cities, df_income, on=:city, kind=:outer)"
   ]
  },
  {
   "cell_type": "code",
   "execution_count": null,
   "metadata": {},
   "outputs": [],
   "source": [
    "df_lj = join(df_cities, df_income, on=:city, kind=:left)"
   ]
  },
  {
   "cell_type": "code",
   "execution_count": null,
   "metadata": {},
   "outputs": [],
   "source": [
    "df_rj = join(df_cities, df_income, on=:city, kind=:right)"
   ]
  },
  {
   "cell_type": "markdown",
   "metadata": {},
   "source": [
    "## unique"
   ]
  },
  {
   "cell_type": "code",
   "execution_count": null,
   "metadata": {},
   "outputs": [],
   "source": [
    "unique(df_big[:, :state])"
   ]
  },
  {
   "cell_type": "markdown",
   "metadata": {},
   "source": [
    "## delete duplicate rows"
   ]
  },
  {
   "cell_type": "code",
   "execution_count": null,
   "metadata": {},
   "outputs": [],
   "source": [
    "push!(df_cities, df_cities[2, :])"
   ]
  },
  {
   "cell_type": "code",
   "execution_count": null,
   "metadata": {},
   "outputs": [],
   "source": [
    "unique!(df_cities)"
   ]
  },
  {
   "cell_type": "markdown",
   "metadata": {},
   "source": [
    "# Week 2 stuff"
   ]
  },
  {
   "cell_type": "code",
   "execution_count": null,
   "metadata": {},
   "outputs": [],
   "source": [
    "mean(df_cities.population)"
   ]
  },
  {
   "cell_type": "code",
   "execution_count": 3,
   "metadata": {},
   "outputs": [
    {
     "data": {
      "text/html": [
       "<table class=\"data-frame\"><thead><tr><th></th><th>eats_steak</th><th>how_cooked</th></tr><tr><th></th><th>String</th><th>String</th></tr></thead><tbody><p>10 rows × 2 columns</p><tr><th>1</th><td>Yes</td><td>Medium rare</td></tr><tr><th>2</th><td>Yes</td><td>Rare</td></tr><tr><th>3</th><td>Yes</td><td>Medium</td></tr><tr><th>4</th><td>Yes</td><td>Medium</td></tr><tr><th>5</th><td>Yes</td><td>Medium rare</td></tr><tr><th>6</th><td>Yes</td><td>Medium rare</td></tr><tr><th>7</th><td>Yes</td><td>Medium</td></tr><tr><th>8</th><td>Yes</td><td>Medium rare</td></tr><tr><th>9</th><td>Yes</td><td>Medium rare</td></tr><tr><th>10</th><td>Yes</td><td>Medium rare</td></tr></tbody></table>"
      ],
      "text/latex": [
       "\\begin{tabular}{r|cc}\n",
       "\t& eats\\_steak & how\\_cooked\\\\\n",
       "\t\\hline\n",
       "\t& String & String\\\\\n",
       "\t\\hline\n",
       "\t1 & Yes & Medium rare \\\\\n",
       "\t2 & Yes & Rare \\\\\n",
       "\t3 & Yes & Medium \\\\\n",
       "\t4 & Yes & Medium \\\\\n",
       "\t5 & Yes & Medium rare \\\\\n",
       "\t6 & Yes & Medium rare \\\\\n",
       "\t7 & Yes & Medium \\\\\n",
       "\t8 & Yes & Medium rare \\\\\n",
       "\t9 & Yes & Medium rare \\\\\n",
       "\t10 & Yes & Medium rare \\\\\n",
       "\\end{tabular}\n"
      ],
      "text/plain": [
       "10×2 DataFrame\n",
       "│ Row │ eats_steak │ how_cooked  │\n",
       "│     │ \u001b[90mString\u001b[39m     │ \u001b[90mString\u001b[39m      │\n",
       "├─────┼────────────┼─────────────┤\n",
       "│ 1   │ Yes        │ Medium rare │\n",
       "│ 2   │ Yes        │ Rare        │\n",
       "│ 3   │ Yes        │ Medium      │\n",
       "│ 4   │ Yes        │ Medium      │\n",
       "│ 5   │ Yes        │ Medium rare │\n",
       "│ 6   │ Yes        │ Medium rare │\n",
       "│ 7   │ Yes        │ Medium      │\n",
       "│ 8   │ Yes        │ Medium rare │\n",
       "│ 9   │ Yes        │ Medium rare │\n",
       "│ 10  │ Yes        │ Medium rare │"
      ]
     },
     "execution_count": 3,
     "metadata": {},
     "output_type": "execute_result"
    }
   ],
   "source": [
    "steak = dropmissing!(DataFrame(CSV.read(\"steak.csv\", header=[:eats_steak, :how_cooked], copycols=true)))\n",
    "first(steak, 10)"
   ]
  },
  {
   "cell_type": "code",
   "execution_count": 23,
   "metadata": {},
   "outputs": [
    {
     "data": {
      "text/html": [
       "<table class=\"data-frame\"><thead><tr><th></th><th>how_cooked</th><th>count</th></tr><tr><th></th><th>String</th><th>Int32</th></tr></thead><tbody><p>5 rows × 2 columns</p><tr><th>1</th><td>Medium rare</td><td>166</td></tr><tr><th>2</th><td>Medium</td><td>132</td></tr><tr><th>3</th><td>Medium Well</td><td>74</td></tr><tr><th>4</th><td>Well</td><td>35</td></tr><tr><th>5</th><td>Rare</td><td>23</td></tr></tbody></table>"
      ],
      "text/latex": [
       "\\begin{tabular}{r|cc}\n",
       "\t& how\\_cooked & count\\\\\n",
       "\t\\hline\n",
       "\t& String & Int32\\\\\n",
       "\t\\hline\n",
       "\t1 & Medium rare & 166 \\\\\n",
       "\t2 & Medium & 132 \\\\\n",
       "\t3 & Medium Well & 74 \\\\\n",
       "\t4 & Well & 35 \\\\\n",
       "\t5 & Rare & 23 \\\\\n",
       "\\end{tabular}\n"
      ],
      "text/plain": [
       "5×2 DataFrame\n",
       "│ Row │ how_cooked  │ count │\n",
       "│     │ \u001b[90mString\u001b[39m      │ \u001b[90mInt32\u001b[39m │\n",
       "├─────┼─────────────┼───────┤\n",
       "│ 1   │ Medium rare │ 166   │\n",
       "│ 2   │ Medium      │ 132   │\n",
       "│ 3   │ Medium Well │ 74    │\n",
       "│ 4   │ Well        │ 35    │\n",
       "│ 5   │ Rare        │ 23    │"
      ]
     },
     "execution_count": 23,
     "metadata": {},
     "output_type": "execute_result"
    }
   ],
   "source": [
    "steak_result = sort!(by(steak, :how_cooked, count=:how_cooked => length), :count, rev=true)"
   ]
  },
  {
   "cell_type": "code",
   "execution_count": 10,
   "metadata": {},
   "outputs": [],
   "source": [
    "using PyPlot, PyCall"
   ]
  },
  {
   "cell_type": "code",
   "execution_count": 24,
   "metadata": {},
   "outputs": [
    {
     "data": {
      "text/html": [
       "<table class=\"data-frame\"><thead><tr><th></th><th>how_cooked</th><th>count</th></tr><tr><th></th><th>String</th><th>Int32</th></tr></thead><tbody><p>5 rows × 2 columns</p><tr><th>1</th><td>Medium rare</td><td>166</td></tr><tr><th>2</th><td>Medium</td><td>132</td></tr><tr><th>3</th><td>Medium Well</td><td>74</td></tr><tr><th>4</th><td>Well</td><td>35</td></tr><tr><th>5</th><td>Rare</td><td>23</td></tr></tbody></table>"
      ],
      "text/latex": [
       "\\begin{tabular}{r|cc}\n",
       "\t& how\\_cooked & count\\\\\n",
       "\t\\hline\n",
       "\t& String & Int32\\\\\n",
       "\t\\hline\n",
       "\t1 & Medium rare & 166 \\\\\n",
       "\t2 & Medium & 132 \\\\\n",
       "\t3 & Medium Well & 74 \\\\\n",
       "\t4 & Well & 35 \\\\\n",
       "\t5 & Rare & 23 \\\\\n",
       "\\end{tabular}\n"
      ],
      "text/plain": [
       "5×2 DataFrame\n",
       "│ Row │ how_cooked  │ count │\n",
       "│     │ \u001b[90mString\u001b[39m      │ \u001b[90mInt32\u001b[39m │\n",
       "├─────┼─────────────┼───────┤\n",
       "│ 1   │ Medium rare │ 166   │\n",
       "│ 2   │ Medium      │ 132   │\n",
       "│ 3   │ Medium Well │ 74    │\n",
       "│ 4   │ Well        │ 35    │\n",
       "│ 5   │ Rare        │ 23    │"
      ]
     },
     "execution_count": 24,
     "metadata": {},
     "output_type": "execute_result"
    }
   ],
   "source": [
    "steak_result"
   ]
  },
  {
   "cell_type": "code",
   "execution_count": 25,
   "metadata": {},
   "outputs": [
    {
     "data": {
      "image/png": "[encoded data removed]",
      "text/plain": [
       "Figure(PyObject <Figure size 640x480 with 1 Axes>)"
      ]
     },
     "metadata": {},
     "output_type": "display_data"
    },
    {
     "data": {
      "text/plain": [
       "PyObject Text(0.5, 1.0, 'Steak Preferences')"
      ]
     },
     "execution_count": 25,
     "metadata": {},
     "output_type": "execute_result"
    }
   ],
   "source": [
    "figure()\n",
    "barh(\n",
    "    1:size(steak_result, 1),\n",
    "    steak_result.count\n",
    ")    \n",
    "yticks(\n",
    "    1:size(steak_result, 1),\n",
    "    steak_result.how_cooked\n",
    ")\n",
    "xlabel(\"# eaters\")\n",
    "title(\"Steak Preferences\")\n"
   ]
  },
  {
   "cell_type": "code",
   "execution_count": null,
   "metadata": {},
   "outputs": [],
   "source": [
    "for _ in 1:1e6\n",
    "    print(\"fuck\")\n",
    "end"
   ]
  },
  {
   "cell_type": "code",
   "execution_count": null,
   "metadata": {},
   "outputs": [],
   "source": [
    "[i for i in 1:size(steak_result, 1)]"
   ]
  }
 ],
 "metadata": {
  "kernelspec": {
   "display_name": "Julia 1.0.4",
   "language": "julia",
   "name": "julia-1.0"
  },
  "language_info": {
   "file_extension": ".jl",
   "mimetype": "application/julia",
   "name": "julia",
   "version": "1.0.4"
  }
 },
 "nbformat": 4,
 "nbformat_minor": 2
}
