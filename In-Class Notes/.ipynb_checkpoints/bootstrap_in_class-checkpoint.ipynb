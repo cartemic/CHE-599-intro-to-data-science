{
 "cells": [
  {
   "cell_type": "markdown",
   "metadata": {},
   "source": [
    "# estimation and confidence intervals\n",
    "\n",
    "> An important part of data science consists of making conclusions based on the data in random samples. [source](https://www.inferentialthinking.com/chapters/10/Sampling_and_Empirical_Distributions.html)"
   ]
  },
  {
   "cell_type": "code",
   "execution_count": 1,
   "metadata": {
    "ExecuteTime": {
     "end_time": "2019-10-21T10:03:20.597000-07:00",
     "start_time": "2019-10-21T17:03:09.094Z"
    }
   },
   "outputs": [
    {
     "ename": "ArgumentError",
     "evalue": "ArgumentError: Package StatsBase not found in current path:\n- Run `import Pkg; Pkg.add(\"StatsBase\")` to install the StatsBase package.\n",
     "output_type": "error",
     "traceback": [
      "ArgumentError: Package StatsBase not found in current path:\n- Run `import Pkg; Pkg.add(\"StatsBase\")` to install the StatsBase package.\n",
      "",
      "Stacktrace:",
      " [1] require(::Module, ::Symbol) at ./loading.jl:876",
      " [2] top-level scope at In[1]:3"
     ]
    }
   ],
   "source": [
    "using DataFrames\n",
    "using CSV\n",
    "using StatsBase\n",
    "using PyPlot\n",
    "using Statistics # for mean, percentile\n",
    "\n",
    "# (optional) check out all of the styles! https://matplotlib.org/3.1.1/gallery/style_sheets/style_sheets_reference.html\n",
    "PyPlot.matplotlib.style.use(\"Solarize_Light2\")\n",
    "\n",
    "# (optional)change settings for all plots at once, e.g. font size\n",
    "rcParams = PyPlot.PyDict(PyPlot.matplotlib.\"rcParams\")\n",
    "rcParams[\"font.size\"] = 16"
   ]
  },
  {
   "cell_type": "code",
   "execution_count": null,
   "metadata": {},
   "outputs": [],
   "source": []
  },
  {
   "cell_type": "markdown",
   "metadata": {},
   "source": [
    "## a random sample of Airbnb's\n",
    "\n",
    "> with high probability, the empirical distribution of a large random sample will resemble the distribution of the population from which the sample was drawn. [source](https://www.inferentialthinking.com/chapters/10/3/Empirical_Distribution_of_a_Statistic.html)\n",
    "\n",
    "\n",
    "**empirical distribution**: the distribution of observed data, often visualized by a histogram\n",
    "\n",
    "> A statistic (note the singular!) is any number computed using the data in a sample. The sample median, therefore, is a statistic. [source](https://www.inferentialthinking.com/chapters/10/3/Empirical_Distribution_of_a_Statistic.html#Statistic)\n",
    "\n",
    "`listings.csv` contains data on the *entire population* of Airbnb's in Seattle [[source](https://www.kaggle.com/airbnb/seattle#listings.csv)]. each row represents an Airbnb rental, and the `:price` column contains the price of the Airbnb."
   ]
  },
  {
   "cell_type": "code",
   "execution_count": null,
   "metadata": {
    "ExecuteTime": {
     "start_time": "2019-10-21T17:03:16.175Z"
    },
    "scrolled": false
   },
   "outputs": [],
   "source": [
    "df = CSV.read(\"listings.csv\", copycols=true)\n",
    "first(df, 6)"
   ]
  },
  {
   "cell_type": "markdown",
   "metadata": {},
   "source": [
    "how many Airbnb's are listed in Seattle?"
   ]
  },
  {
   "cell_type": "code",
   "execution_count": null,
   "metadata": {},
   "outputs": [],
   "source": []
  },
  {
   "cell_type": "markdown",
   "metadata": {},
   "source": [
    "look at the `:price` column. `CSV.jl` was unable to convert these to `Float64`s and instead kept them as `String`s."
   ]
  },
  {
   "cell_type": "code",
   "execution_count": null,
   "metadata": {
    "scrolled": false
   },
   "outputs": [],
   "source": []
  },
  {
   "cell_type": "markdown",
   "metadata": {},
   "source": [
    "if we try to `parse` them as `Float64`'s, we see the problem: there are dollar signs in the prices!"
   ]
  },
  {
   "cell_type": "code",
   "execution_count": null,
   "metadata": {},
   "outputs": [],
   "source": []
  },
  {
   "cell_type": "markdown",
   "metadata": {},
   "source": [
    "now let's remove the dollar signs from the strings using the `replace` command. "
   ]
  },
  {
   "cell_type": "code",
   "execution_count": null,
   "metadata": {},
   "outputs": [],
   "source": []
  },
  {
   "cell_type": "code",
   "execution_count": null,
   "metadata": {},
   "outputs": [],
   "source": []
  },
  {
   "cell_type": "markdown",
   "metadata": {},
   "source": [
    "great, dollar signs are successfully removed. now let's convert to `Float64`s so we can look at the mean price."
   ]
  },
  {
   "cell_type": "code",
   "execution_count": null,
   "metadata": {},
   "outputs": [],
   "source": []
  },
  {
   "cell_type": "markdown",
   "metadata": {},
   "source": [
    "still not there, the commas are causing trouble."
   ]
  },
  {
   "cell_type": "code",
   "execution_count": null,
   "metadata": {},
   "outputs": [],
   "source": []
  },
  {
   "cell_type": "markdown",
   "metadata": {},
   "source": [
    "now that the `:price` column is properly converted to `Float64`s, we can compute the mean price of an Airbnb in Seattle. note this is the population mean since this list is of *all* Airbnbs in Seattle, obtained via scraping the Airbnb website at a given time."
   ]
  },
  {
   "cell_type": "code",
   "execution_count": null,
   "metadata": {},
   "outputs": [],
   "source": []
  },
  {
   "cell_type": "markdown",
   "metadata": {},
   "source": [
    "plot the distribution of the Airbnb prices in Seattle."
   ]
  },
  {
   "cell_type": "code",
   "execution_count": null,
   "metadata": {},
   "outputs": [],
   "source": []
  },
  {
   "cell_type": "markdown",
   "metadata": {},
   "source": [
    "now let's take a *random sample* of the population of Airbnb's in Seattle and look at the *empirical distribution* of price based on this random sample. in practice, one takes a *random sample* from a population because taking a measurement on the *entire* population is usually prohibitively expensive and time-consuming."
   ]
  },
  {
   "cell_type": "code",
   "execution_count": null,
   "metadata": {},
   "outputs": [],
   "source": []
  },
  {
   "cell_type": "code",
   "execution_count": null,
   "metadata": {},
   "outputs": [],
   "source": []
  },
  {
   "cell_type": "markdown",
   "metadata": {},
   "source": [
    "indeed (most likely), the empirical histogram (from the random sample) resembles the distribution from the entire population. this is what justifies making conclusions about a *population* from a *random sample* of it, i.e. this is what justifies *statistical inference*! of course, (i) the empirical distribution from the random sample is more likely to closely resemble the distribution of the population if the random sample is large and (ii) there is an uncertainty associated with conclusions based on the random sample, since there is a possibility that the empirical distribution of the random sample differs significantly from the distribution of the population--especially if the sample size is small."
   ]
  },
  {
   "cell_type": "markdown",
   "metadata": {},
   "source": [
    "## estimation: point estimates, interval estimates and confidence intervals via bootstrap\n",
    "\n",
    "we aim to use the data from a random sample to *estimate* an unknown parameter of a population and quantify our uncertainty. here, we'll estimate the mean price of the Airbnb's in Seattle from the random sample we took and obtain a confidence interval via a powerful technique called bootstrapping [alternative resource here](https://www.inferentialthinking.com/chapters/13/2/Bootstrap.html). for our own academic satisfaction, we can compare to the actual mean price of the population that we computed above, `mean_airbnb_price`. but, consider, in real life, we do not know the actual mean of the population with which to compare.\n",
    "\n",
    "first, let's compute the estimated mean Airbnb price from our random sample."
   ]
  },
  {
   "cell_type": "code",
   "execution_count": null,
   "metadata": {},
   "outputs": [],
   "source": []
  },
  {
   "cell_type": "markdown",
   "metadata": {},
   "source": [
    "the sample mean differs from the population mean, but is close!\n",
    "\n",
    "**important**: if, in the random sampling, we had chosen a different set of Airbnb's by chance, our estimated mean would be different.\n",
    "\n",
    "so to quantify uncertainty in our current estimate of the mean price from our sample, we should address the question of how the estimated mean could differ from random sample to random sample.\n",
    "\n",
    "we can approximate the empirical distribution of the mean Seattle Airbnb price among possible random samples of this size via **bootstrapping**, a powerful method based on resampling. we can think of bootstrapping as approximately simulating the process of collecting a random sample from the population.\n",
    "\n",
    "the main idea is that we can **simulate a random sample of the population by collecting a random sample from the sample**. \n",
    "* this random sample of the sample must be the same size as the sample, since the number of samples affects the estimate\n",
    "* this sampling must be done with replacement (otherwise, we'd get the sample back)\n",
    "\n",
    "essentially, we are treating the random sample as the population and sampling from it. this is justified because the empirical distribution of the sample is likely to resemble the distribution of the population.\n",
    "\n",
    "let's take `nb_sims` bootstrap samples, compute the mean of each bootstrap sample, and keep track of it in an array so that we can visualize its distribution."
   ]
  },
  {
   "cell_type": "code",
   "execution_count": null,
   "metadata": {},
   "outputs": [],
   "source": []
  },
  {
   "cell_type": "markdown",
   "metadata": {},
   "source": [
    "the above is the **bootstrap empirical distribution of the sample mean** price of Airbnb's in Seattle. its spread quantifies the uncertainty in our estimated mean Airbnb price in Seattle. a wide spread implies that the mean Airbnb price varies dramatically from sample to sample (owing, e.g. to small sample size). \n",
    "\n",
    "for reference, we plotted the population mean as the red line, which in practice we wouldn't know, but have the convenience of knowing here since we took this random sample from the population in the first part of our notebook. satisfactorily, the bootstrap empirical distribution exhibits significant density at the true population mean.\n",
    "\n",
    "instead of reporting our **point estimate** of the mean price, `estimated_mean_airbnb_price`, we can report an **interval estimate** of the mean price defined to be the interval of Airbnb prices such that e.g., 95% of bootstrap sample means fall in this interval. more specifically, 2.5% of bootstrap sample means fall to the left of the interval, and 2.5% of bootstrap sample means fall to the right of the interval. we obtain the interval estimate by computing the 2.5% percentile and 97.5% percentile of the list of bootstrap sample means, `bootstrap_mean_prices`."
   ]
  },
  {
   "cell_type": "code",
   "execution_count": null,
   "metadata": {},
   "outputs": [],
   "source": []
  },
  {
   "cell_type": "markdown",
   "metadata": {},
   "source": [
    "instead of providing a point estimate, the interval estimate indicates a range of Airbnb prices that reflect our uncertainty owing to random sampling. drawing a random sample of this size from the population and obtaining a mean outside this interval is unlikely.\n",
    "\n",
    "let's plot the interval estimate on the bootstrap empirical distribution of the sample mean. satisfactorily, we see that this interval estimate includes the mean Airbnb price of the population."
   ]
  },
  {
   "cell_type": "code",
   "execution_count": null,
   "metadata": {},
   "outputs": [],
   "source": []
  },
  {
   "cell_type": "markdown",
   "metadata": {},
   "source": [
    "precisely, we can say that, if we were to randomly sample `nb_sample` Airbnb's over and over and compute the mean price from the random sample, we estimate that, 97.5% of the time, the mean price will be higher than `low_price_estimate` and, 97.5% of the time, the mean price will be lower than `high_price_estimate`. this gives us an idea of how much our estimate of the mean could vary from sample to sample. We call this the 95% **confidence interval**. as a warning, bootstrap does not work very well when the sample size is small (e.g. less than 15) since then the empirical sample distribution is not likely to resemble the population distribution."
   ]
  }
 ],
 "metadata": {
  "@webio": {
   "lastCommId": "5166d48d660c434292e6ae89c2dcafda",
   "lastKernelId": "fb88f81e-428f-4873-8c09-2a675da5da9b"
  },
  "kernelspec": {
   "display_name": "Julia 1.2.0",
   "language": "julia",
   "name": "julia-1.2"
  },
  "language_info": {
   "file_extension": ".jl",
   "mimetype": "application/julia",
   "name": "julia",
   "version": "1.2.0"
  }
 },
 "nbformat": 4,
 "nbformat_minor": 2
}
