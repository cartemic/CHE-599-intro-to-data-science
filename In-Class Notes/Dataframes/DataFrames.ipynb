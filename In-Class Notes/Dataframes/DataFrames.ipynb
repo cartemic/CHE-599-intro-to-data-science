{
 "cells": [
  {
   "cell_type": "code",
   "execution_count": 159,
   "metadata": {
    "ExecuteTime": {
     "end_time": "2019-10-11T10:46:05.422000-07:00",
     "start_time": "2019-10-11T17:46:05.418Z"
    }
   },
   "outputs": [],
   "source": [
    "using CSV\n",
    "using DataFrames\n",
    "\n",
    "PyPlot.matplotlib.style.use(\"seaborn-whitegrid\")"
   ]
  },
  {
   "cell_type": "code",
   "execution_count": 2,
   "metadata": {
    "ExecuteTime": {
     "end_time": "2019-10-09T09:55:16.534000-07:00",
     "start_time": "2019-10-09T16:54:41.981Z"
    }
   },
   "outputs": [
    {
     "data": {
      "text/html": [
       "<table class=\"data-frame\"><thead><tr><th></th><th>city</th><th>per_capita_income</th></tr><tr><th></th><th>String</th><th>Int64</th></tr></thead><tbody><p>3 rows × 2 columns</p><tr><th>1</th><td>Corvallis</td><td>19317</td></tr><tr><th>2</th><td>Berkeley</td><td>38896</td></tr><tr><th>3</th><td>San Franscisco</td><td>52261</td></tr></tbody></table>"
      ],
      "text/latex": [
       "\\begin{tabular}{r|cc}\n",
       "\t& city & per\\_capita\\_income\\\\\n",
       "\t\\hline\n",
       "\t& String & Int64\\\\\n",
       "\t\\hline\n",
       "\t1 & Corvallis & 19317 \\\\\n",
       "\t2 & Berkeley & 38896 \\\\\n",
       "\t3 & San Franscisco & 52261 \\\\\n",
       "\\end{tabular}\n"
      ],
      "text/plain": [
       "3×2 DataFrame\n",
       "│ Row │ city           │ per_capita_income │\n",
       "│     │ \u001b[90mString\u001b[39m         │ \u001b[90mInt64\u001b[39m             │\n",
       "├─────┼────────────────┼───────────────────┤\n",
       "│ 1   │ Corvallis      │ 19317             │\n",
       "│ 2   │ Berkeley       │ 38896             │\n",
       "│ 3   │ San Franscisco │ 52261             │"
      ]
     },
     "execution_count": 2,
     "metadata": {},
     "output_type": "execute_result"
    }
   ],
   "source": [
    "df_income = DataFrame(CSV.read(\"incomes.csv\"))"
   ]
  },
  {
   "cell_type": "code",
   "execution_count": 3,
   "metadata": {
    "ExecuteTime": {
     "end_time": "2019-10-09T09:55:18.310000-07:00",
     "start_time": "2019-10-09T16:54:41.991Z"
    }
   },
   "outputs": [
    {
     "ename": "UndefVarError",
     "evalue": "UndefVarError: df not defined",
     "output_type": "error",
     "traceback": [
      "UndefVarError: df not defined",
      "",
      "Stacktrace:",
      " [1] top-level scope at In[3]:1"
     ]
    }
   ],
   "source": [
    "sort!(df, :per_capita_income, rev=true)"
   ]
  },
  {
   "cell_type": "code",
   "execution_count": 4,
   "metadata": {
    "ExecuteTime": {
     "end_time": "2019-10-09T09:55:21.160000-07:00",
     "start_time": "2019-10-09T16:54:41.999Z"
    }
   },
   "outputs": [
    {
     "data": {
      "text/plain": [
       "5-element Array{String,1}:\n",
       " \"OR\"\n",
       " \"OR\"\n",
       " \"OR\"\n",
       " \"OR\"\n",
       " \"CA\""
      ]
     },
     "execution_count": 4,
     "metadata": {},
     "output_type": "execute_result"
    }
   ],
   "source": [
    "df_cities = DataFrame(city=[\"Corvallis\", \"Portland\", \"Eugene\"], population=[57961, 647805, 168916])\n",
    "push!(df_cities, [\"Bend\", 94520])\n",
    "push!(df_cities, Dict(:population => 122324, :city => \"Berkeley\"))\n",
    "df_cities[!, :state] = vcat([\"OR\" for i = 1:4], [\"CA\"])"
   ]
  },
  {
   "cell_type": "markdown",
   "metadata": {},
   "source": [
    "## Joins"
   ]
  },
  {
   "cell_type": "code",
   "execution_count": 5,
   "metadata": {
    "ExecuteTime": {
     "end_time": "2019-10-09T09:55:29.365000-07:00",
     "start_time": "2019-10-09T16:54:42.005Z"
    }
   },
   "outputs": [
    {
     "data": {
      "text/html": [
       "<table class=\"data-frame\"><thead><tr><th></th><th>city</th><th>population</th><th>state</th><th>per_capita_income</th></tr><tr><th></th><th>String</th><th>Int32</th><th>String</th><th>Int64</th></tr></thead><tbody><p>2 rows × 4 columns</p><tr><th>1</th><td>Corvallis</td><td>57961</td><td>OR</td><td>19317</td></tr><tr><th>2</th><td>Berkeley</td><td>122324</td><td>CA</td><td>38896</td></tr></tbody></table>"
      ],
      "text/latex": [
       "\\begin{tabular}{r|cccc}\n",
       "\t& city & population & state & per\\_capita\\_income\\\\\n",
       "\t\\hline\n",
       "\t& String & Int32 & String & Int64\\\\\n",
       "\t\\hline\n",
       "\t1 & Corvallis & 57961 & OR & 19317 \\\\\n",
       "\t2 & Berkeley & 122324 & CA & 38896 \\\\\n",
       "\\end{tabular}\n"
      ],
      "text/plain": [
       "2×4 DataFrame\n",
       "│ Row │ city      │ population │ state  │ per_capita_income │\n",
       "│     │ \u001b[90mString\u001b[39m    │ \u001b[90mInt32\u001b[39m      │ \u001b[90mString\u001b[39m │ \u001b[90mInt64\u001b[39m             │\n",
       "├─────┼───────────┼────────────┼────────┼───────────────────┤\n",
       "│ 1   │ Corvallis │ 57961      │ OR     │ 19317             │\n",
       "│ 2   │ Berkeley  │ 122324     │ CA     │ 38896             │"
      ]
     },
     "execution_count": 5,
     "metadata": {},
     "output_type": "execute_result"
    }
   ],
   "source": [
    "df_sm = join(df_cities, df_income, on=:city, kind=:inner)"
   ]
  },
  {
   "cell_type": "code",
   "execution_count": 6,
   "metadata": {
    "ExecuteTime": {
     "end_time": "2019-10-09T09:55:30.483000-07:00",
     "start_time": "2019-10-09T16:54:42.013Z"
    }
   },
   "outputs": [
    {
     "data": {
      "text/html": [
       "<table class=\"data-frame\"><thead><tr><th></th><th>city</th><th>population</th><th>state</th><th>per_capita_income</th></tr><tr><th></th><th>String</th><th>Int32⍰</th><th>String⍰</th><th>Int64⍰</th></tr></thead><tbody><p>6 rows × 4 columns</p><tr><th>1</th><td>Corvallis</td><td>57961</td><td>OR</td><td>19317</td></tr><tr><th>2</th><td>Portland</td><td>647805</td><td>OR</td><td>missing</td></tr><tr><th>3</th><td>Eugene</td><td>168916</td><td>OR</td><td>missing</td></tr><tr><th>4</th><td>Bend</td><td>94520</td><td>OR</td><td>missing</td></tr><tr><th>5</th><td>Berkeley</td><td>122324</td><td>CA</td><td>38896</td></tr><tr><th>6</th><td>San Franscisco</td><td>missing</td><td>missing</td><td>52261</td></tr></tbody></table>"
      ],
      "text/latex": [
       "\\begin{tabular}{r|cccc}\n",
       "\t& city & population & state & per\\_capita\\_income\\\\\n",
       "\t\\hline\n",
       "\t& String & Int32⍰ & String⍰ & Int64⍰\\\\\n",
       "\t\\hline\n",
       "\t1 & Corvallis & 57961 & OR & 19317 \\\\\n",
       "\t2 & Portland & 647805 & OR &  \\\\\n",
       "\t3 & Eugene & 168916 & OR &  \\\\\n",
       "\t4 & Bend & 94520 & OR &  \\\\\n",
       "\t5 & Berkeley & 122324 & CA & 38896 \\\\\n",
       "\t6 & San Franscisco &  &  & 52261 \\\\\n",
       "\\end{tabular}\n"
      ],
      "text/plain": [
       "6×4 DataFrame\n",
       "│ Row │ city           │ population │ state   │ per_capita_income │\n",
       "│     │ \u001b[90mString\u001b[39m         │ \u001b[90mInt32⍰\u001b[39m     │ \u001b[90mString⍰\u001b[39m │ \u001b[90mInt64⍰\u001b[39m            │\n",
       "├─────┼────────────────┼────────────┼─────────┼───────────────────┤\n",
       "│ 1   │ Corvallis      │ 57961      │ OR      │ 19317             │\n",
       "│ 2   │ Portland       │ 647805     │ OR      │ \u001b[90mmissing\u001b[39m           │\n",
       "│ 3   │ Eugene         │ 168916     │ OR      │ \u001b[90mmissing\u001b[39m           │\n",
       "│ 4   │ Bend           │ 94520      │ OR      │ \u001b[90mmissing\u001b[39m           │\n",
       "│ 5   │ Berkeley       │ 122324     │ CA      │ 38896             │\n",
       "│ 6   │ San Franscisco │ \u001b[90mmissing\u001b[39m    │ \u001b[90mmissing\u001b[39m │ 52261             │"
      ]
     },
     "execution_count": 6,
     "metadata": {},
     "output_type": "execute_result"
    }
   ],
   "source": [
    "df_big = join(df_cities, df_income, on=:city, kind=:outer)"
   ]
  },
  {
   "cell_type": "code",
   "execution_count": 7,
   "metadata": {
    "ExecuteTime": {
     "end_time": "2019-10-09T09:55:30.614000-07:00",
     "start_time": "2019-10-09T16:54:42.018Z"
    }
   },
   "outputs": [
    {
     "data": {
      "text/html": [
       "<table class=\"data-frame\"><thead><tr><th></th><th>city</th><th>population</th><th>state</th><th>per_capita_income</th></tr><tr><th></th><th>String</th><th>Int32</th><th>String</th><th>Int64⍰</th></tr></thead><tbody><p>5 rows × 4 columns</p><tr><th>1</th><td>Corvallis</td><td>57961</td><td>OR</td><td>19317</td></tr><tr><th>2</th><td>Portland</td><td>647805</td><td>OR</td><td>missing</td></tr><tr><th>3</th><td>Eugene</td><td>168916</td><td>OR</td><td>missing</td></tr><tr><th>4</th><td>Bend</td><td>94520</td><td>OR</td><td>missing</td></tr><tr><th>5</th><td>Berkeley</td><td>122324</td><td>CA</td><td>38896</td></tr></tbody></table>"
      ],
      "text/latex": [
       "\\begin{tabular}{r|cccc}\n",
       "\t& city & population & state & per\\_capita\\_income\\\\\n",
       "\t\\hline\n",
       "\t& String & Int32 & String & Int64⍰\\\\\n",
       "\t\\hline\n",
       "\t1 & Corvallis & 57961 & OR & 19317 \\\\\n",
       "\t2 & Portland & 647805 & OR &  \\\\\n",
       "\t3 & Eugene & 168916 & OR &  \\\\\n",
       "\t4 & Bend & 94520 & OR &  \\\\\n",
       "\t5 & Berkeley & 122324 & CA & 38896 \\\\\n",
       "\\end{tabular}\n"
      ],
      "text/plain": [
       "5×4 DataFrame\n",
       "│ Row │ city      │ population │ state  │ per_capita_income │\n",
       "│     │ \u001b[90mString\u001b[39m    │ \u001b[90mInt32\u001b[39m      │ \u001b[90mString\u001b[39m │ \u001b[90mInt64⍰\u001b[39m            │\n",
       "├─────┼───────────┼────────────┼────────┼───────────────────┤\n",
       "│ 1   │ Corvallis │ 57961      │ OR     │ 19317             │\n",
       "│ 2   │ Portland  │ 647805     │ OR     │ \u001b[90mmissing\u001b[39m           │\n",
       "│ 3   │ Eugene    │ 168916     │ OR     │ \u001b[90mmissing\u001b[39m           │\n",
       "│ 4   │ Bend      │ 94520      │ OR     │ \u001b[90mmissing\u001b[39m           │\n",
       "│ 5   │ Berkeley  │ 122324     │ CA     │ 38896             │"
      ]
     },
     "execution_count": 7,
     "metadata": {},
     "output_type": "execute_result"
    }
   ],
   "source": [
    "df_lj = join(df_cities, df_income, on=:city, kind=:left)"
   ]
  },
  {
   "cell_type": "code",
   "execution_count": 8,
   "metadata": {
    "ExecuteTime": {
     "end_time": "2019-10-09T09:55:30.806000-07:00",
     "start_time": "2019-10-09T16:54:42.023Z"
    }
   },
   "outputs": [
    {
     "data": {
      "text/html": [
       "<table class=\"data-frame\"><thead><tr><th></th><th>city</th><th>population</th><th>state</th><th>per_capita_income</th></tr><tr><th></th><th>String</th><th>Int32⍰</th><th>String⍰</th><th>Int64</th></tr></thead><tbody><p>3 rows × 4 columns</p><tr><th>1</th><td>Corvallis</td><td>57961</td><td>OR</td><td>19317</td></tr><tr><th>2</th><td>Berkeley</td><td>122324</td><td>CA</td><td>38896</td></tr><tr><th>3</th><td>San Franscisco</td><td>missing</td><td>missing</td><td>52261</td></tr></tbody></table>"
      ],
      "text/latex": [
       "\\begin{tabular}{r|cccc}\n",
       "\t& city & population & state & per\\_capita\\_income\\\\\n",
       "\t\\hline\n",
       "\t& String & Int32⍰ & String⍰ & Int64\\\\\n",
       "\t\\hline\n",
       "\t1 & Corvallis & 57961 & OR & 19317 \\\\\n",
       "\t2 & Berkeley & 122324 & CA & 38896 \\\\\n",
       "\t3 & San Franscisco &  &  & 52261 \\\\\n",
       "\\end{tabular}\n"
      ],
      "text/plain": [
       "3×4 DataFrame\n",
       "│ Row │ city           │ population │ state   │ per_capita_income │\n",
       "│     │ \u001b[90mString\u001b[39m         │ \u001b[90mInt32⍰\u001b[39m     │ \u001b[90mString⍰\u001b[39m │ \u001b[90mInt64\u001b[39m             │\n",
       "├─────┼────────────────┼────────────┼─────────┼───────────────────┤\n",
       "│ 1   │ Corvallis      │ 57961      │ OR      │ 19317             │\n",
       "│ 2   │ Berkeley       │ 122324     │ CA      │ 38896             │\n",
       "│ 3   │ San Franscisco │ \u001b[90mmissing\u001b[39m    │ \u001b[90mmissing\u001b[39m │ 52261             │"
      ]
     },
     "execution_count": 8,
     "metadata": {},
     "output_type": "execute_result"
    }
   ],
   "source": [
    "df_rj = join(df_cities, df_income, on=:city, kind=:right)"
   ]
  },
  {
   "cell_type": "markdown",
   "metadata": {},
   "source": [
    "## unique"
   ]
  },
  {
   "cell_type": "code",
   "execution_count": 9,
   "metadata": {
    "ExecuteTime": {
     "end_time": "2019-10-09T09:55:32.629000-07:00",
     "start_time": "2019-10-09T16:54:42.029Z"
    }
   },
   "outputs": [
    {
     "data": {
      "text/plain": [
       "3-element Array{Union{Missing, String},1}:\n",
       " \"OR\"   \n",
       " \"CA\"   \n",
       " missing"
      ]
     },
     "execution_count": 9,
     "metadata": {},
     "output_type": "execute_result"
    }
   ],
   "source": [
    "unique(df_big[:, :state])"
   ]
  },
  {
   "cell_type": "markdown",
   "metadata": {},
   "source": [
    "## delete duplicate rows"
   ]
  },
  {
   "cell_type": "code",
   "execution_count": 10,
   "metadata": {
    "ExecuteTime": {
     "end_time": "2019-10-09T09:55:33.116000-07:00",
     "start_time": "2019-10-09T16:54:42.034Z"
    }
   },
   "outputs": [
    {
     "data": {
      "text/html": [
       "<table class=\"data-frame\"><thead><tr><th></th><th>city</th><th>population</th><th>state</th></tr><tr><th></th><th>String</th><th>Int32</th><th>String</th></tr></thead><tbody><p>6 rows × 3 columns</p><tr><th>1</th><td>Corvallis</td><td>57961</td><td>OR</td></tr><tr><th>2</th><td>Portland</td><td>647805</td><td>OR</td></tr><tr><th>3</th><td>Eugene</td><td>168916</td><td>OR</td></tr><tr><th>4</th><td>Bend</td><td>94520</td><td>OR</td></tr><tr><th>5</th><td>Berkeley</td><td>122324</td><td>CA</td></tr><tr><th>6</th><td>Portland</td><td>647805</td><td>OR</td></tr></tbody></table>"
      ],
      "text/latex": [
       "\\begin{tabular}{r|ccc}\n",
       "\t& city & population & state\\\\\n",
       "\t\\hline\n",
       "\t& String & Int32 & String\\\\\n",
       "\t\\hline\n",
       "\t1 & Corvallis & 57961 & OR \\\\\n",
       "\t2 & Portland & 647805 & OR \\\\\n",
       "\t3 & Eugene & 168916 & OR \\\\\n",
       "\t4 & Bend & 94520 & OR \\\\\n",
       "\t5 & Berkeley & 122324 & CA \\\\\n",
       "\t6 & Portland & 647805 & OR \\\\\n",
       "\\end{tabular}\n"
      ],
      "text/plain": [
       "6×3 DataFrame\n",
       "│ Row │ city      │ population │ state  │\n",
       "│     │ \u001b[90mString\u001b[39m    │ \u001b[90mInt32\u001b[39m      │ \u001b[90mString\u001b[39m │\n",
       "├─────┼───────────┼────────────┼────────┤\n",
       "│ 1   │ Corvallis │ 57961      │ OR     │\n",
       "│ 2   │ Portland  │ 647805     │ OR     │\n",
       "│ 3   │ Eugene    │ 168916     │ OR     │\n",
       "│ 4   │ Bend      │ 94520      │ OR     │\n",
       "│ 5   │ Berkeley  │ 122324     │ CA     │\n",
       "│ 6   │ Portland  │ 647805     │ OR     │"
      ]
     },
     "execution_count": 10,
     "metadata": {},
     "output_type": "execute_result"
    }
   ],
   "source": [
    "push!(df_cities, df_cities[2, :])"
   ]
  },
  {
   "cell_type": "code",
   "execution_count": 11,
   "metadata": {
    "ExecuteTime": {
     "end_time": "2019-10-09T09:55:33.755000-07:00",
     "start_time": "2019-10-09T16:54:42.041Z"
    }
   },
   "outputs": [
    {
     "data": {
      "text/html": [
       "<table class=\"data-frame\"><thead><tr><th></th><th>city</th><th>population</th><th>state</th></tr><tr><th></th><th>String</th><th>Int32</th><th>String</th></tr></thead><tbody><p>5 rows × 3 columns</p><tr><th>1</th><td>Corvallis</td><td>57961</td><td>OR</td></tr><tr><th>2</th><td>Portland</td><td>647805</td><td>OR</td></tr><tr><th>3</th><td>Eugene</td><td>168916</td><td>OR</td></tr><tr><th>4</th><td>Bend</td><td>94520</td><td>OR</td></tr><tr><th>5</th><td>Berkeley</td><td>122324</td><td>CA</td></tr></tbody></table>"
      ],
      "text/latex": [
       "\\begin{tabular}{r|ccc}\n",
       "\t& city & population & state\\\\\n",
       "\t\\hline\n",
       "\t& String & Int32 & String\\\\\n",
       "\t\\hline\n",
       "\t1 & Corvallis & 57961 & OR \\\\\n",
       "\t2 & Portland & 647805 & OR \\\\\n",
       "\t3 & Eugene & 168916 & OR \\\\\n",
       "\t4 & Bend & 94520 & OR \\\\\n",
       "\t5 & Berkeley & 122324 & CA \\\\\n",
       "\\end{tabular}\n"
      ],
      "text/plain": [
       "5×3 DataFrame\n",
       "│ Row │ city      │ population │ state  │\n",
       "│     │ \u001b[90mString\u001b[39m    │ \u001b[90mInt32\u001b[39m      │ \u001b[90mString\u001b[39m │\n",
       "├─────┼───────────┼────────────┼────────┤\n",
       "│ 1   │ Corvallis │ 57961      │ OR     │\n",
       "│ 2   │ Portland  │ 647805     │ OR     │\n",
       "│ 3   │ Eugene    │ 168916     │ OR     │\n",
       "│ 4   │ Bend      │ 94520      │ OR     │\n",
       "│ 5   │ Berkeley  │ 122324     │ CA     │"
      ]
     },
     "execution_count": 11,
     "metadata": {},
     "output_type": "execute_result"
    }
   ],
   "source": [
    "unique!(df_cities)"
   ]
  },
  {
   "cell_type": "markdown",
   "metadata": {},
   "source": [
    "# Week 2 stuff"
   ]
  },
  {
   "cell_type": "code",
   "execution_count": 12,
   "metadata": {
    "ExecuteTime": {
     "end_time": "2019-10-09T09:55:34.565000-07:00",
     "start_time": "2019-10-09T16:54:42.050Z"
    }
   },
   "outputs": [
    {
     "data": {
      "text/plain": [
       "218305.2"
      ]
     },
     "execution_count": 12,
     "metadata": {},
     "output_type": "execute_result"
    }
   ],
   "source": [
    "mean(df_cities.population)"
   ]
  },
  {
   "cell_type": "code",
   "execution_count": 13,
   "metadata": {
    "ExecuteTime": {
     "end_time": "2019-10-09T09:55:37.141000-07:00",
     "start_time": "2019-10-09T16:54:42.056Z"
    }
   },
   "outputs": [
    {
     "data": {
      "text/html": [
       "<table class=\"data-frame\"><thead><tr><th></th><th>eats_steak</th><th>how_cooked</th></tr><tr><th></th><th>String</th><th>String</th></tr></thead><tbody><p>10 rows × 2 columns</p><tr><th>1</th><td>Yes</td><td>Medium rare</td></tr><tr><th>2</th><td>Yes</td><td>Rare</td></tr><tr><th>3</th><td>Yes</td><td>Medium</td></tr><tr><th>4</th><td>Yes</td><td>Medium</td></tr><tr><th>5</th><td>Yes</td><td>Medium rare</td></tr><tr><th>6</th><td>Yes</td><td>Medium rare</td></tr><tr><th>7</th><td>Yes</td><td>Medium</td></tr><tr><th>8</th><td>Yes</td><td>Medium rare</td></tr><tr><th>9</th><td>Yes</td><td>Medium rare</td></tr><tr><th>10</th><td>Yes</td><td>Medium rare</td></tr></tbody></table>"
      ],
      "text/latex": [
       "\\begin{tabular}{r|cc}\n",
       "\t& eats\\_steak & how\\_cooked\\\\\n",
       "\t\\hline\n",
       "\t& String & String\\\\\n",
       "\t\\hline\n",
       "\t1 & Yes & Medium rare \\\\\n",
       "\t2 & Yes & Rare \\\\\n",
       "\t3 & Yes & Medium \\\\\n",
       "\t4 & Yes & Medium \\\\\n",
       "\t5 & Yes & Medium rare \\\\\n",
       "\t6 & Yes & Medium rare \\\\\n",
       "\t7 & Yes & Medium \\\\\n",
       "\t8 & Yes & Medium rare \\\\\n",
       "\t9 & Yes & Medium rare \\\\\n",
       "\t10 & Yes & Medium rare \\\\\n",
       "\\end{tabular}\n"
      ],
      "text/plain": [
       "10×2 DataFrame\n",
       "│ Row │ eats_steak │ how_cooked  │\n",
       "│     │ \u001b[90mString\u001b[39m     │ \u001b[90mString\u001b[39m      │\n",
       "├─────┼────────────┼─────────────┤\n",
       "│ 1   │ Yes        │ Medium rare │\n",
       "│ 2   │ Yes        │ Rare        │\n",
       "│ 3   │ Yes        │ Medium      │\n",
       "│ 4   │ Yes        │ Medium      │\n",
       "│ 5   │ Yes        │ Medium rare │\n",
       "│ 6   │ Yes        │ Medium rare │\n",
       "│ 7   │ Yes        │ Medium      │\n",
       "│ 8   │ Yes        │ Medium rare │\n",
       "│ 9   │ Yes        │ Medium rare │\n",
       "│ 10  │ Yes        │ Medium rare │"
      ]
     },
     "execution_count": 13,
     "metadata": {},
     "output_type": "execute_result"
    }
   ],
   "source": [
    "steak = dropmissing!(DataFrame(CSV.read(\"steak.csv\", header=[:eats_steak, :how_cooked], copycols=true)))\n",
    "first(steak, 10)"
   ]
  },
  {
   "cell_type": "code",
   "execution_count": 14,
   "metadata": {
    "ExecuteTime": {
     "end_time": "2019-10-09T09:55:39.696000-07:00",
     "start_time": "2019-10-09T16:54:42.062Z"
    }
   },
   "outputs": [
    {
     "data": {
      "text/html": [
       "<table class=\"data-frame\"><thead><tr><th></th><th>how_cooked</th><th>count</th></tr><tr><th></th><th>String</th><th>Int32</th></tr></thead><tbody><p>5 rows × 2 columns</p><tr><th>1</th><td>Medium rare</td><td>166</td></tr><tr><th>2</th><td>Medium</td><td>132</td></tr><tr><th>3</th><td>Medium Well</td><td>74</td></tr><tr><th>4</th><td>Well</td><td>35</td></tr><tr><th>5</th><td>Rare</td><td>23</td></tr></tbody></table>"
      ],
      "text/latex": [
       "\\begin{tabular}{r|cc}\n",
       "\t& how\\_cooked & count\\\\\n",
       "\t\\hline\n",
       "\t& String & Int32\\\\\n",
       "\t\\hline\n",
       "\t1 & Medium rare & 166 \\\\\n",
       "\t2 & Medium & 132 \\\\\n",
       "\t3 & Medium Well & 74 \\\\\n",
       "\t4 & Well & 35 \\\\\n",
       "\t5 & Rare & 23 \\\\\n",
       "\\end{tabular}\n"
      ],
      "text/plain": [
       "5×2 DataFrame\n",
       "│ Row │ how_cooked  │ count │\n",
       "│     │ \u001b[90mString\u001b[39m      │ \u001b[90mInt32\u001b[39m │\n",
       "├─────┼─────────────┼───────┤\n",
       "│ 1   │ Medium rare │ 166   │\n",
       "│ 2   │ Medium      │ 132   │\n",
       "│ 3   │ Medium Well │ 74    │\n",
       "│ 4   │ Well        │ 35    │\n",
       "│ 5   │ Rare        │ 23    │"
      ]
     },
     "execution_count": 14,
     "metadata": {},
     "output_type": "execute_result"
    }
   ],
   "source": [
    "steak_result = sort!(by(steak, :how_cooked, count=:how_cooked => length), :count, rev=true)"
   ]
  },
  {
   "cell_type": "code",
   "execution_count": 15,
   "metadata": {
    "ExecuteTime": {
     "end_time": "2019-10-09T09:55:53.289000-07:00",
     "start_time": "2019-10-09T16:54:42.066Z"
    }
   },
   "outputs": [],
   "source": [
    "using PyPlot, PyCall"
   ]
  },
  {
   "cell_type": "code",
   "execution_count": 16,
   "metadata": {
    "ExecuteTime": {
     "end_time": "2019-10-09T09:55:57.756000-07:00",
     "start_time": "2019-10-09T16:54:42.073Z"
    }
   },
   "outputs": [
    {
     "data": {
      "text/html": [
       "<table class=\"data-frame\"><thead><tr><th></th><th>how_cooked</th><th>count</th></tr><tr><th></th><th>String</th><th>Int32</th></tr></thead><tbody><p>5 rows × 2 columns</p><tr><th>1</th><td>Medium rare</td><td>166</td></tr><tr><th>2</th><td>Medium</td><td>132</td></tr><tr><th>3</th><td>Medium Well</td><td>74</td></tr><tr><th>4</th><td>Well</td><td>35</td></tr><tr><th>5</th><td>Rare</td><td>23</td></tr></tbody></table>"
      ],
      "text/latex": [
       "\\begin{tabular}{r|cc}\n",
       "\t& how\\_cooked & count\\\\\n",
       "\t\\hline\n",
       "\t& String & Int32\\\\\n",
       "\t\\hline\n",
       "\t1 & Medium rare & 166 \\\\\n",
       "\t2 & Medium & 132 \\\\\n",
       "\t3 & Medium Well & 74 \\\\\n",
       "\t4 & Well & 35 \\\\\n",
       "\t5 & Rare & 23 \\\\\n",
       "\\end{tabular}\n"
      ],
      "text/plain": [
       "5×2 DataFrame\n",
       "│ Row │ how_cooked  │ count │\n",
       "│     │ \u001b[90mString\u001b[39m      │ \u001b[90mInt32\u001b[39m │\n",
       "├─────┼─────────────┼───────┤\n",
       "│ 1   │ Medium rare │ 166   │\n",
       "│ 2   │ Medium      │ 132   │\n",
       "│ 3   │ Medium Well │ 74    │\n",
       "│ 4   │ Well        │ 35    │\n",
       "│ 5   │ Rare        │ 23    │"
      ]
     },
     "execution_count": 16,
     "metadata": {},
     "output_type": "execute_result"
    }
   ],
   "source": [
    "steak_result"
   ]
  },
  {
   "cell_type": "code",
   "execution_count": 17,
   "metadata": {
    "ExecuteTime": {
     "end_time": "2019-10-09T09:56:05.254000-07:00",
     "start_time": "2019-10-09T16:54:42.078Z"
    }
   },
   "outputs": [
    {
     "data": {
      "image/png": "[encoded data removed]",
      "text/plain": [
       "Figure(PyObject <Figure size 640x480 with 1 Axes>)"
      ]
     },
     "metadata": {},
     "output_type": "display_data"
    },
    {
     "data": {
      "text/plain": [
       "PyObject Text(0.5, 1.0, 'Steak Preferences')"
      ]
     },
     "execution_count": 17,
     "metadata": {},
     "output_type": "execute_result"
    }
   ],
   "source": [
    "figure()\n",
    "barh(\n",
    "    1:size(steak_result, 1),\n",
    "    steak_result.count\n",
    ")    \n",
    "yticks(\n",
    "    1:size(steak_result, 1),\n",
    "    steak_result.how_cooked\n",
    ")\n",
    "xlabel(\"# eaters\")\n",
    "title(\"Steak Preferences\")\n"
   ]
  },
  {
   "cell_type": "code",
   "execution_count": 18,
   "metadata": {
    "ExecuteTime": {
     "end_time": "2019-10-09T09:56:05.298000-07:00",
     "start_time": "2019-10-09T16:54:42.084Z"
    }
   },
   "outputs": [],
   "source": [
    "# for _ in 1:1e6\n",
    "#     print(\"fuck\")\n",
    "# end"
   ]
  },
  {
   "cell_type": "code",
   "execution_count": 19,
   "metadata": {
    "ExecuteTime": {
     "end_time": "2019-10-09T09:56:06.777000-07:00",
     "start_time": "2019-10-09T16:54:42.089Z"
    }
   },
   "outputs": [
    {
     "data": {
      "text/plain": [
       "5-element Array{Int32,1}:\n",
       " 1\n",
       " 2\n",
       " 3\n",
       " 4\n",
       " 5"
      ]
     },
     "execution_count": 19,
     "metadata": {},
     "output_type": "execute_result"
    }
   ],
   "source": [
    "[i for i in 1:size(steak_result, 1)]"
   ]
  },
  {
   "cell_type": "markdown",
   "metadata": {},
   "source": [
    "## salary hist"
   ]
  },
  {
   "cell_type": "code",
   "execution_count": 22,
   "metadata": {
    "ExecuteTime": {
     "end_time": "2019-10-09T10:28:45.986000-07:00",
     "start_time": "2019-10-09T17:28:45.970Z"
    }
   },
   "outputs": [
    {
     "data": {
      "text/html": [
       "<table class=\"data-frame\"><thead><tr><th></th><th>department</th><th>job_title</th><th>salary</th><th>nb_months</th></tr><tr><th></th><th>String</th><th>String</th><th>Float64</th><th>Int64</th></tr></thead><tbody><p>6 rows × 4 columns</p><tr><th>1</th><td>SMT - Mathematics</td><td>Coordinator MSLC</td><td>69840.0</td><td>12</td></tr><tr><th>2</th><td>ESE - Sch Elect Engr/Comp Sci</td><td>Assistant Professor</td><td>94014.0</td><td>9</td></tr><tr><th>3</th><td>LCB - Acad Prog / Student Aff</td><td>Assistant Professor</td><td>101304.0</td><td>9</td></tr><tr><th>4</th><td>MSA - Univ Exploratory Studies</td><td>Coord-Career Major Dec Making</td><td>53004.0</td><td>12</td></tr><tr><th>5</th><td>XEM - Enrollment Mgmt InfoTech</td><td>Operations Manager</td><td>63000.0</td><td>12</td></tr><tr><th>6</th><td>MSA - Counseling Center</td><td>Staff Counselor</td><td>62388.0</td><td>12</td></tr></tbody></table>"
      ],
      "text/latex": [
       "\\begin{tabular}{r|cccc}\n",
       "\t& department & job\\_title & salary & nb\\_months\\\\\n",
       "\t\\hline\n",
       "\t& String & String & Float64 & Int64\\\\\n",
       "\t\\hline\n",
       "\t1 & SMT - Mathematics & Coordinator MSLC & 69840.0 & 12 \\\\\n",
       "\t2 & ESE - Sch Elect Engr/Comp Sci & Assistant Professor & 94014.0 & 9 \\\\\n",
       "\t3 & LCB - Acad Prog / Student Aff & Assistant Professor & 101304.0 & 9 \\\\\n",
       "\t4 & MSA - Univ Exploratory Studies & Coord-Career Major Dec Making & 53004.0 & 12 \\\\\n",
       "\t5 & XEM - Enrollment Mgmt InfoTech & Operations Manager & 63000.0 & 12 \\\\\n",
       "\t6 & MSA - Counseling Center & Staff Counselor & 62388.0 & 12 \\\\\n",
       "\\end{tabular}\n"
      ],
      "text/plain": [
       "6×4 DataFrame. Omitted printing of 2 columns\n",
       "│ Row │ department                     │ job_title                     │\n",
       "│     │ \u001b[90mString\u001b[39m                         │ \u001b[90mString\u001b[39m                        │\n",
       "├─────┼────────────────────────────────┼───────────────────────────────┤\n",
       "│ 1   │ SMT - Mathematics              │ Coordinator MSLC              │\n",
       "│ 2   │ ESE - Sch Elect Engr/Comp Sci  │ Assistant Professor           │\n",
       "│ 3   │ LCB - Acad Prog / Student Aff  │ Assistant Professor           │\n",
       "│ 4   │ MSA - Univ Exploratory Studies │ Coord-Career Major Dec Making │\n",
       "│ 5   │ XEM - Enrollment Mgmt InfoTech │ Operations Manager            │\n",
       "│ 6   │ MSA - Counseling Center        │ Staff Counselor               │"
      ]
     },
     "execution_count": 22,
     "metadata": {},
     "output_type": "execute_result"
    }
   ],
   "source": [
    "salaries = DataFrame(CSV.read(\"osu_salaries.csv\"))\n",
    "first(salaries, 6)"
   ]
  },
  {
   "cell_type": "code",
   "execution_count": 24,
   "metadata": {
    "ExecuteTime": {
     "end_time": "2019-10-09T10:29:26.491000-07:00",
     "start_time": "2019-10-09T17:29:25.560Z"
    }
   },
   "outputs": [
    {
     "data": {
      "image/png": "[encoded data removed]",
      "text/plain": [
       "Figure(PyObject <Figure size 640x480 with 1 Axes>)"
      ]
     },
     "metadata": {},
     "output_type": "display_data"
    },
    {
     "data": {
      "text/plain": [
       "([2.0, 20.0, 270.0, 637.0, 539.0, 440.0, 362.0, 323.0, 240.0, 196.0  …  0.0, 0.0, 0.0, 0.0, 1.0, 0.0, 0.0, 0.0, 0.0, 1.0], [17550.0, 26874.5, 36199.1, 45523.6, 54848.2, 64172.7, 73497.2, 82821.8, 92146.3, 1.01471e5  …  8.66083e5, 8.75408e5, 8.84732e5, 8.94057e5, 9.03381e5, 9.12706e5, 9.2203e5, 9.31355e5, 9.40679e5, 950004.0], PyObject[PyObject <matplotlib.patches.Rectangle object at 0xce1dbc2c>, PyObject <matplotlib.patches.Rectangle object at 0xce1dbacc>, PyObject <matplotlib.patches.Rectangle object at 0xce1dbf6c>, PyObject <matplotlib.patches.Rectangle object at 0xcdf9138c>, PyObject <matplotlib.patches.Rectangle object at 0xcdf9146c>, PyObject <matplotlib.patches.Rectangle object at 0xcdf9196c>, PyObject <matplotlib.patches.Rectangle object at 0xcdf91b0c>, PyObject <matplotlib.patches.Rectangle object at 0xcdf91d6c>, PyObject <matplotlib.patches.Rectangle object at 0xcdf915ec>, PyObject <matplotlib.patches.Rectangle object at 0xcdf916cc>  …  PyObject <matplotlib.patches.Rectangle object at 0xcdf78fac>, PyObject <matplotlib.patches.Rectangle object at 0xcdf8040c>, PyObject <matplotlib.patches.Rectangle object at 0xcdf8064c>, PyObject <matplotlib.patches.Rectangle object at 0xcdf8088c>, PyObject <matplotlib.patches.Rectangle object at 0xcdf80acc>, PyObject <matplotlib.patches.Rectangle object at 0xcdf80d0c>, PyObject <matplotlib.patches.Rectangle object at 0xcdf80f4c>, PyObject <matplotlib.patches.Rectangle object at 0xcdf80f8c>, PyObject <matplotlib.patches.Rectangle object at 0xcdf0b3ec>, PyObject <matplotlib.patches.Rectangle object at 0xcdf0b62c>])"
      ]
     },
     "execution_count": 24,
     "metadata": {},
     "output_type": "execute_result"
    }
   ],
   "source": [
    "PyPlot.hist(salaries.salary, bins=100, alpha=0.5)"
   ]
  },
  {
   "cell_type": "code",
   "execution_count": 33,
   "metadata": {
    "ExecuteTime": {
     "end_time": "2019-10-09T10:33:23.170000-07:00",
     "start_time": "2019-10-09T17:33:23.158Z"
    }
   },
   "outputs": [
    {
     "ename": "PyCall.PyError",
     "evalue": "PyError (PyImport_ImportModule\n\nThe Python package seaborn could not be found by pyimport. Usually this means\nthat you did not install seaborn in the Python version being used by PyCall.\n\nPyCall is currently configured to use the Julia-specific Python distribution\ninstalled by the Conda.jl package.  To install the seaborn module, you can\nuse `pyimport_conda(\"seaborn\", PKG)`, where PKG is the Anaconda\npackage the contains the module seaborn, or alternatively you can use the\nConda package directly (via `using Conda` followed by `Conda.add` etcetera).\n\nAlternatively, if you want to use a different Python distribution on your\nsystem, such as a system-wide Python (as opposed to the Julia-specific Python),\nyou can re-configure PyCall with that Python.   As explained in the PyCall\ndocumentation, set ENV[\"PYTHON\"] to the path/name of the python executable\nyou want to use, run Pkg.build(\"PyCall\"), and re-launch Julia.\n\n) <class 'ModuleNotFoundError'>\nModuleNotFoundError(\"No module named 'seaborn'\")\n",
     "output_type": "error",
     "traceback": [
      "PyError (PyImport_ImportModule\n\nThe Python package seaborn could not be found by pyimport. Usually this means\nthat you did not install seaborn in the Python version being used by PyCall.\n\nPyCall is currently configured to use the Julia-specific Python distribution\ninstalled by the Conda.jl package.  To install the seaborn module, you can\nuse `pyimport_conda(\"seaborn\", PKG)`, where PKG is the Anaconda\npackage the contains the module seaborn, or alternatively you can use the\nConda package directly (via `using Conda` followed by `Conda.add` etcetera).\n\nAlternatively, if you want to use a different Python distribution on your\nsystem, such as a system-wide Python (as opposed to the Julia-specific Python),\nyou can re-configure PyCall with that Python.   As explained in the PyCall\ndocumentation, set ENV[\"PYTHON\"] to the path/name of the python executable\nyou want to use, run Pkg.build(\"PyCall\"), and re-launch Julia.\n\n) <class 'ModuleNotFoundError'>\nModuleNotFoundError(\"No module named 'seaborn'\")\n",
      "",
      "Stacktrace:",
      " [1] pyimport(::String) at /home/mick/.julia/packages/PyCall/ttONZ/src/PyCall.jl:544",
      " [2] top-level scope at In[33]:1"
     ]
    }
   ],
   "source": [
    "# ;conda install seaborn -y\n",
    "# using PyCall\n",
    "sns = pyimport(\"seaborn\")"
   ]
  },
  {
   "cell_type": "code",
   "execution_count": 40,
   "metadata": {
    "ExecuteTime": {
     "end_time": "2019-10-09T10:38:17.264000-07:00",
     "start_time": "2019-10-09T17:38:17.257Z"
    }
   },
   "outputs": [
    {
     "ename": "LoadError",
     "evalue": "syntax: space before \".\" not allowed in \"viable_job_titles[1] .\"",
     "output_type": "error",
     "traceback": [
      "syntax: space before \".\" not allowed in \"viable_job_titles[1] .\"",
      ""
     ]
    }
   ],
   "source": [
    "viable_job_titles = [\n",
    "    \"Assistant Professor\",\n",
    "    \"Associate Professor\", \n",
    "    \"Professor\"\n",
    "]\n",
    "\n",
    "salaries[viable_job_titles[1] .in salaries[:job_title]]"
   ]
  },
  {
   "cell_type": "code",
   "execution_count": 68,
   "metadata": {
    "ExecuteTime": {
     "end_time": "2019-10-11T09:10:10.068000-07:00",
     "start_time": "2019-10-11T16:10:09.263Z"
    }
   },
   "outputs": [
    {
     "data": {
      "image/png": "[encoded data removed]",
      "text/plain": [
       "Figure(PyObject <Figure size 640x480 with 1 Axes>)"
      ]
     },
     "metadata": {},
     "output_type": "display_data"
    }
   ],
   "source": [
    "filter!(row -> row[:job_title] in viable_job_titles, salaries)\n",
    "PyPlot.hist(salaries.salary, bins=100, alpha=0.5);"
   ]
  },
  {
   "cell_type": "code",
   "execution_count": 67,
   "metadata": {
    "ExecuteTime": {
     "end_time": "2019-10-09T10:51:38.568000-07:00",
     "start_time": "2019-10-09T17:51:37.969Z"
    }
   },
   "outputs": [
    {
     "data": {
      "image/png": "[encoded data removed]",
      "text/plain": [
       "Figure(PyObject <Figure size 640x480 with 1 Axes>)"
      ]
     },
     "metadata": {},
     "output_type": "display_data"
    }
   ],
   "source": [
    "bins = range(minimum(salaries[:, :salary]), stop=maximum(salaries[:, :salary]), length=30)\n",
    "\n",
    "for g in groupby(salaries, :job_title)\n",
    "    PyPlot.hist(g.salary, bins=bins, alpha=0.6, label=g.job_title[1])\n",
    "    PyPlot.legend()\n",
    "    PyPlot.xlabel(\"Salary (USD)\")\n",
    "    PyPlot.ylabel(\"# Profs\")\n",
    "    PyPlot.title(\"Salaries\")\n",
    "end"
   ]
  },
  {
   "cell_type": "markdown",
   "metadata": {},
   "source": [
    "# Line Plots"
   ]
  },
  {
   "cell_type": "code",
   "execution_count": 83,
   "metadata": {
    "ExecuteTime": {
     "end_time": "2019-10-11T10:13:02.291000-07:00",
     "start_time": "2019-10-11T17:13:02.250Z"
    }
   },
   "outputs": [
    {
     "data": {
      "text/html": [
       "<table class=\"data-frame\"><thead><tr><th></th><th>pressure (torr)</th><th>gas uptake (mmol/g)</th></tr><tr><th></th><th>Float64</th><th>Float64</th></tr></thead><tbody><p>5 rows × 2 columns</p><tr><th>1</th><td>24.2376</td><td>0.0300429</td></tr><tr><th>2</th><td>39.9295</td><td>0.0498731</td></tr><tr><th>3</th><td>55.2449</td><td>0.0685841</td></tr><tr><th>4</th><td>77.8983</td><td>0.0953794</td></tr><tr><th>5</th><td>114.79</td><td>0.136813</td></tr></tbody></table>"
      ],
      "text/latex": [
       "\\begin{tabular}{r|cc}\n",
       "\t& pressure (torr) & gas uptake (mmol/g)\\\\\n",
       "\t\\hline\n",
       "\t& Float64 & Float64\\\\\n",
       "\t\\hline\n",
       "\t1 & 24.2376 & 0.0300429 \\\\\n",
       "\t2 & 39.9295 & 0.0498731 \\\\\n",
       "\t3 & 55.2449 & 0.0685841 \\\\\n",
       "\t4 & 77.8983 & 0.0953794 \\\\\n",
       "\t5 & 114.79 & 0.136813 \\\\\n",
       "\\end{tabular}\n"
      ],
      "text/plain": [
       "5×2 DataFrame\n",
       "│ Row │ pressure (torr) │ gas uptake (mmol/g) │\n",
       "│     │ \u001b[90mFloat64\u001b[39m         │ \u001b[90mFloat64\u001b[39m             │\n",
       "├─────┼─────────────────┼─────────────────────┤\n",
       "│ 1   │ 24.2376         │ 0.0300429           │\n",
       "│ 2   │ 39.9295         │ 0.0498731           │\n",
       "│ 3   │ 55.2449         │ 0.0685841           │\n",
       "│ 4   │ 77.8983         │ 0.0953794           │\n",
       "│ 5   │ 114.79          │ 0.136813            │"
      ]
     },
     "execution_count": 83,
     "metadata": {},
     "output_type": "execute_result"
    }
   ],
   "source": [
    "gas = [\"Xe\", \"Kr\"]\n",
    "pressure_key = Symbol(\"pressure (torr)\")\n",
    "gas_ads_key = Symbol(\"gas uptake (mmol/g)\")\n",
    "ads_data = Dict{String, DataFrame}()\n",
    "for g in gas\n",
    "    ads_data[g] = DataFrame(CSV.read(\"$g.csv\"))\n",
    "end\n",
    "\n",
    "first(ads_data[\"Kr\"], 5)"
   ]
  },
  {
   "cell_type": "code",
   "execution_count": 82,
   "metadata": {
    "ExecuteTime": {
     "end_time": "2019-10-11T10:12:18.363000-07:00",
     "start_time": "2019-10-11T17:12:18.303Z"
    }
   },
   "outputs": [
    {
     "ename": "MethodError",
     "evalue": "MethodError: no method matching keys(::DataFrame)\nClosest candidates are:\n  keys(!Matched::Core.SimpleVector) at essentials.jl:591\n  keys(!Matched::Cmd) at process.jl:847\n  keys(!Matched::DataFrames.Index) at /home/mick/.julia/packages/DataFrames/yH0f6/src/other/index.jl:83\n  ...",
     "output_type": "error",
     "traceback": [
      "MethodError: no method matching keys(::DataFrame)\nClosest candidates are:\n  keys(!Matched::Core.SimpleVector) at essentials.jl:591\n  keys(!Matched::Cmd) at process.jl:847\n  keys(!Matched::DataFrames.Index) at /home/mick/.julia/packages/DataFrames/yH0f6/src/other/index.jl:83\n  ...",
      "",
      "Stacktrace:",
      " [1] top-level scope at In[82]:1"
     ]
    }
   ],
   "source": []
  },
  {
   "cell_type": "code",
   "execution_count": 99,
   "metadata": {
    "ExecuteTime": {
     "end_time": "2019-10-11T10:19:54.031000-07:00",
     "start_time": "2019-10-11T17:19:53.592Z"
    }
   },
   "outputs": [
    {
     "data": {
      "image/png": "[encoded data removed]",
      "text/plain": [
       "Figure(PyObject <Figure size 640x480 with 1 Axes>)"
      ]
     },
     "metadata": {},
     "output_type": "display_data"
    }
   ],
   "source": [
    "gas_marker_dict = Dict(\"Xe\" => \"o\", \"Kr\" => \"x\")\n",
    "figure()\n",
    "for gas in gas\n",
    "    marker = gas_marker_dict[gas]\n",
    "    PyPlot.plot(\n",
    "        ads_data[gas][:, pressure_key], \n",
    "        ads_data[gas][:, gas_ads_key],\n",
    "        \"$marker-\",\n",
    "        lw=1,\n",
    "        alpha=0.6,\n",
    "        label=gas\n",
    "    )\n",
    "    PyPlot.grid(\"on\", alpha=0.5)\n",
    "    PyPlot.legend()\n",
    "    PyPlot.xlabel(pressure_key)\n",
    "    PyPlot.ylabel(gas_ads_key)\n",
    "end"
   ]
  },
  {
   "cell_type": "markdown",
   "metadata": {},
   "source": [
    "# Scatter Plots"
   ]
  },
  {
   "cell_type": "code",
   "execution_count": 136,
   "metadata": {
    "ExecuteTime": {
     "end_time": "2019-10-11T10:38:59.810000-07:00",
     "start_time": "2019-10-11T17:38:59.799Z"
    }
   },
   "outputs": [
    {
     "data": {
      "text/html": [
       "<table class=\"data-frame\"><thead><tr><th></th><th>country</th><th>income</th></tr><tr><th></th><th>String</th><th>Float64</th></tr></thead><tbody><p>6 rows × 2 columns</p><tr><th>1</th><td>Germany</td><td>25420.3</td></tr><tr><th>2</th><td>Spain</td><td>15418.8</td></tr><tr><th>3</th><td>Bosnia and Herzegovina</td><td>2183.26</td></tr><tr><th>4</th><td>Congo, Rep.</td><td>1253.8</td></tr><tr><th>5</th><td>Malta</td><td>11062.2</td></tr><tr><th>6</th><td>Mexico</td><td>6124.71</td></tr></tbody></table>"
      ],
      "text/latex": [
       "\\begin{tabular}{r|cc}\n",
       "\t& country & income\\\\\n",
       "\t\\hline\n",
       "\t& String & Float64\\\\\n",
       "\t\\hline\n",
       "\t1 & Germany & 25420.3 \\\\\n",
       "\t2 & Spain & 15418.8 \\\\\n",
       "\t3 & Bosnia and Herzegovina & 2183.26 \\\\\n",
       "\t4 & Congo, Rep. & 1253.8 \\\\\n",
       "\t5 & Malta & 11062.2 \\\\\n",
       "\t6 & Mexico & 6124.71 \\\\\n",
       "\\end{tabular}\n"
      ],
      "text/plain": [
       "6×2 DataFrame\n",
       "│ Row │ country                │ income  │\n",
       "│     │ \u001b[90mString\u001b[39m                 │ \u001b[90mFloat64\u001b[39m │\n",
       "├─────┼────────────────────────┼─────────┤\n",
       "│ 1   │ Germany                │ 25420.3 │\n",
       "│ 2   │ Spain                  │ 15418.8 │\n",
       "│ 3   │ Bosnia and Herzegovina │ 2183.26 │\n",
       "│ 4   │ Congo, Rep.            │ 1253.8  │\n",
       "│ 5   │ Malta                  │ 11062.2 │\n",
       "│ 6   │ Mexico                 │ 6124.71 │"
      ]
     },
     "execution_count": 136,
     "metadata": {},
     "output_type": "execute_result"
    }
   ],
   "source": [
    "year = Symbol(\"2010\")\n",
    "df_income = DataFrame(CSV.read(\"GDP_per_capita.csv\"), copycols=true)[:, [:country, year]]\n",
    "dropmissing!(df_income, year)\n",
    "rename!(df_income, year => :income)\n",
    "first(df_income, 6)"
   ]
  },
  {
   "cell_type": "code",
   "execution_count": 135,
   "metadata": {
    "ExecuteTime": {
     "end_time": "2019-10-11T10:38:47.542000-07:00",
     "start_time": "2019-10-11T17:38:47.488Z"
    }
   },
   "outputs": [
    {
     "data": {
      "text/html": [
       "<table class=\"data-frame\"><thead><tr><th></th><th>country</th><th>life_expectancy</th></tr><tr><th></th><th>String</th><th>Float64</th></tr></thead><tbody><p>6 rows × 2 columns</p><tr><th>1</th><td>Syria</td><td>76.5</td></tr><tr><th>2</th><td>Congo, Dem. Rep.</td><td>58.4</td></tr><tr><th>3</th><td>Chad</td><td>55.8</td></tr><tr><th>4</th><td>Turkmenistan</td><td>68.1</td></tr><tr><th>5</th><td>Mali</td><td>59.2</td></tr><tr><th>6</th><td>Grenada</td><td>71.0</td></tr></tbody></table>"
      ],
      "text/latex": [
       "\\begin{tabular}{r|cc}\n",
       "\t& country & life\\_expectancy\\\\\n",
       "\t\\hline\n",
       "\t& String & Float64\\\\\n",
       "\t\\hline\n",
       "\t1 & Syria & 76.5 \\\\\n",
       "\t2 & Congo, Dem. Rep. & 58.4 \\\\\n",
       "\t3 & Chad & 55.8 \\\\\n",
       "\t4 & Turkmenistan & 68.1 \\\\\n",
       "\t5 & Mali & 59.2 \\\\\n",
       "\t6 & Grenada & 71.0 \\\\\n",
       "\\end{tabular}\n"
      ],
      "text/plain": [
       "6×2 DataFrame\n",
       "│ Row │ country          │ life_expectancy │\n",
       "│     │ \u001b[90mString\u001b[39m           │ \u001b[90mFloat64\u001b[39m         │\n",
       "├─────┼──────────────────┼─────────────────┤\n",
       "│ 1   │ Syria            │ 76.5            │\n",
       "│ 2   │ Congo, Dem. Rep. │ 58.4            │\n",
       "│ 3   │ Chad             │ 55.8            │\n",
       "│ 4   │ Turkmenistan     │ 68.1            │\n",
       "│ 5   │ Mali             │ 59.2            │\n",
       "│ 6   │ Grenada          │ 71.0            │"
      ]
     },
     "execution_count": 135,
     "metadata": {},
     "output_type": "execute_result"
    }
   ],
   "source": [
    "df_life = DataFrame(CSV.read(\"life_expectancy.csv\"), copycols=true)[:,  [:country, year]]\n",
    "dropmissing!(df_life, year)\n",
    "rename!(df_life, year => :life_expectancy)\n",
    "first(df_life, 6)"
   ]
  },
  {
   "cell_type": "code",
   "execution_count": 138,
   "metadata": {
    "ExecuteTime": {
     "end_time": "2019-10-11T10:39:13.830000-07:00",
     "start_time": "2019-10-11T17:39:13.797Z"
    }
   },
   "outputs": [
    {
     "data": {
      "text/html": [
       "<table class=\"data-frame\"><thead><tr><th></th><th>country</th><th>life_expectancy</th><th>income</th></tr><tr><th></th><th>String</th><th>Float64</th><th>Float64</th></tr></thead><tbody><p>6 rows × 3 columns</p><tr><th>1</th><td>Syria</td><td>76.5</td><td>1525.81</td></tr><tr><th>2</th><td>Congo, Dem. Rep.</td><td>58.4</td><td>105.532</td></tr><tr><th>3</th><td>Chad</td><td>55.8</td><td>300.106</td></tr><tr><th>4</th><td>Turkmenistan</td><td>68.1</td><td>1209.79</td></tr><tr><th>5</th><td>Mali</td><td>59.2</td><td>273.254</td></tr><tr><th>6</th><td>Grenada</td><td>71.0</td><td>6011.85</td></tr></tbody></table>"
      ],
      "text/latex": [
       "\\begin{tabular}{r|ccc}\n",
       "\t& country & life\\_expectancy & income\\\\\n",
       "\t\\hline\n",
       "\t& String & Float64 & Float64\\\\\n",
       "\t\\hline\n",
       "\t1 & Syria & 76.5 & 1525.81 \\\\\n",
       "\t2 & Congo, Dem. Rep. & 58.4 & 105.532 \\\\\n",
       "\t3 & Chad & 55.8 & 300.106 \\\\\n",
       "\t4 & Turkmenistan & 68.1 & 1209.79 \\\\\n",
       "\t5 & Mali & 59.2 & 273.254 \\\\\n",
       "\t6 & Grenada & 71.0 & 6011.85 \\\\\n",
       "\\end{tabular}\n"
      ],
      "text/plain": [
       "6×3 DataFrame\n",
       "│ Row │ country          │ life_expectancy │ income  │\n",
       "│     │ \u001b[90mString\u001b[39m           │ \u001b[90mFloat64\u001b[39m         │ \u001b[90mFloat64\u001b[39m │\n",
       "├─────┼──────────────────┼─────────────────┼─────────┤\n",
       "│ 1   │ Syria            │ 76.5            │ 1525.81 │\n",
       "│ 2   │ Congo, Dem. Rep. │ 58.4            │ 105.532 │\n",
       "│ 3   │ Chad             │ 55.8            │ 300.106 │\n",
       "│ 4   │ Turkmenistan     │ 68.1            │ 1209.79 │\n",
       "│ 5   │ Mali             │ 59.2            │ 273.254 │\n",
       "│ 6   │ Grenada          │ 71.0            │ 6011.85 │"
      ]
     },
     "execution_count": 138,
     "metadata": {},
     "output_type": "execute_result"
    }
   ],
   "source": [
    "df_plot = join(df_life, df_income, on=:country, kind=:inner)\n",
    "first(df_plot, 6)"
   ]
  },
  {
   "cell_type": "code",
   "execution_count": 162,
   "metadata": {
    "ExecuteTime": {
     "end_time": "2019-10-11T10:47:23.019000-07:00",
     "start_time": "2019-10-11T17:47:22.394Z"
    }
   },
   "outputs": [
    {
     "data": {
      "image/png": "[encoded data removed]",
      "text/plain": [
       "Figure(PyObject <Figure size 800x550 with 1 Axes>)"
      ]
     },
     "metadata": {},
     "output_type": "display_data"
    }
   ],
   "source": [
    "figure()\n",
    "xlabel(\"Income per person (USD)\")\n",
    "ylabel(\"Life expectancy (yrs)\")\n",
    "scatter(\n",
    "    df_plot.income,\n",
    "    df_plot.life_expectancy,\n",
    "    alpha=0.5,\n",
    "    s=12,\n",
    "    lw=0\n",
    ")\n",
    "grid(\"on\", alpha=0.5, which=\"both\")\n",
    "xscale(\"log\")"
   ]
  },
  {
   "cell_type": "code",
   "execution_count": null,
   "metadata": {},
   "outputs": [],
   "source": [
    "ax.set_x"
   ]
  }
 ],
 "metadata": {
  "kernelspec": {
   "display_name": "Julia 1.2.0",
   "language": "julia",
   "name": "julia-1.2"
  },
  "language_info": {
   "file_extension": ".jl",
   "mimetype": "application/julia",
   "name": "julia",
   "version": "1.2.0"
  }
 },
 "nbformat": 4,
 "nbformat_minor": 2
}
