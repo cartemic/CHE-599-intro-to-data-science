{
 "cells": [
  {
   "cell_type": "markdown",
   "metadata": {},
   "source": [
    "## $p^*$\n",
    "select some probability threshold $p^*$\n",
    "\n",
    "remember: we are using $Pr(Y=1|\\vec{x})$ so 1 is positive and 0 is negative\n",
    "\n",
    "* $p^* \\rightarrow 1$: fewer false negatives, more false positives\n",
    "* $p^* \\rightarrow 0$: fewer false positives, more false negatives\n",
    "\n",
    "once $p^*$ is chosen, assess LR performance with confusion matrix (see pdf)\n",
    "\n",
    "## ROC Curve\n",
    "ROC (Recieiver Operator Characteristic) curve scans through threshold values $p^*$ and plots $TPR$ (true pos rate) vs $FPR$ (false pos rate)\n",
    "\n",
    "### TPR\n",
    "True positive rate is the fraction of positive examples predicted to be positive\n",
    "$$TPR = \\frac{TP}{TP + FN}$$\n",
    "\n",
    "where $TP$ represents the number of examples correctly labeled as positive $TP + FN$ represents the number of positive examples\n",
    "\n",
    "### FPR\n",
    "False positive rate is the fradtion of negative examples predicted to be positive\n",
    "$$FPR = \\frac{FP}{FP + TN}$$\n",
    "\n",
    "where $FP$ represents the negative examples labeled as positive $FP + TN$ represents the number of negative examples\n",
    "\n",
    "### Goal\n",
    "Ideally we want $TPR==1$ and $FPR==0$\n",
    "\n",
    "* small FPR and small TPR: $p^*$ too big\n",
    "* large FPR and large TPR: $P^*$ too small\n",
    "* which threshold you choose is up to you\n",
    "* are under the curve (AUC): \n",
    "    * want this to be 1.0\n",
    "    * random guessing: 0.5\n",
    "        1. randomly select a positive instance from the data: $\\vec{x}_+$\n",
    "        2. randomly select a negative instance from the data: $\\vec{x}_-$\n",
    "        3. $AUC = Pr[Pr(Y=1|\\vec{x}_+ > Pr(Y=1|\\vec{x}_-)]$"
   ]
  }
 ],
 "metadata": {
  "kernelspec": {
   "display_name": "Julia 1.2.0",
   "language": "julia",
   "name": "julia-1.2"
  },
  "language_info": {
   "file_extension": ".jl",
   "mimetype": "application/julia",
   "name": "julia",
   "version": "1.2.0"
  }
 },
 "nbformat": 4,
 "nbformat_minor": 2
}
