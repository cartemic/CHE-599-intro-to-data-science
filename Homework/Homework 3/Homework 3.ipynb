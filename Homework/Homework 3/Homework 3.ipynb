{
 "cells": [
  {
   "cell_type": "markdown",
   "metadata": {},
   "source": [
    "# homework 3: permutation tests"
   ]
  },
  {
   "cell_type": "code",
   "execution_count": 1,
   "metadata": {
    "ExecuteTime": {
     "end_time": "2019-10-21T09:49:35.473000-07:00",
     "start_time": "2019-10-21T16:49:17.443Z"
    }
   },
   "outputs": [],
   "source": [
    "using DataFrames\n",
    "using CSV\n",
    "using PyPlot\n",
    "using Random\n",
    "\n",
    "# (optional) change the style. see styles here: \n",
    "# https://matplotlib.org/3.1.1/gallery/style_sheets/style_sheets_reference.html\n",
    "PyPlot.matplotlib.style.use(\"bmh\")                                    \n",
    "                                                                                  \n",
    "# (optional) change settings for all plots at once, e.g. I like larger font \n",
    "# size                           \n",
    "rcParams = PyPlot.PyDict(PyPlot.matplotlib.rcParams)                           \n",
    "rcParams[\"font.size\"] = 16\n",
    "\n",
    "# (optional) change the max width of columns of `DataFrame`\n",
    "#  that are displayed in the Juptyer Notebook.\n",
    "ENV[\"COLUMNS\"] = 300; # characters"
   ]
  },
  {
   "cell_type": "markdown",
   "metadata": {},
   "source": [
    "### modifying the Cavendish banana to make it more resistant to Panama disease\n",
    "\n",
    "The Cavendish [banana is threatened](https://www.theguardian.com/science/2018/aug/05/science-search-for-a-super-banana-panama-disease-gm-gene-editing) by Panama disease, which is caused by a fungus. An active area of research is to genetically modify the Cavendish banana plant to make it resistant to Panama disease.\n",
    "\n",
    "<img src=https://upload.wikimedia.org/wikipedia/commons/thumb/9/9b/Cavendish_Banana_DS.jpg/1920px-Cavendish_Banana_DS.jpg width=200>\n",
    "\n",
    "In this homework assignment, we have identified a gene in the banana plant, gene X, that is thought to be associated with resistance to fungal infection. Using modern gene editing tools such as CRISPR, we are able to make a precise, single-nucleotide edit to the gene X that appears in the wild. The hope is that this single nucleotide polymorphism will confer protection against fungal infection. \n",
    "\n",
    "To experimentally test whether a certain mutation of gene X will confer greater resistance to Panama disease, we randomly select 60 healthy banana plants from different regions/farms that have not been exposed to the fungus causing Panama disease (all free of Panama disease). Of these 60 plants, we randomly select 30 to receive the genetic mutation on gene X. We then collect one seed from all 60 plants. \n",
    "\n",
    "A botanist then plants each seed in a pot whose soil is known to harbor the fungus that causes Panama disease. The plants are all contained in a single greenhouse. After one year, the botanist records whether or not each grown banana plant has been infected with Panama disease. The study is \"blind\" because we never told the botanist which seeds are modified and which are not. This way, the botanist cannot (advertently or inadvertently) treat the two different variants of plants differently and thereby influence the outcome of the experiment in a biased manner.\n",
    "\n",
    "(1) the results of our randomized experiment are in `banana_study.csv`. each row represents a banana plant. the `:gene_x` attribute indicates whether gene X in the banana plant is the wild type or mutant. the `:outcome` attribute indicates the outcome of the experiment (infected or not infected). read in `banana_study.csv` as a `DataFrame`, `df`."
   ]
  },
  {
   "cell_type": "code",
   "execution_count": 17,
   "metadata": {
    "ExecuteTime": {
     "end_time": "2019-10-21T09:59:19.703000-07:00",
     "start_time": "2019-10-21T16:59:19.696Z"
    }
   },
   "outputs": [
    {
     "name": "stdout",
     "output_type": "stream",
     "text": [
      "(60, 2)\n"
     ]
    },
    {
     "data": {
      "text/html": [
       "<table class=\"data-frame\"><thead><tr><th></th><th>gene_x</th><th>outcome</th></tr><tr><th></th><th>String</th><th>String</th></tr></thead><tbody><p>6 rows × 2 columns</p><tr><th>1</th><td>wild type</td><td>not infected</td></tr><tr><th>2</th><td>wild type</td><td>infected</td></tr><tr><th>3</th><td>wild type</td><td>not infected</td></tr><tr><th>4</th><td>wild type</td><td>not infected</td></tr><tr><th>5</th><td>wild type</td><td>not infected</td></tr><tr><th>6</th><td>wild type</td><td>not infected</td></tr></tbody></table>"
      ],
      "text/latex": [
       "\\begin{tabular}{r|cc}\n",
       "\t& gene\\_x & outcome\\\\\n",
       "\t\\hline\n",
       "\t& String & String\\\\\n",
       "\t\\hline\n",
       "\t1 & wild type & not infected \\\\\n",
       "\t2 & wild type & infected \\\\\n",
       "\t3 & wild type & not infected \\\\\n",
       "\t4 & wild type & not infected \\\\\n",
       "\t5 & wild type & not infected \\\\\n",
       "\t6 & wild type & not infected \\\\\n",
       "\\end{tabular}\n"
      ],
      "text/plain": [
       "6×2 DataFrame\n",
       "│ Row │ gene_x    │ outcome      │\n",
       "│     │ \u001b[90mString\u001b[39m    │ \u001b[90mString\u001b[39m       │\n",
       "├─────┼───────────┼──────────────┤\n",
       "│ 1   │ wild type │ not infected │\n",
       "│ 2   │ wild type │ infected     │\n",
       "│ 3   │ wild type │ not infected │\n",
       "│ 4   │ wild type │ not infected │\n",
       "│ 5   │ wild type │ not infected │\n",
       "│ 6   │ wild type │ not infected │"
      ]
     },
     "execution_count": 17,
     "metadata": {},
     "output_type": "execute_result"
    }
   ],
   "source": [
    "df = CSV.read(\n",
    "    joinpath(\n",
    "        \"data\",\n",
    "        \"banana_study.csv\"\n",
    "    ),\n",
    "    copycols=true\n",
    ")\n",
    "println(size(df))\n",
    "first(df, 6)"
   ]
  },
  {
   "cell_type": "markdown",
   "metadata": {},
   "source": [
    "(2) use the `by` command to group the banana plants in `df` by genetic variant and create a new `DataFrame`, `df_outcome`, with a new column, `p_infected`, that contains the proportion of plants of that variant that are infected by the fungus.\n",
    "\n",
    "i.e. create a dataframe, `df_outcome`:\n",
    "```\n",
    "     gene_x      p_infected\n",
    "    wild type       ...\n",
    "     mutant         ...\n",
    "```"
   ]
  },
  {
   "cell_type": "code",
   "execution_count": 14,
   "metadata": {
    "ExecuteTime": {
     "end_time": "2019-10-21T09:56:44.500000-07:00",
     "start_time": "2019-10-21T16:56:44.213Z"
    },
    "scrolled": true
   },
   "outputs": [
    {
     "data": {
      "text/html": [
       "<table class=\"data-frame\"><thead><tr><th></th><th>gene_x</th><th>p_infected</th></tr><tr><th></th><th>String</th><th>Int64</th></tr></thead><tbody><p>2 rows × 2 columns</p><tr><th>1</th><td>wild type</td><td>4</td></tr><tr><th>2</th><td>mutant</td><td>9</td></tr></tbody></table>"
      ],
      "text/latex": [
       "\\begin{tabular}{r|cc}\n",
       "\t& gene\\_x & p\\_infected\\\\\n",
       "\t\\hline\n",
       "\t& String & Int64\\\\\n",
       "\t\\hline\n",
       "\t1 & wild type & 4 \\\\\n",
       "\t2 & mutant & 9 \\\\\n",
       "\\end{tabular}\n"
      ],
      "text/plain": [
       "2×2 DataFrame\n",
       "│ Row │ gene_x    │ p_infected │\n",
       "│     │ \u001b[90mString\u001b[39m    │ \u001b[90mInt64\u001b[39m      │\n",
       "├─────┼───────────┼────────────┤\n",
       "│ 1   │ wild type │ 4          │\n",
       "│ 2   │ mutant    │ 9          │"
      ]
     },
     "execution_count": 14,
     "metadata": {},
     "output_type": "execute_result"
    }
   ],
   "source": [
    "df_outcome = by(\n",
    "    df,\n",
    "    :gene_x,\n",
    "    p_infected=:outcome \n",
    "    => x -> sum([!occursin(\"not\", lowercase(e)) for e in x])\n",
    ")\n",
    "\n",
    "# leaving this general in case I want to reuse it later\n",
    "df_total_count = by(\n",
    "    df,\n",
    "    :gene_x,\n",
    "    p_infected=:outcome \n",
    "    => length\n",
    ")\n",
    "\n",
    "df_outcome"
   ]
  },
  {
   "cell_type": "markdown",
   "metadata": {},
   "source": [
    "(3) create a data visualization representing `df_outcome`. particularly, make a bar plot with two bars, one corresponding to wild type, the other to mutant. Then make the bar heights equal to the respective proportion of banana plants of that genetic variant that were infected by the fungus. With a different color, stack a bar *on top* of these bars to represent the proportion that were not infected. The total height of each bar (sum of the two bars of different colors, stacked on top of each other) should be 1.0 to represent the entire set of bananas falling in that group. A skeleton code is shown below as an example. properly label your x-axis, y-axis, and x-ticks, and place a legend to denote the colors."
   ]
  },
  {
   "cell_type": "code",
   "execution_count": 15,
   "metadata": {
    "ExecuteTime": {
     "end_time": "2019-10-21T09:56:53.649000-07:00",
     "start_time": "2019-10-21T16:56:53.377Z"
    },
    "scrolled": false
   },
   "outputs": [
    {
     "data": {
      "image/png": "[encoded data removed]",
      "text/plain": [
       "Figure(PyObject <Figure size 1200x400 with 1 Axes>)"
      ]
     },
     "metadata": {},
     "output_type": "display_data"
    }
   ],
   "source": [
    "num_genes = size(df_outcome)[1]\n",
    "\n",
    "(fig, ax) = subplots(1, 1, figsize=(12,4))\n",
    "\n",
    "# juuust in case\n",
    "sort!(df_outcome, :gene_x)\n",
    "sort!(df_total_count, :gene_x)\n",
    "\n",
    "# https://twitter.com/bangwong/status/492662880760655873\n",
    "plot_colors = Dict(\n",
    "    :bad => [[213, 94, 0] / 255],\n",
    "    :good => [[0, 158, 115] / 255],\n",
    ")\n",
    "\n",
    "alpha = Dict(\n",
    "    :data => 0.8,\n",
    "    :grid => 0.5,\n",
    ")\n",
    "for i in 1:num_genes\n",
    "    infected_fraction = \n",
    "        df_outcome[i, :p_infected] / df_total_count[i, :p_infected]\n",
    "    \n",
    "    bar(\n",
    "        i,\n",
    "        infected_fraction,\n",
    "        color=plot_colors[:bad], \n",
    "        alpha=alpha[:data]\n",
    "    )\n",
    "    bar(\n",
    "        i, \n",
    "        1 - infected_fraction, \n",
    "        bottom=infected_fraction,\n",
    "        color=plot_colors[:good],\n",
    "        alpha=alpha[:data]\n",
    "    )\n",
    "end\n",
    "xticks(1:num_genes, [titlecase(g) for g in df_outcome[!, :gene_x]])\n",
    "xlabel(\"Gene Type\", weight=\"bold\")\n",
    "ylabel(\"Population Fraction\", weight=\"bold\")\n",
    "legend(\n",
    "    [\"Infected\", \"Not Infected\"],\n",
    "    loc=\"upper center\", \n",
    "    bbox_to_anchor=(0.5, 1.15),\n",
    "    ncol=2, \n",
    "    framealpha=0\n",
    ")\n",
    "suptitle(\n",
    "    \"Banana Infection Rates\", \n",
    "    weight=\"bold\", \n",
    "    size=24\n",
    ")\n",
    "tight_layout()\n",
    "subplots_adjust(top=0.8);"
   ]
  },
  {
   "cell_type": "markdown",
   "metadata": {},
   "source": [
    "(4) Which genetic variant has the smallest proportion of infected plants? Can we conclude that this genetic variant is **certainly** more resistant to Panama disease than the other? If not, state a hypothetical but concrete reason why this outcome could be due to chance."
   ]
  },
  {
   "cell_type": "markdown",
   "metadata": {},
   "source": [
    "The mutant variant has the smallest portion of infected plants, however we can not conclude that it is certainly more resistant to Panama disease because of it. This difference in infection could be caused by an uneven distribution of fungus between pots, or possibly variations in environmental conditions (temperature, humidity, airflow etc.) within the greenhouse."
   ]
  },
  {
   "cell_type": "markdown",
   "metadata": {},
   "source": [
    "(5) Formally state the null hypothesis and alternative hypothesis that pertains to this experiment.\n",
    "\n",
    "Among the population of banana plants exposed to the fungus that causes Panama disease:\n",
    "\n",
    "the **null hypothesis** is that the infected population fraction of mutant and wild banana genes is identical\n",
    "\n",
    "the **alternative hypothesis** is that the infected population fraction of wild bananas is higher than that of mutant bananas"
   ]
  },
  {
   "cell_type": "markdown",
   "metadata": {},
   "source": [
    "(6) Let us define and use the following test statistic, which would differ depending on whether the null or alternative hypothesis were true:\n",
    "\n",
    "**test statistic** := (proportion of plants harboring mutant gene X that were infected) - (proportion of plants harboring wild type gene X that were infected)\n",
    "\n",
    "(6a) write a function `proportion_infected` that takes in three arguments:\n",
    "* `df_banana`, a `DataFrame` where each row is a banana, with an `:outcome` column (:infected\" or \"not infected\") and another column indicating which variant of gene X (\"wild type\" or \"mutant\") that plant harbors. `df` from (1) is an example input argument.\n",
    "* `gene_x_col_name`, a `Symbol`, the name of the column in `df_banana` that indicates which gene X variant the plants harbor (\"wild type\" or \"mutant\"). so `df_banana[1, gene_x_col_name]` gives us the variant of banana 1.\n",
    "* `gene_x`, a `String`, that can be either \"wild type\" or \"mutant\"\n",
    "\n",
    "and returns the proportion of banana plants harboring `gene_x` (`=\"wild type\"` or `=\"mutant\"`) gene X that were infected by fungus."
   ]
  },
  {
   "cell_type": "code",
   "execution_count": 5,
   "metadata": {
    "ExecuteTime": {
     "end_time": "2019-10-21T09:50:04.504000-07:00",
     "start_time": "2019-10-21T16:49:17.488Z"
    }
   },
   "outputs": [
    {
     "data": {
      "text/plain": [
       "proportion_infected"
      ]
     },
     "execution_count": 5,
     "metadata": {},
     "output_type": "execute_result"
    }
   ],
   "source": [
    "\"\"\"\n",
    "return the proportion of banana plants infected by the fungus that harbor a \n",
    "certain gene X variant\n",
    "\n",
    "NOTE: this would be a lot faster if I was allowed to use the dataframes I \n",
    "calculated earlier instead of re-filtering the main dataframe every time.\n",
    "\"\"\"\n",
    "function proportion_infected(\n",
    "        df_banana::DataFrame,\n",
    "        gene_x_col_name::Symbol, \n",
    "        gene_x::String\n",
    ")\n",
    "    num_infected = by(\n",
    "        df_banana,\n",
    "        gene_x_col_name,\n",
    "        p_infected=:outcome \n",
    "        => x -> sum([occursin(\"not\", lowercase(e)) for e in x])\n",
    "    )\n",
    "    num_total = by(\n",
    "        df_banana,\n",
    "        gene_x_col_name,\n",
    "        p_infected=:outcome \n",
    "        => length\n",
    "    )\n",
    "    infected_fraction = \n",
    "        filter(\n",
    "            row -> occursin(\n",
    "                lowercase(gene_x),\n",
    "                lowercase(row[gene_x_col_name])\n",
    "            ), \n",
    "            num_infected\n",
    "        )[1, :p_infected] /\n",
    "        filter(\n",
    "            row -> occursin(\n",
    "                lowercase(gene_x),\n",
    "                lowercase(row[gene_x_col_name])\n",
    "            ), \n",
    "            num_total\n",
    "        )[1, :p_infected]\n",
    "    return infected_fraction\n",
    "end"
   ]
  },
  {
   "cell_type": "markdown",
   "metadata": {},
   "source": [
    "(6b) write a function `difference_in_proportions_infected` that takes in two arguments:\n",
    "* `df_banana::DataFrame` as above\n",
    "* `gene_x_col_name::Symbol` as above\n",
    "\n",
    "and returns the test statistic. Inside this function, you should call your function from (6a) directly above, twice.\n",
    "\n",
    "compute the actual, observed (as opposed to simulated under the null hypothesis, which we will do next) test statistic of our data set using `df` from (1)."
   ]
  },
  {
   "cell_type": "code",
   "execution_count": 6,
   "metadata": {
    "ExecuteTime": {
     "end_time": "2019-10-21T09:50:05.181000-07:00",
     "start_time": "2019-10-21T16:49:17.497Z"
    }
   },
   "outputs": [],
   "source": [
    "\"\"\"\n",
    "p_wild_type := proportion of banana plants harboring wild type gene X infected by fungus\n",
    "p_mutant := proportion of banana plants harboring mutant gene X infected by fungus\n",
    "\n",
    "test statistic := p_mutant - p_wild_type.\n",
    "\"\"\"\n",
    "function difference_in_proportions_infected(\n",
    "    df_banana::DataFrame,\n",
    "    gene_x_col_name::Symbol\n",
    ")\n",
    "    return proportion_infected(\n",
    "        df_banana, \n",
    "        gene_x_col_name, \n",
    "        \"mutant\"\n",
    "    ) - proportion_infected(\n",
    "        df_banana, \n",
    "        gene_x_col_name, \n",
    "        \"wild\"\n",
    "    )\n",
    "end\n",
    "\n",
    "test_statistic = difference_in_proportions_infected(df, :gene_x);"
   ]
  },
  {
   "cell_type": "markdown",
   "metadata": {},
   "source": [
    "(7) imagine we are at the beginning of the experiment where we selected 60 banana plants. at this point, we are randomly selecting which banana plants receive the genetic modification on gene X and which do not. now, simulate one repetition of the banana study, **operating under the assumption that the null hypothesis is true**, by permuting the labels in the `gene_x` column of `df`. this effectively simulates the random allocation of healthy banana plants to the two groups:\n",
    "* group A: do not receive genetic modification on gene X (wild type)\n",
    "* group B: receive genetic modification on gene X (mutant)\n",
    "\n",
    "assume that the botanist plants these banana plant seeds in exactly the same pots in the greenhouse. in this conceptual experiment, the outcome (infected vs. not) would be exactly the same **if the null hypothesis were true**, since then the genetic modification makes no difference in susceptibility to fungal infection. assign the permuted labels to be a new column in `df` called `:shuffled_gene_x`."
   ]
  },
  {
   "cell_type": "code",
   "execution_count": 7,
   "metadata": {
    "ExecuteTime": {
     "end_time": "2019-10-21T09:50:05.426000-07:00",
     "start_time": "2019-10-21T16:49:17.504Z"
    },
    "scrolled": true
   },
   "outputs": [
    {
     "data": {
      "text/html": [
       "<table class=\"data-frame\"><thead><tr><th></th><th>gene_x</th><th>outcome</th><th>shuffled_gene_x</th></tr><tr><th></th><th>String</th><th>String</th><th>String</th></tr></thead><tbody><p>6 rows × 3 columns</p><tr><th>1</th><td>wild type</td><td>not infected</td><td>mutant</td></tr><tr><th>2</th><td>wild type</td><td>infected</td><td>mutant</td></tr><tr><th>3</th><td>wild type</td><td>not infected</td><td>mutant</td></tr><tr><th>4</th><td>wild type</td><td>not infected</td><td>mutant</td></tr><tr><th>5</th><td>wild type</td><td>not infected</td><td>wild type</td></tr><tr><th>6</th><td>wild type</td><td>not infected</td><td>mutant</td></tr></tbody></table>"
      ],
      "text/latex": [
       "\\begin{tabular}{r|ccc}\n",
       "\t& gene\\_x & outcome & shuffled\\_gene\\_x\\\\\n",
       "\t\\hline\n",
       "\t& String & String & String\\\\\n",
       "\t\\hline\n",
       "\t1 & wild type & not infected & mutant \\\\\n",
       "\t2 & wild type & infected & mutant \\\\\n",
       "\t3 & wild type & not infected & mutant \\\\\n",
       "\t4 & wild type & not infected & mutant \\\\\n",
       "\t5 & wild type & not infected & wild type \\\\\n",
       "\t6 & wild type & not infected & mutant \\\\\n",
       "\\end{tabular}\n"
      ],
      "text/plain": [
       "6×3 DataFrame\n",
       "│ Row │ gene_x    │ outcome      │ shuffled_gene_x │\n",
       "│     │ \u001b[90mString\u001b[39m    │ \u001b[90mString\u001b[39m       │ \u001b[90mString\u001b[39m          │\n",
       "├─────┼───────────┼──────────────┼─────────────────┤\n",
       "│ 1   │ wild type │ not infected │ mutant          │\n",
       "│ 2   │ wild type │ infected     │ mutant          │\n",
       "│ 3   │ wild type │ not infected │ mutant          │\n",
       "│ 4   │ wild type │ not infected │ mutant          │\n",
       "│ 5   │ wild type │ not infected │ wild type       │\n",
       "│ 6   │ wild type │ not infected │ mutant          │"
      ]
     },
     "execution_count": 7,
     "metadata": {},
     "output_type": "execute_result"
    }
   ],
   "source": [
    "df[!, :shuffled_gene_x] = shuffle(df[!, :gene_x])\n",
    "first(df, 6)"
   ]
  },
  {
   "cell_type": "markdown",
   "metadata": {},
   "source": [
    "(8) **operating under the assumption that the null hypothesis is true:**\n",
    "\n",
    "(8a) simulate 10,000 repetitions of the randomized banana experiment. keep track of the test statistic observed from each simulation. \n",
    "\n",
    "(8b) plot the distribution of the test statistic. make your bins for the histogram manually to ensure the bin that includes zero is centered at zero. draw a red, vertical line at the actual test statistic observed in the experiment. the mean value of the test statistic should be around zero. make sure you understand why.\n",
    "\n",
    "(8c) compute the p-value associated with our null hypothesis that you obtained from your **random permutation test**.\n",
    "\n",
    "(8d) precisely explain in a few sentences or less what this p-value represents."
   ]
  },
  {
   "cell_type": "code",
   "execution_count": 8,
   "metadata": {
    "ExecuteTime": {
     "end_time": "2019-10-21T09:50:09.539000-07:00",
     "start_time": "2019-10-21T16:49:17.511Z"
    }
   },
   "outputs": [
    {
     "data": {
      "image/png": "[encoded data removed]",
      "text/plain": [
       "Figure(PyObject <Figure size 640x480 with 1 Axes>)"
      ]
     },
     "metadata": {},
     "output_type": "display_data"
    },
    {
     "name": "stdout",
     "output_type": "stream",
     "text": [
      "p = 0.0277"
     ]
    }
   ],
   "source": [
    "num_sims = 10000\n",
    "test_stats = [NaN for _ in 1:num_sims]\n",
    "for i in 1:num_sims\n",
    "    df[!, :shuffled_gene_x] = shuffle(df[!, :gene_x])\n",
    "    test_stats[i] = difference_in_proportions_infected(df, :shuffled_gene_x)\n",
    "end\n",
    "\n",
    "bin_max = maximum(broadcast(abs, test_stats))\n",
    "bins = range(-bin_max, stop=bin_max, length=10)\n",
    "\n",
    "a = hist(test_stats, bins=bins, alpha=0.6)\n",
    "axvline(test_statistic, color=\"r\")\n",
    "xlabel(\"Difference in Infected Fraction (Mutant - Wild)\", weight=\"bold\")\n",
    "ylabel(\"# Observations\", weight=\"bold\")\n",
    "title(\"Null Hypothesis\", weight=\"bold\")\n",
    "\n",
    "p = sum(test_stats .< test_statistic) / num_sims\n",
    "print(\"p = $p\")"
   ]
  },
  {
   "cell_type": "markdown",
   "metadata": {},
   "source": [
    "what is the p-value in this context? \n",
    "\n",
    "In the context of this test the p-value represents the probability that the difference in infection that we observed in the original data set was due to random chance."
   ]
  },
  {
   "cell_type": "markdown",
   "metadata": {},
   "source": [
    "(9) if the level of significance is set at $\\alpha=0.05$, you may have the tendency to make a bold conclusion, such as \"mutating gene X confers resistance to fungal infection\" or \"mutating gene X does not influence the susceptibility to fungal infection\". however, such \"dichotomization\" is a mis-interpretation of the p-value. we must embrace uncertainty! see [this recent article in Nature](https://www.nature.com/articles/d41586-019-00857-9) where, owing to the tendency to misinterpret p-values, some scientists call for abandoning the notion of statistical significance.\n",
    "\n",
    "> \"We are calling for a stop to the use of P values in the conventional, dichotomous way -- to decide whether a result refutes or supports a scientific hypothesis\" [source](https://www.nature.com/articles/d41586-019-00857-9)\n"
   ]
  },
  {
   "cell_type": "markdown",
   "metadata": {},
   "source": [
    "## warning\n",
    "it is very easy to follow the steps and permute the labels in the `:gene_x` column without understanding *why*. please make sure to think carefully about why you can permute the labels to simualte the experiment under the null hypothesis. also think about why you cannot simulate the experiment under the alternative hypothesis.\n",
    "\n",
    "## random note on bananas\n",
    "for those interested, [here](https://www.youtube.com/watch?v=YkI3zkQ4WBo&t) is an interesting, 20-minute YouTube documentary on the banana and how it is threatened by Panama disease."
   ]
  }
 ],
 "metadata": {
  "@webio": {
   "lastCommId": null,
   "lastKernelId": null
  },
  "kernelspec": {
   "display_name": "Julia 1.2.0",
   "language": "julia",
   "name": "julia-1.2"
  },
  "language_info": {
   "file_extension": ".jl",
   "mimetype": "application/julia",
   "name": "julia",
   "version": "1.2.0"
  }
 },
 "nbformat": 4,
 "nbformat_minor": 2
}
