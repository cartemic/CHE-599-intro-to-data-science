{
 "cells": [
  {
   "cell_type": "markdown",
   "metadata": {},
   "source": [
    "# Homework 1: Monty Hall\n",
    "## Imports"
   ]
  },
  {
   "cell_type": "code",
   "execution_count": 1,
   "metadata": {
    "ExecuteTime": {
     "end_time": "2019-10-01T12:54:21.958000-07:00",
     "start_time": "2019-10-01T19:54:20.354Z"
    }
   },
   "outputs": [],
   "source": [
    "using Random\n",
    "using StatsBase"
   ]
  },
  {
   "cell_type": "markdown",
   "metadata": {},
   "source": [
    "## User Settings"
   ]
  },
  {
   "cell_type": "code",
   "execution_count": 2,
   "metadata": {
    "ExecuteTime": {
     "end_time": "2019-10-01T12:54:22.320000-07:00",
     "start_time": "2019-10-01T19:54:20.355Z"
    }
   },
   "outputs": [],
   "source": [
    "dev_mode = true\n",
    "num_sims = 1000\n",
    "num_doors = 3;"
   ]
  },
  {
   "cell_type": "markdown",
   "metadata": {},
   "source": [
    "## Data Structures"
   ]
  },
  {
   "cell_type": "code",
   "execution_count": 3,
   "metadata": {
    "ExecuteTime": {
     "end_time": "2019-10-01T12:54:22.556000-07:00",
     "start_time": "2019-10-01T19:54:20.357Z"
    }
   },
   "outputs": [],
   "source": [
    "door_options = Set{Symbol}([:goat, :car])\n",
    "\n",
    "mutable struct Door\n",
    "    open::Bool\n",
    "    contains::Symbol\n",
    "    \n",
    "    function Door(open, contains)\n",
    "        if !(contains in door_options)\n",
    "            error(\"That is not a valid door option.\")\n",
    "        end\n",
    "        new(open, contains)\n",
    "    end\n",
    "end\n",
    "\n",
    "if dev_mode\n",
    "    # these tests are because I'm new at julia and don't want to do anything \n",
    "    # too dumb\n",
    "    d = Door(false, :goat)\n",
    "    \n",
    "    # make sure door initializes as planned\n",
    "    @assert !d.open\n",
    "    @assert d.contains == :goat\n",
    "    \n",
    "    # make sure door is properly mutable\n",
    "    d.open = true\n",
    "    @assert d.open\n",
    "    d.contains = :car\n",
    "    @assert d.contains == :car\n",
    "end"
   ]
  },
  {
   "cell_type": "markdown",
   "metadata": {},
   "source": [
    "## Functions"
   ]
  },
  {
   "cell_type": "markdown",
   "metadata": {},
   "source": [
    "### `pick_a_door_at_random()`\n",
    "Write a `function pick_a_door_at_random()` that returns an integer in {1, 2, 3} at random, representing the door that the contestant chose at random."
   ]
  },
  {
   "cell_type": "code",
   "execution_count": 4,
   "metadata": {
    "ExecuteTime": {
     "end_time": "2019-10-01T12:54:22.558000-07:00",
     "start_time": "2019-10-01T19:54:20.359Z"
    }
   },
   "outputs": [],
   "source": [
    "function pick_a_door_at_random()\n",
    "    return rand(1:num_doors)\n",
    "end;"
   ]
  },
  {
   "cell_type": "markdown",
   "metadata": {},
   "source": [
    "### `set_up_doors()`\n",
    "Write a `function set_up_doors()` that constructs and returns an Array of three `Door`s`(Array{Door})` **(line 16)** such that:\n",
    "* [x] two doors have a goat behind them **(line 17)**\n",
    "* [x] one door has a car behind it **(line 18)**\n",
    "* [x] which door has the car is chosen at uniform random **(check histogram from line 13)**\n",
    "* [x] all doors are unopened **(line 19)**\n"
   ]
  },
  {
   "cell_type": "code",
   "execution_count": 5,
   "metadata": {
    "ExecuteTime": {
     "end_time": "2019-10-01T12:54:31.380000-07:00",
     "start_time": "2019-10-01T19:54:20.360Z"
    }
   },
   "outputs": [
    {
     "data": {
      "image/png": "[encoded data removed]",
      "text/plain": [
       "Figure(PyObject <Figure size 640x480 with 1 Axes>)"
      ]
     },
     "metadata": {},
     "output_type": "display_data"
    }
   ],
   "source": [
    "function set_up_doors()\n",
    "    doors = [Door(false, :goat) for _ in 1:num_doors]\n",
    "    doors[pick_a_door_at_random()].contains = :car\n",
    "    return doors\n",
    "end\n",
    "\n",
    "if dev_mode\n",
    "    using PyPlot\n",
    "    test = [NaN for _ in 1:100000]\n",
    "    for i in 1:length(test)\n",
    "        test[i] = pick_a_door_at_random()\n",
    "    end\n",
    "    hist(test)\n",
    "    \n",
    "    doors = set_up_doors()\n",
    "    @assert doors isa Array{Door}\n",
    "    @assert length(doors) == 3\n",
    "    @assert sum([d.contains == :car for d in doors]) == 1\n",
    "    @assert !any([d.open for d in doors])\n",
    "end"
   ]
  },
  {
   "cell_type": "markdown",
   "metadata": {
    "ExecuteTime": {
     "end_time": "2019-09-30T16:01:25.396000-07:00",
     "start_time": "2019-09-30T23:01:25.394Z"
    }
   },
   "source": [
    "### `open_a_door!()`\n",
    "Write a `function open_a_door!(doors::Array{Door}, first_door_id_pick::Int)`\n",
    "that opens one of the `Door`s passed to it such that:\n",
    "* [x] the door that the contestant picked, `first_door_id_pick`, is not opened **(line 21)**\n",
    "* [x] the door with the car is not opened **(line 22)**\n",
    "* [x] if two doors are viable to open, pick one at uniform random **(line 11; no assertion)**"
   ]
  },
  {
   "cell_type": "code",
   "execution_count": 6,
   "metadata": {
    "ExecuteTime": {
     "end_time": "2019-10-01T12:54:33.573000-07:00",
     "start_time": "2019-10-01T19:54:20.361Z"
    }
   },
   "outputs": [],
   "source": [
    "function open_a_door!(doors::Array{Door}, first_door_id_pick::Int)\n",
    "    valid_doors = Array{Int}(1:num_doors)\n",
    "    if !(first_door_id_pick in valid_doors)\n",
    "        error(\"That isn't even a valid door, dude.\")\n",
    "    end\n",
    "    deleteat!(valid_doors, valid_doors .== first_door_id_pick)\n",
    "    deleteat!(valid_doors, [doors[i].contains == :car for i in valid_doors])\n",
    "    if length(valid_doors) == 1\n",
    "        doors[valid_doors[1]].open = true\n",
    "    else\n",
    "        doors[rand(valid_doors)].open = true\n",
    "    end\n",
    "    \n",
    "end\n",
    "\n",
    "if dev_mode\n",
    "    for _ in 1:10000\n",
    "        doors = set_up_doors()\n",
    "        first_pick = pick_a_door_at_random()\n",
    "        open_a_door!(doors, first_pick)\n",
    "        @assert !doors[first_pick].open\n",
    "        @assert !doors[[d.contains == :car for d in doors]][1].open\n",
    "    end\n",
    "end"
   ]
  },
  {
   "cell_type": "markdown",
   "metadata": {
    "ExecuteTime": {
     "end_time": "2019-09-30T16:29:26.162000-07:00",
     "start_time": "2019-09-30T23:29:26.160Z"
    }
   },
   "source": [
    "### `switch_door_pick()`\n",
    "Write a `function switch_door_pick(doors::Array{Door}, first_door_id_pick::Int64)` that returns the index in {1, 2, 3} of the door that the contestant must pick if he/she switches from his/her initial door choice to the other unopened door. It is assumed in this function that one the Doors passed has been opened by the game host and has a goat behind it."
   ]
  },
  {
   "cell_type": "code",
   "execution_count": 7,
   "metadata": {
    "ExecuteTime": {
     "end_time": "2019-10-01T12:54:33.895000-07:00",
     "start_time": "2019-10-01T19:54:20.363Z"
    }
   },
   "outputs": [],
   "source": [
    "function switch_door_pick(doors::Array{Door}, first_door_id_pick::Int64)\n",
    "    # this could be done without rand, but it's here anyways in case I ever \n",
    "    # feel like using a non-3 number of doors for some reason\n",
    "    if !any([d.open for d in doors])\n",
    "        error(\"Host hasn't opened a door\")\n",
    "    end\n",
    "    \n",
    "    selectable_doors = Array{Int}(1:num_doors)\n",
    "    deleteat!(selectable_doors, [d.open for d in doors])\n",
    "    return rand(selectable_doors[selectable_doors .!= first_door_id_pick])\n",
    "end\n",
    "\n",
    "if dev_mode\n",
    "    good_doors = Array{Int}(1:num_doors)\n",
    "    for _ in 1:10000\n",
    "        doors = set_up_doors()\n",
    "        first_pick = pick_a_door_at_random()\n",
    "        open_a_door!(doors, first_pick)\n",
    "        new_door = switch_door_pick(doors, first_pick)\n",
    "        @assert !(new_door == first_pick)\n",
    "        @assert !doors[new_door].open\n",
    "        @assert new_door in good_doors\n",
    "    end\n",
    "end"
   ]
  },
  {
   "cell_type": "markdown",
   "metadata": {},
   "source": [
    "### `contestant_wins_car()`\n",
    "Write a `function contestant_wins_car(doors::Array{Door}, door_id_pick::Int)` that returns 'true' if the contestant picked the door with the car behind it and 'false' otherwise."
   ]
  },
  {
   "cell_type": "code",
   "execution_count": 8,
   "metadata": {
    "ExecuteTime": {
     "end_time": "2019-10-01T12:54:33.972000-07:00",
     "start_time": "2019-10-01T19:54:20.364Z"
    }
   },
   "outputs": [],
   "source": [
    "function contestant_wins_car(doors::Array{Door}, door_id_pick::Int64)\n",
    "    if doors[door_id_pick].contains == :car\n",
    "        return true\n",
    "    else\n",
    "        return false\n",
    "    end\n",
    "end\n",
    "\n",
    "if dev_mode\n",
    "    doors = set_up_doors()\n",
    "    for (i, d) in enumerate(doors)\n",
    "        if d.contains == :car\n",
    "            @assert contestant_wins_car(doors, i)\n",
    "        else\n",
    "            @assert !contestant_wins_car(doors, i)\n",
    "        end\n",
    "    end\n",
    "end"
   ]
  },
  {
   "cell_type": "markdown",
   "metadata": {},
   "source": [
    "### `simulate_Monte_Hall()`\n",
    "Write a `function simulate_Monte_Hall(switch::Bool; verbose::Bool=true)` that uses all of the functions above to simulate one Monte Hall game, and returns `true` if the contestant won and `false` otherwise. The `switch` argument specifies whether the\n",
    "contestant uses the strategy to switch doors. The `verbose` argument specifies whether the function (for debugging and illustration) prints off details of the outcome including \n",
    "* [x] what is behind each door **(line 16)**\n",
    "* [x] what door the contestant picks **(line 20)**, \n",
    "* [x] what door the game show host opened to reveal a goat **(line 21)**,\n",
    "* [x] (if applicable) the choice of the door after the contestant switches **(line 23)**, and \n",
    "* [x] finally, if the contestant won or lost **(line 27)**."
   ]
  },
  {
   "cell_type": "code",
   "execution_count": 9,
   "metadata": {
    "ExecuteTime": {
     "end_time": "2019-10-01T12:54:34.630000-07:00",
     "start_time": "2019-10-01T19:54:20.366Z"
    }
   },
   "outputs": [
    {
     "name": "stdout",
     "output_type": "stream",
     "text": [
      "Door #1 is hiding a car\n",
      "Door #2 is hiding a goat\n",
      "Door #3 is hiding a goat\n",
      "\n",
      "Begin Game...\n",
      "Contestant initially chose door #3\n",
      "Host chose door #2\n",
      "Contestant switched to door #1 and wins! :)\n"
     ]
    },
    {
     "data": {
      "text/plain": [
       "true"
      ]
     },
     "execution_count": 9,
     "metadata": {},
     "output_type": "execute_result"
    }
   ],
   "source": [
    "win_or_lose = Dict{Bool, String}(true => \"wins! :)\", false => \"loses. :(\")\n",
    "\n",
    "function simulate_Monte_Hall(switch::Bool; verbose::Bool=true)\n",
    "    doors = set_up_doors()\n",
    "    first_pick = pick_a_door_at_random()\n",
    "    open_a_door!(doors, first_pick)\n",
    "    if switch\n",
    "        second_pick = switch_door_pick(doors, first_pick)\n",
    "        outcome = contestant_wins_car(doors, second_pick)\n",
    "    else\n",
    "        outcome = contestant_wins_car(doors, first_pick)\n",
    "    end\n",
    "    \n",
    "    if verbose\n",
    "        for (i, d) in enumerate(doors)\n",
    "            println(\"Door #\", i, \" is hiding a \", d.contains)\n",
    "        end\n",
    "        println()\n",
    "        println(\"Begin Game...\")\n",
    "        println(\"Contestant initially chose door #\", first_pick)\n",
    "        println(\"Host chose door #\", (1:num_doors)[[d.open for d in doors]][1])\n",
    "        if switch\n",
    "            print(\"Contestant switched to door #\", second_pick)\n",
    "        else\n",
    "            print(\"Contestant keeps door #\", first_pick)\n",
    "        end\n",
    "        println(\" and \", win_or_lose[outcome])\n",
    "    end\n",
    "    return outcome\n",
    "end\n",
    "\n",
    "if dev_mode\n",
    "    simulate_Monte_Hall(true)\n",
    "end"
   ]
  },
  {
   "cell_type": "markdown",
   "metadata": {},
   "source": [
    "## Simulation\n",
    "Run 1000 simulations of the Monte Hall problem under the two strategies. Print off how many times the contestant won under both of the strategies."
   ]
  },
  {
   "cell_type": "code",
   "execution_count": 10,
   "metadata": {
    "ExecuteTime": {
     "end_time": "2019-10-01T12:54:34.958000-07:00",
     "start_time": "2019-10-01T19:54:20.367Z"
    }
   },
   "outputs": [
    {
     "name": "stdout",
     "output_type": "stream",
     "text": [
      "In this simulation there were 356 victories (35.6%) from keeping the first door and 688 victories (68.8%) from changing doors."
     ]
    }
   ],
   "source": [
    "strategies = Dict{Bool, String}(\n",
    "    true => \"changing doors\",\n",
    "    false => \"keeping the first door\"\n",
    ")\n",
    "victories = Dict{Bool, Int}(\n",
    "    true => 0, \n",
    "    false => 0\n",
    ")\n",
    "num_switches = length(strategies)\n",
    "for _ in 1:num_sims\n",
    "    for switch in keys(victories)\n",
    "        victories[switch] += simulate_Monte_Hall(\n",
    "            switch,\n",
    "            verbose=false\n",
    "        )\n",
    "    end\n",
    "end\n",
    "\n",
    "print(\"In this simulation there were\")\n",
    "for (i, switch) in enumerate(keys(victories))\n",
    "    num_victories = victories[switch]\n",
    "    percent = 100. * Float64(num_victories) / Float64(num_sims)\n",
    "    strategy = strategies[switch]\n",
    "    print(\" $num_victories victories ($percent%) from $strategy\")\n",
    "    if i < num_switches\n",
    "        print(\" and\")\n",
    "    else\n",
    "        print(\".\")\n",
    "    end\n",
    "end"
   ]
  }
 ],
 "metadata": {
  "kernelspec": {
   "display_name": "Julia 1.2.0",
   "language": "julia",
   "name": "julia-1.2"
  },
  "language_info": {
   "file_extension": ".jl",
   "mimetype": "application/julia",
   "name": "julia",
   "version": "1.2.0"
  }
 },
 "nbformat": 4,
 "nbformat_minor": 2
}
