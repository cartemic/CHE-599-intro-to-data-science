{
 "cells": [
  {
   "cell_type": "code",
   "execution_count": 7,
   "metadata": {
    "ExecuteTime": {
     "end_time": "2019-10-02T10:42:33.511000-07:00",
     "start_time": "2019-10-02T17:41:28.234Z"
    }
   },
   "outputs": [
    {
     "name": "stderr",
     "output_type": "stream",
     "text": [
      "┌ Info: Precompiling DataFrames [a93c6f00-e57d-5684-b7b6-d8193f3e46c0]\n",
      "└ @ Base loading.jl:1192\n",
      "┌ Info: Precompiling CSV [336ed68f-0bac-5ca0-87d4-7b16caf5d00b]\n",
      "└ @ Base loading.jl:1192\n"
     ]
    }
   ],
   "source": [
    "using DataFrames, CSV"
   ]
  },
  {
   "cell_type": "code",
   "execution_count": 8,
   "metadata": {
    "ExecuteTime": {
     "end_time": "2019-10-02T10:42:43.715000-07:00",
     "start_time": "2019-10-02T17:41:38.571Z"
    }
   },
   "outputs": [
    {
     "data": {
      "text/html": [
       "<table class=\"data-frame\"><thead><tr><th></th><th>col1</th><th>col2</th></tr><tr><th></th><th>Int32</th><th>String</th></tr></thead><tbody><p>4 rows × 2 columns</p><tr><th>1</th><td>0</td><td>a</td></tr><tr><th>2</th><td>1</td><td>b</td></tr><tr><th>3</th><td>2</td><td>c</td></tr><tr><th>4</th><td>3</td><td>d</td></tr></tbody></table>"
      ],
      "text/latex": [
       "\\begin{tabular}{r|cc}\n",
       "\t& col1 & col2\\\\\n",
       "\t\\hline\n",
       "\t& Int32 & String\\\\\n",
       "\t\\hline\n",
       "\t1 & 0 & a \\\\\n",
       "\t2 & 1 & b \\\\\n",
       "\t3 & 2 & c \\\\\n",
       "\t4 & 3 & d \\\\\n",
       "\\end{tabular}\n"
      ],
      "text/plain": [
       "4×2 DataFrame\n",
       "│ Row │ col1  │ col2   │\n",
       "│     │ \u001b[90mInt32\u001b[39m │ \u001b[90mString\u001b[39m │\n",
       "├─────┼───────┼────────┤\n",
       "│ 1   │ 0     │ a      │\n",
       "│ 2   │ 1     │ b      │\n",
       "│ 3   │ 2     │ c      │\n",
       "│ 4   │ 3     │ d      │"
      ]
     },
     "execution_count": 8,
     "metadata": {},
     "output_type": "execute_result"
    }
   ],
   "source": [
    "df = DataFrame(col1=[0, 1, 2, 3], col2 = [\"a\", \"b\", \"c\", \"d\"])"
   ]
  },
  {
   "cell_type": "code",
   "execution_count": 13,
   "metadata": {
    "ExecuteTime": {
     "end_time": "2019-10-02T10:48:23.472000-07:00",
     "start_time": "2019-10-02T17:48:20.770Z"
    }
   },
   "outputs": [
    {
     "ename": "MethodError",
     "evalue": "MethodError: no method matching getindex(::DataFrame)\nClosest candidates are:\n  getindex(::DataFrame, !Matched::Colon) at deprecated.jl:53\n  getindex(::DataFrame, !Matched::Colon, !Matched::Union{Signed, Symbol, Unsigned}) at /home/mick/.julia/packages/DataFrames/yH0f6/src/dataframe/dataframe.jl:352\n  getindex(::DataFrame, !Matched::Colon, !Matched::Union{Colon, Regex, AbstractArray{T,1} where T, All, Between, InvertedIndex}) at /home/mick/.julia/packages/DataFrames/yH0f6/src/dataframe/dataframe.jl:401\n  ...",
     "output_type": "error",
     "traceback": [
      "MethodError: no method matching getindex(::DataFrame)\nClosest candidates are:\n  getindex(::DataFrame, !Matched::Colon) at deprecated.jl:53\n  getindex(::DataFrame, !Matched::Colon, !Matched::Union{Signed, Symbol, Unsigned}) at /home/mick/.julia/packages/DataFrames/yH0f6/src/dataframe/dataframe.jl:352\n  getindex(::DataFrame, !Matched::Colon, !Matched::Union{Colon, Regex, AbstractArray{T,1} where T, All, Between, InvertedIndex}) at /home/mick/.julia/packages/DataFrames/yH0f6/src/dataframe/dataframe.jl:401\n  ...",
      "",
      "Stacktrace:",
      " [1] top-level scope at In[13]:1"
     ]
    }
   ],
   "source": [
    "getindex(df)"
   ]
  }
 ],
 "metadata": {
  "kernelspec": {
   "display_name": "Julia 1.0.4",
   "language": "julia",
   "name": "julia-1.0"
  },
  "language_info": {
   "file_extension": ".jl",
   "mimetype": "application/julia",
   "name": "julia",
   "version": "1.0.4"
  }
 },
 "nbformat": 4,
 "nbformat_minor": 2
}
