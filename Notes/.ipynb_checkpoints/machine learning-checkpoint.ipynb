{
 "cells": [
  {
   "cell_type": "markdown",
   "metadata": {},
   "source": [
    "# Algorithms\n",
    "\n",
    "## k-nearest neighbors\n",
    "* supervised learning (datasets aren't labeled)\n",
    "* non-parametric (not imposing a distribution on the data, just letting it do its thing)\n",
    "* training examples: $\\{ (\\vec{x}_{1}, y_{1}), (\\vec{x}_{2}, y_{2}), ... , (\\vec{x}_{n}, y_{n})\\} \\equiv D$\n",
    "    * $\\vec{x}_{i}$ is the feature vector\n",
    "        * a feature is some parameter you care about within the data\n",
    "        * a feature vector contains all of the features used to describe the data\n",
    "        * our features for the example are mean radius of a cancer cell and mean cell smoothness\n",
    "    * $y_{i}$ is the class label\n",
    "        \n",
    "$\\vec{x} = $ [mean radius, mean smoothness]\n",
    "\n",
    "$y \\in $ {malignant, benign}\n",
    "\n",
    "**goal:** learn the function $y(\\vec{x})$ given new $\\vec{x}$ and $D$ with unknown label, predict its label feature space (find the decision boundary and use it to classify a new data point)\n",
    "\n",
    "$$\\hat{y}(\\vec{x}) = \\frac{1}{k}\\sum_{\\vec{x}_{i} \\in N_{k}(\\vec{x})}y_{i}$$"
   ]
  }
 ],
 "metadata": {
  "kernelspec": {
   "display_name": "Julia 1.2.0",
   "language": "julia",
   "name": "julia-1.2"
  },
  "language_info": {
   "file_extension": ".jl",
   "mimetype": "application/julia",
   "name": "julia",
   "version": "1.2.0"
  }
 },
 "nbformat": 4,
 "nbformat_minor": 2
}
